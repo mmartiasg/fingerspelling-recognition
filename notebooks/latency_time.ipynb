{
 "cells": [
  {
   "cell_type": "code",
   "execution_count": 1,
   "metadata": {},
   "outputs": [
    {
     "name": "stderr",
     "output_type": "stream",
     "text": [
      "2023-08-24 11:10:17.219569: I tensorflow/core/platform/cpu_feature_guard.cc:182] This TensorFlow binary is optimized to use available CPU instructions in performance-critical operations.\n",
      "To enable the following instructions: AVX2 FMA, in other operations, rebuild TensorFlow with the appropriate compiler flags.\n",
      "2023-08-24 11:10:17.953316: W tensorflow/compiler/tf2tensorrt/utils/py_utils.cc:38] TF-TRT Warning: Could not find TensorRT\n"
     ]
    }
   ],
   "source": [
    "import tensorflow as tf\n",
    "import pandas as pd\n",
    "import numpy as np"
   ]
  },
  {
   "cell_type": "code",
   "execution_count": 2,
   "metadata": {},
   "outputs": [
    {
     "ename": "ModuleNotFoundError",
     "evalue": "No module named 'tflite_runtime'",
     "output_type": "error",
     "traceback": [
      "\u001b[0;31m---------------------------------------------------------------------------\u001b[0m",
      "\u001b[0;31mModuleNotFoundError\u001b[0m                       Traceback (most recent call last)",
      "Cell \u001b[0;32mIn[2], line 7\u001b[0m\n\u001b[1;32m      5\u001b[0m \u001b[39mimport\u001b[39;00m \u001b[39mnumpy\u001b[39;00m \u001b[39mas\u001b[39;00m \u001b[39mnp\u001b[39;00m\n\u001b[1;32m      6\u001b[0m \u001b[39mimport\u001b[39;00m \u001b[39mtime\u001b[39;00m\n\u001b[0;32m----> 7\u001b[0m \u001b[39mimport\u001b[39;00m \u001b[39mtflite_runtime\u001b[39;00m\u001b[39m.\u001b[39;00m\u001b[39minterpreter\u001b[39;00m \u001b[39mas\u001b[39;00m \u001b[39mtflite\u001b[39;00m\n\u001b[1;32m      8\u001b[0m \u001b[39m# import tflite_runtime.interpreter as tflite\u001b[39;00m\n\u001b[1;32m     10\u001b[0m \u001b[39mwith\u001b[39;00m tf\u001b[39m.\u001b[39mdevice(\u001b[39m\"\u001b[39m\u001b[39mCPU\u001b[39m\u001b[39m\"\u001b[39m) \u001b[39mas\u001b[39;00m d:\n",
      "\u001b[0;31mModuleNotFoundError\u001b[0m: No module named 'tflite_runtime'"
     ]
    }
   ],
   "source": [
    "import pandas as pd\n",
    "import tensorflow as tf\n",
    "import glob\n",
    "import json\n",
    "import numpy as np\n",
    "import time\n",
    "\n",
    "# import tflite_runtime.interpreter as tflite\n",
    "\n",
    "with tf.device(\"CPU\") as d:\n",
    "    base_dir = \"../data/\"\n",
    "\n",
    "    df = pd.read_csv(f\"{base_dir}asl-fingerspelling/train.csv\")\n",
    "    # parquet_files = glob.glob('/kaggle/input/asl-fingerspelling/train_landmarks/*.parquet')\n",
    "\n",
    "    # interpreter = tf.lite.Interpreter(\"/kaggle/input/asl-submission/model.tflite\")\n",
    "    interpreter = tf.lite.Interpreter(\"../models/model.tflite\")\n",
    "\n",
    "    REQUIRED_SIGNATURE = \"serving_default\"\n",
    "    REQUIRED_OUTPUT = \"outputs\"\n",
    "\n",
    "    with open (f\"{base_dir}asl-fingerspelling/character_to_prediction_index.json\", \"r\") as f:\n",
    "        character_map = json.load(f)\n",
    "    rev_character_map = {j:i for i,j in character_map.items()}\n",
    "\n",
    "    found_signatures = list(interpreter.get_signature_list().keys())\n",
    "\n",
    "    if REQUIRED_SIGNATURE not in found_signatures:\n",
    "        raise KernelEvalException('Required input signature not found.')\n",
    "\n",
    "# ../data/asl-fingerspelling/character_to_prediction_index.json\n",
    "    with open (f\"../models/inference_args.json\", \"r\") as f:\n",
    "        load_cols = json.load(f)\n",
    "    SEL_COLS = load_cols.get(\"selected_columns\")\n",
    "\n",
    "    prediction_fn = interpreter.get_signature_runner(\"serving_default\")\n",
    "    tot = time.time()\n",
    "    for i,(path,file_id,sequence_id,participant_id,phrase) in df.iterrows():\n",
    "        data = pd.read_parquet(f'{base_dir}asl-fingerspelling/{path}', columns=SEL_COLS)\n",
    "        start_time = time.time()\n",
    "        output = prediction_fn(inputs=data[data.index==sequence_id])\n",
    "        prediction_str = \"\".join([rev_character_map.get(s, \"\") for s in np.argmax(output[REQUIRED_OUTPUT], axis=1)])\n",
    "        if i%10==0:\n",
    "            print('infer time:', time.time()-start_time, )\n",
    "            print('pred:', prediction_str)\n",
    "            print('gt:',phrase)\n",
    "            print(' ')\n",
    "        if i==100:\n",
    "            break\n",
    "    print('avg time',(time.time()-tot)/i)\n"
   ]
  },
  {
   "cell_type": "code",
   "execution_count": null,
   "metadata": {},
   "outputs": [],
   "source": []
  }
 ],
 "metadata": {
  "kernelspec": {
   "display_name": "fingerspelling",
   "language": "python",
   "name": "python3"
  },
  "language_info": {
   "codemirror_mode": {
    "name": "ipython",
    "version": 3
   },
   "file_extension": ".py",
   "mimetype": "text/x-python",
   "name": "python",
   "nbconvert_exporter": "python",
   "pygments_lexer": "ipython3",
   "version": "3.10.12"
  },
  "orig_nbformat": 4
 },
 "nbformat": 4,
 "nbformat_minor": 2
}
