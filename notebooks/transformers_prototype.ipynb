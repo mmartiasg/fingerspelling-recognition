{
 "cells": [
  {
   "cell_type": "code",
   "execution_count": 1,
   "metadata": {},
   "outputs": [
    {
     "name": "stderr",
     "output_type": "stream",
     "text": [
      "2023-08-19 05:18:40.787395: I tensorflow/core/platform/cpu_feature_guard.cc:182] This TensorFlow binary is optimized to use available CPU instructions in performance-critical operations.\n",
      "To enable the following instructions: AVX2 FMA, in other operations, rebuild TensorFlow with the appropriate compiler flags.\n",
      "2023-08-19 05:18:41.432000: W tensorflow/compiler/tf2tensorrt/utils/py_utils.cc:38] TF-TRT Warning: Could not find TensorRT\n",
      "2023-08-19 05:18:42.181967: I tensorflow/compiler/xla/stream_executor/cuda/cuda_gpu_executor.cc:995] successful NUMA node read from SysFS had negative value (-1), but there must be at least one NUMA node, so returning NUMA node zero. See more at https://github.com/torvalds/linux/blob/v6.0/Documentation/ABI/testing/sysfs-bus-pci#L344-L355\n",
      "2023-08-19 05:18:42.202957: I tensorflow/compiler/xla/stream_executor/cuda/cuda_gpu_executor.cc:995] successful NUMA node read from SysFS had negative value (-1), but there must be at least one NUMA node, so returning NUMA node zero. See more at https://github.com/torvalds/linux/blob/v6.0/Documentation/ABI/testing/sysfs-bus-pci#L344-L355\n",
      "2023-08-19 05:18:42.203106: I tensorflow/compiler/xla/stream_executor/cuda/cuda_gpu_executor.cc:995] successful NUMA node read from SysFS had negative value (-1), but there must be at least one NUMA node, so returning NUMA node zero. See more at https://github.com/torvalds/linux/blob/v6.0/Documentation/ABI/testing/sysfs-bus-pci#L344-L355\n",
      "2023-08-19 05:18:42.203967: I tensorflow/compiler/xla/stream_executor/cuda/cuda_gpu_executor.cc:995] successful NUMA node read from SysFS had negative value (-1), but there must be at least one NUMA node, so returning NUMA node zero. See more at https://github.com/torvalds/linux/blob/v6.0/Documentation/ABI/testing/sysfs-bus-pci#L344-L355\n",
      "2023-08-19 05:18:42.204222: I tensorflow/compiler/xla/stream_executor/cuda/cuda_gpu_executor.cc:995] successful NUMA node read from SysFS had negative value (-1), but there must be at least one NUMA node, so returning NUMA node zero. See more at https://github.com/torvalds/linux/blob/v6.0/Documentation/ABI/testing/sysfs-bus-pci#L344-L355\n",
      "2023-08-19 05:18:42.204333: I tensorflow/compiler/xla/stream_executor/cuda/cuda_gpu_executor.cc:995] successful NUMA node read from SysFS had negative value (-1), but there must be at least one NUMA node, so returning NUMA node zero. See more at https://github.com/torvalds/linux/blob/v6.0/Documentation/ABI/testing/sysfs-bus-pci#L344-L355\n",
      "2023-08-19 05:18:42.682874: I tensorflow/compiler/xla/stream_executor/cuda/cuda_gpu_executor.cc:995] successful NUMA node read from SysFS had negative value (-1), but there must be at least one NUMA node, so returning NUMA node zero. See more at https://github.com/torvalds/linux/blob/v6.0/Documentation/ABI/testing/sysfs-bus-pci#L344-L355\n",
      "2023-08-19 05:18:42.683020: I tensorflow/compiler/xla/stream_executor/cuda/cuda_gpu_executor.cc:995] successful NUMA node read from SysFS had negative value (-1), but there must be at least one NUMA node, so returning NUMA node zero. See more at https://github.com/torvalds/linux/blob/v6.0/Documentation/ABI/testing/sysfs-bus-pci#L344-L355\n",
      "2023-08-19 05:18:42.683134: I tensorflow/compiler/xla/stream_executor/cuda/cuda_gpu_executor.cc:995] successful NUMA node read from SysFS had negative value (-1), but there must be at least one NUMA node, so returning NUMA node zero. See more at https://github.com/torvalds/linux/blob/v6.0/Documentation/ABI/testing/sysfs-bus-pci#L344-L355\n",
      "2023-08-19 05:18:42.683227: I tensorflow/core/common_runtime/gpu/gpu_device.cc:1639] Created device /job:localhost/replica:0/task:0/device:GPU:0 with 4715 MB memory:  -> device: 0, name: NVIDIA GeForce RTX 2080 SUPER, pci bus id: 0000:01:00.0, compute capability: 7.5\n"
     ]
    }
   ],
   "source": [
    "from src.data_utils.dataset import build_datset_train_val\n",
    "from src.Transformers.transformers_prototype import build_transformer_model\n",
    "from src.callbacks import get_predefine_callbacks\n",
    "import optuna\n",
    "import tensorflow as tf"
   ]
  },
  {
   "cell_type": "code",
   "execution_count": 2,
   "metadata": {},
   "outputs": [
    {
     "name": "stdout",
     "output_type": "stream",
     "text": [
      "train split: 28160 | val split: 6656\n"
     ]
    }
   ],
   "source": [
    "train_dataset, val_dataset = build_datset_train_val(split=0.8, batch_size=256)"
   ]
  },
  {
   "cell_type": "code",
   "execution_count": 3,
   "metadata": {},
   "outputs": [],
   "source": [
    "def objective(trial):\n",
    "    tf.keras.backend.clear_session()\n",
    "    \n",
    "    model = build_transformer_model(trial=trial)\n",
    "    model.fit(train_dataset, validation_data=val_dataset, epochs=20, callbacks=get_predefine_callbacks(model_name=\"v2\"))\n",
    "\n",
    "    levenshtein = model.evaluate(val_dataset)[-1]\n",
    "    return  levenshtein"
   ]
  },
  {
   "cell_type": "markdown",
   "metadata": {},
   "source": []
  },
  {
   "cell_type": "code",
   "execution_count": 4,
   "metadata": {},
   "outputs": [
    {
     "name": "stderr",
     "output_type": "stream",
     "text": [
      "[I 2023-08-19 05:18:44,735] A new study created in memory with name: no-name-8bebbe6d-0542-445d-8dba-d65063b28757\n"
     ]
    },
    {
     "data": {
      "application/vnd.jupyter.widget-view+json": {
       "model_id": "d4ccb44f72d140c5ae960b6214b629b5",
       "version_major": 2,
       "version_minor": 0
      },
      "text/plain": [
       "  0%|          | 0/50 [00:00<?, ?it/s]"
      ]
     },
     "metadata": {},
     "output_type": "display_data"
    },
    {
     "name": "stderr",
     "output_type": "stream",
     "text": [
      "/home/matias/pythonenv/fingerspelling/lib/python3.10/site-packages/optuna/distributions.py:700: UserWarning: The distribution is specified by [1, 8] and step=2, but the range is not divisible by `step`. It will be replaced by [1, 7].\n",
      "  warnings.warn(\n"
     ]
    },
    {
     "name": "stdout",
     "output_type": "stream",
     "text": [
      "Epoch 1/20\n"
     ]
    },
    {
     "name": "stderr",
     "output_type": "stream",
     "text": [
      "2023-08-19 05:18:49.644500: I tensorflow/compiler/xla/stream_executor/cuda/cuda_dnn.cc:432] Loaded cuDNN version 8700\n",
      "2023-08-19 05:18:50.128524: I tensorflow/tsl/platform/default/subprocess.cc:304] Start cannot spawn child process: No such file or directory\n",
      "2023-08-19 05:18:50.656763: I tensorflow/compiler/xla/service/service.cc:168] XLA service 0x555db2590300 initialized for platform CUDA (this does not guarantee that XLA will be used). Devices:\n",
      "2023-08-19 05:18:50.656791: I tensorflow/compiler/xla/service/service.cc:176]   StreamExecutor device (0): NVIDIA GeForce RTX 2080 SUPER, Compute Capability 7.5\n",
      "2023-08-19 05:18:50.663004: I tensorflow/compiler/mlir/tensorflow/utils/dump_mlir_util.cc:255] disabling MLIR crash reproducer, set env var `MLIR_CRASH_REPRODUCER_DIRECTORY` to enable.\n",
      "2023-08-19 05:18:50.734872: I tensorflow/tsl/platform/default/subprocess.cc:304] Start cannot spawn child process: No such file or directory\n",
      "2023-08-19 05:18:50.788726: I ./tensorflow/compiler/jit/device_compiler.h:186] Compiled cluster using XLA!  This line is logged at most once for the lifetime of the process.\n"
     ]
    },
    {
     "name": "stdout",
     "output_type": "stream",
     "text": [
      "    212/Unknown - 45s 169ms/step - loss: 7.1218 - accuracy: 0.3410 - sparse_levenshtein: inf"
     ]
    },
    {
     "name": "stderr",
     "output_type": "stream",
     "text": [
      "2023-08-19 05:19:30.920247: I tensorflow/core/framework/local_rendezvous.cc:405] Local rendezvous recv item cancelled. Key hash: 10394615387728924976\n",
      "2023-08-19 05:19:30.920273: I tensorflow/core/framework/local_rendezvous.cc:409] Local rendezvous send item cancelled. Key hash: 13099105851638699190\n",
      "2023-08-19 05:19:30.920280: I tensorflow/core/framework/local_rendezvous.cc:409] Local rendezvous send item cancelled. Key hash: 11851479576935725475\n",
      "2023-08-19 05:19:30.920295: I tensorflow/core/framework/local_rendezvous.cc:409] Local rendezvous send item cancelled. Key hash: 4544500555251088065\n",
      "2023-08-19 05:19:30.920305: I tensorflow/core/framework/local_rendezvous.cc:405] Local rendezvous recv item cancelled. Key hash: 106548396391659787\n",
      "2023-08-19 05:19:30.920312: I tensorflow/core/framework/local_rendezvous.cc:405] Local rendezvous recv item cancelled. Key hash: 8329285869065638153\n",
      "2023-08-19 05:19:30.920335: I tensorflow/core/framework/local_rendezvous.cc:405] Local rendezvous recv item cancelled. Key hash: 387366903659423100\n",
      "2023-08-19 05:19:30.920354: I tensorflow/core/framework/local_rendezvous.cc:405] Local rendezvous recv item cancelled. Key hash: 4706190483020647758\n",
      "2023-08-19 05:19:30.920365: I tensorflow/core/framework/local_rendezvous.cc:405] Local rendezvous recv item cancelled. Key hash: 9389924566180410530\n",
      "2023-08-19 05:19:35.263355: I tensorflow/core/framework/local_rendezvous.cc:409] Local rendezvous send item cancelled. Key hash: 8951373709279287101\n",
      "2023-08-19 05:19:35.263374: I tensorflow/core/framework/local_rendezvous.cc:405] Local rendezvous recv item cancelled. Key hash: 9886616799275287493\n",
      "2023-08-19 05:19:35.263379: I tensorflow/core/framework/local_rendezvous.cc:405] Local rendezvous recv item cancelled. Key hash: 17618607728910564153\n",
      "2023-08-19 05:19:35.263383: I tensorflow/core/framework/local_rendezvous.cc:405] Local rendezvous recv item cancelled. Key hash: 2742186671887167205\n",
      "2023-08-19 05:19:35.263386: I tensorflow/core/framework/local_rendezvous.cc:409] Local rendezvous send item cancelled. Key hash: 652821009540427615\n",
      "2023-08-19 05:19:35.263413: I tensorflow/core/framework/local_rendezvous.cc:405] Local rendezvous recv item cancelled. Key hash: 4316076417682468928\n",
      "2023-08-19 05:19:35.263433: I tensorflow/core/framework/local_rendezvous.cc:409] Local rendezvous send item cancelled. Key hash: 16337134657498378276\n",
      "2023-08-19 05:19:35.263440: I tensorflow/core/framework/local_rendezvous.cc:405] Local rendezvous recv item cancelled. Key hash: 13982511437879386092\n",
      "2023-08-19 05:19:35.263444: I tensorflow/core/framework/local_rendezvous.cc:405] Local rendezvous recv item cancelled. Key hash: 11323297292213326456\n",
      "2023-08-19 05:19:35.263448: I tensorflow/core/framework/local_rendezvous.cc:405] Local rendezvous recv item cancelled. Key hash: 13124340691835790670\n",
      "2023-08-19 05:19:35.263452: I tensorflow/core/framework/local_rendezvous.cc:405] Local rendezvous recv item cancelled. Key hash: 17601281337034954406\n",
      "2023-08-19 05:19:35.263456: I tensorflow/core/framework/local_rendezvous.cc:405] Local rendezvous recv item cancelled. Key hash: 7046469902248225012\n",
      "2023-08-19 05:19:35.263460: I tensorflow/core/framework/local_rendezvous.cc:405] Local rendezvous recv item cancelled. Key hash: 13417784111218204094\n",
      "2023-08-19 05:19:35.263464: I tensorflow/core/framework/local_rendezvous.cc:405] Local rendezvous recv item cancelled. Key hash: 657640925867908854\n",
      "2023-08-19 05:19:35.263475: I tensorflow/core/framework/local_rendezvous.cc:405] Local rendezvous recv item cancelled. Key hash: 4526587326052568930\n"
     ]
    },
    {
     "name": "stdout",
     "output_type": "stream",
     "text": [
      "212/212 [==============================] - 50s 191ms/step - loss: 7.1218 - accuracy: 0.3410 - sparse_levenshtein: inf - val_loss: 2.0401 - val_accuracy: 0.4465 - val_sparse_levenshtein: 0.9117\n",
      "Epoch 2/20\n",
      "212/212 [==============================] - 38s 181ms/step - loss: 1.9210 - accuracy: 0.4453 - sparse_levenshtein: 0.8951 - val_loss: 1.8747 - val_accuracy: 0.4550 - val_sparse_levenshtein: 0.8925\n",
      "Epoch 3/20\n",
      "212/212 [==============================] - 38s 181ms/step - loss: 1.9032 - accuracy: 0.4494 - sparse_levenshtein: 0.8903 - val_loss: 1.8730 - val_accuracy: 0.4546 - val_sparse_levenshtein: 0.8947\n",
      "Epoch 4/20\n",
      "212/212 [==============================] - 39s 184ms/step - loss: 1.8707 - accuracy: 0.4545 - sparse_levenshtein: 0.8856 - val_loss: 1.8625 - val_accuracy: 0.4610 - val_sparse_levenshtein: 0.9171\n",
      "Epoch 5/20\n",
      "212/212 [==============================] - 40s 188ms/step - loss: 1.8693 - accuracy: 0.4566 - sparse_levenshtein: 0.8836 - val_loss: 1.9212 - val_accuracy: 0.4458 - val_sparse_levenshtein: 0.9646\n",
      "Epoch 6/20\n",
      "212/212 [==============================] - 38s 179ms/step - loss: 1.8954 - accuracy: 0.4512 - sparse_levenshtein: 0.9149 - val_loss: 1.8660 - val_accuracy: 0.4596 - val_sparse_levenshtein: 0.8888\n",
      "Epoch 7/20\n",
      "212/212 [==============================] - 35s 167ms/step - loss: 1.8448 - accuracy: 0.4616 - sparse_levenshtein: 0.8748 - val_loss: 1.8459 - val_accuracy: 0.4641 - val_sparse_levenshtein: 0.8746\n",
      "Epoch 8/20\n",
      "180/212 [========================>.....] - ETA: 4s - loss: 1.8416 - accuracy: 0.4658 - sparse_levenshtein: 0.8688"
     ]
    }
   ],
   "source": [
    "study = optuna.create_study(direction='minimize')\n",
    "study.optimize(objective, n_trials=50, gc_after_trial=True, show_progress_bar=True)"
   ]
  },
  {
   "cell_type": "code",
   "execution_count": null,
   "metadata": {},
   "outputs": [],
   "source": [
    "tf.keras.backend.clear_session()\n",
    "\n",
    "trials = study.best_trials\n",
    "\n",
    "for index, trial in enumerate(trials):\n",
    "    print(f\"Best model: {index+1}\")\n",
    "    model_name = \"v2\"\n",
    "\n",
    "    model = build_gru_model(trial=trial)\n",
    "    model.fit(train_dataset, validation_data=val_dataset, epochs=5000, callbacks=get_predefine_callbacks(model_name=model_name))\n",
    "    print(model.summary())\n",
    "\n",
    "    print('validation levenshtein distance: {}'.format(trial.value))\n",
    "    print(\"Best hyperparameters: {}\".format(trial.params))\n",
    "\n",
    "    model.load_weights(f\"../best_model/prototype/{model_name}\")\n",
    "\n",
    "    print(f\"Metrics in Validation: {model.evaluate(val_dataset)}\")"
   ]
  }
 ],
 "metadata": {
  "kernelspec": {
   "display_name": "fingerspelling",
   "language": "python",
   "name": "python3"
  },
  "language_info": {
   "codemirror_mode": {
    "name": "ipython",
    "version": 3
   },
   "file_extension": ".py",
   "mimetype": "text/x-python",
   "name": "python",
   "nbconvert_exporter": "python",
   "pygments_lexer": "ipython3",
   "version": "3.10.12"
  },
  "orig_nbformat": 4
 },
 "nbformat": 4,
 "nbformat_minor": 2
}
