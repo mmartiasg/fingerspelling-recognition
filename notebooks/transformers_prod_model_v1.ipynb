{
 "cells": [
  {
   "cell_type": "code",
   "execution_count": null,
   "metadata": {},
   "outputs": [],
   "source": [
    "from src.data_utils.dataset import build_datset_train_val\n",
    "from src.prod_models.builder import build_prod_transformer_model_v1\n",
    "from src.callbacks import get_predefine_callbacks\n",
    "import optuna\n",
    "import tensorflow as tf\n",
    "from src.constants import TARGET_MAX_LENGHT, MAX_LENGHT_SOURCE\n",
    "\n",
    "TRIALS=3\n",
    "EPOCHS=5000\n",
    "EPOCHS_PER_TRIAL=15\n",
    "BATCH_SIZE = 128\n",
    "TRAIN_SPLIT = 0.8"
   ]
  },
  {
   "cell_type": "code",
   "execution_count": null,
   "metadata": {},
   "outputs": [],
   "source": [
    "train_dataset, val_dataset = build_datset_train_val(split=TRAIN_SPLIT, batch_size=BATCH_SIZE)"
   ]
  },
  {
   "cell_type": "code",
   "execution_count": null,
   "metadata": {},
   "outputs": [],
   "source": [
    "def objective(trial):\n",
    "    tf.keras.backend.clear_session()\n",
    "\n",
    "    model = build_prod_transformer_model_v1(trial=trial)\n",
    "    model.fit(train_dataset, validation_data=val_dataset, epochs=EPOCHS_PER_TRIAL, callbacks=get_predefine_callbacks(model_name=\"prod_v1\"))\n",
    "\n",
    "    levenshtein = model.evaluate(val_dataset)[-1]\n",
    "    # val_loss = model.evaluate(val_dataset)[0]\n",
    "    # return  val_loss\n",
    "    return  levenshtein"
   ]
  },
  {
   "cell_type": "code",
   "execution_count": null,
   "metadata": {},
   "outputs": [],
   "source": [
    "study = optuna.create_study(direction='minimize', storage=\"sqlite:///db.sqlite3\", study_name=\"prod_v1\")\n",
    "study.optimize(objective, n_trials=TRIALS, gc_after_trial=True, show_progress_bar=True)"
   ]
  },
  {
   "cell_type": "code",
   "execution_count": null,
   "metadata": {},
   "outputs": [],
   "source": [
    "tf.keras.backend.clear_session()\n",
    "trials = study.best_trials\n",
    "\n",
    "for index, trial in enumerate(trials):\n",
    "    print(f\"Best model: {index+1}\")\n",
    "    model_name = \"prod_v1\"\n",
    "\n",
    "    model = build_prod_transformer_model_v1(trial=trial)\n",
    "    model.fit(train_dataset, validation_data=val_dataset, epochs=EPOCHS, callbacks=get_predefine_callbacks(model_name=model_name))\n",
    "    print(model.summary())\n",
    "\n",
    "    print('validation levenshtein distance: {}'.format(trial.value))\n",
    "    print(\"Best hyperparameters: {}\".format(trial.params))\n",
    "\n",
    "    model.load_weights(f\"../best_model/prototype/{model_name}\")\n",
    "\n",
    "    print(f\"Metrics in Validation: {model.evaluate(val_dataset)}\")"
   ]
  },
  {
   "cell_type": "code",
   "execution_count": null,
   "metadata": {},
   "outputs": [],
   "source": [
    "# save model\n",
    "\n",
    "model.save(\"../models/prod_v1.keras\", save_format=\"keras\")"
   ]
  },
  {
   "cell_type": "code",
   "execution_count": null,
   "metadata": {},
   "outputs": [],
   "source": [
    "from src.data_utils.dataset import char_to_num, num_to_char"
   ]
  },
  {
   "cell_type": "code",
   "execution_count": null,
   "metadata": {},
   "outputs": [],
   "source": [
    "target_sequence = [char_to_num[w] for w in [\"<\"]]\n",
    "\n",
    "for batch_index, batch in enumerate(val_dataset):\n",
    "    batch = batch[0]\n",
    "\n",
    "    sources = batch[\"source\"]\n",
    "    targets = batch[\"target\"]\n",
    "    \n",
    "    print(sources.shape)\n",
    "    print(targets.shape)\n",
    "\n",
    "    for index_sample, (source, target) in enumerate(zip(sources, targets)):\n",
    "        source = tf.expand_dims(source, axis=0)\n",
    "        target_sequence = [char_to_num[w] for w in [\"<\"]]\n",
    "        y_true = \"\".join([num_to_char[w] for w in target.numpy()])\n",
    "    \n",
    "        for i in range(TARGET_MAX_LENGHT):\n",
    "            next_token = tf.expand_dims(tf.pad(tf.constant(target_sequence), [[0, TARGET_MAX_LENGHT-len(target_sequence)]], mode='CONSTANT', constant_values=0, name=None), axis=0)\n",
    "\n",
    "            print(\"next target sequence to predict: \", next_token)\n",
    "\n",
    "            y_pred = model({\"source\": source, \"target\": next_token})\n",
    "\n",
    "            y_pred = tf.cast(tf.argmax(y_pred, axis=2), dtype=tf.int32)\n",
    "\n",
    "            print(\"argmax:\", y_pred)\n",
    "\n",
    "            mask = tf.not_equal(y_pred, 0)\n",
    "            next_token = y_pred[mask][-1].numpy()\n",
    "\n",
    "            target_sequence.append(next_token)\n",
    "\n",
    "            print(\"sequence so far: \", \"\".join([num_to_char[w] for w in target_sequence]))\n",
    "            print(\"Label: \", y_true)\n",
    "\n",
    "            if num_to_char[next_token]==\">\":\n",
    "                break\n",
    "\n",
    "        print(f\"================================={index_sample}=========================================\")\n",
    "        if index_sample==1:\n",
    "            break\n",
    "\n",
    "    if batch_index==1:\n",
    "        break"
   ]
  },
  {
   "cell_type": "code",
   "execution_count": null,
   "metadata": {},
   "outputs": [],
   "source": [
    "from src.custom.metrics import SparseLevenshtein\n",
    "\n",
    "model_loaded = tf.keras.models.load_model(\"../models/prod_v1.keras\", custom_objects={\"SparseLevenshtein\": SparseLevenshtein})"
   ]
  },
  {
   "cell_type": "code",
   "execution_count": null,
   "metadata": {},
   "outputs": [],
   "source": [
    "#after register class as serializable\n",
    "model_loaded = tf.keras.models.load_model(\"../models/prod_v1.keras\")"
   ]
  }
 ],
 "metadata": {
  "kernelspec": {
   "display_name": "fingerspelling",
   "language": "python",
   "name": "python3"
  },
  "language_info": {
   "codemirror_mode": {
    "name": "ipython",
    "version": 3
   },
   "file_extension": ".py",
   "mimetype": "text/x-python",
   "name": "python",
   "nbconvert_exporter": "python",
   "pygments_lexer": "ipython3",
   "version": "3.10.12"
  },
  "orig_nbformat": 4
 },
 "nbformat": 4,
 "nbformat_minor": 2
}
