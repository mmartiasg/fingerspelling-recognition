{
 "cells": [
  {
   "cell_type": "code",
   "execution_count": null,
   "metadata": {},
   "outputs": [],
   "source": [
    "%load_ext autoreload\n",
    "%autoreload 2\n",
    "\n",
    "import tensorflow as tf\n",
    "\n",
    "from src.custom.layers import LandmarkEmbeddingV2, LandmarkEmbedding"
   ]
  },
  {
   "cell_type": "code",
   "execution_count": null,
   "metadata": {},
   "outputs": [],
   "source": [
    "# input 1, 120, 84\n",
    "# output 1, 120, 64(embedding size)\n",
    "\n",
    "with tf.device(\"CPU\") as d:\n",
    "    example = tf.concat([tf.random.uniform(shape=(1, 120, 10)), tf.zeros(shape=(1, 120, 10))], axis=2)\n",
    "    embedding_v1 = LandmarkEmbedding(max_seq_length=example.shape[1], embedings_dim=16)(example)\n",
    "    embedding_v1_global = tf.keras.layers.MaxPooling1D() (embedding_v1)"
   ]
  },
  {
   "cell_type": "code",
   "execution_count": 47,
   "metadata": {},
   "outputs": [
    {
     "data": {
      "text/plain": [
       "array([[-0.01085198,  0.03209967,  0.03633299,  0.11093532, -0.00099474,\n",
       "         0.02518087,  0.03662939, -0.02049491]], dtype=float32)"
      ]
     },
     "execution_count": 47,
     "metadata": {},
     "output_type": "execute_result"
    }
   ],
   "source": [
    "embedding_v1.numpy()[:, 3, :8]"
   ]
  },
  {
   "cell_type": "code",
   "execution_count": 48,
   "metadata": {},
   "outputs": [
    {
     "data": {
      "text/plain": [
       "array([[-0.03285915,  0.0029701 ,  0.01096784,  0.07470722,  0.12983623,\n",
       "         0.07551292,  0.03705879,  0.02305299]], dtype=float32)"
      ]
     },
     "execution_count": 48,
     "metadata": {},
     "output_type": "execute_result"
    }
   ],
   "source": [
    "embedding_v1.numpy()[:, 3, 8:]"
   ]
  },
  {
   "cell_type": "code",
   "execution_count": 50,
   "metadata": {},
   "outputs": [],
   "source": [
    "# input 1, 120, 84\n",
    "# output 1, 120, 64(embedding size)\n",
    "\n",
    "with tf.device(\"CPU\") as d:\n",
    "    example = tf.concat([tf.random.uniform(shape=(1, 120, 10)), tf.zeros(shape=(1, 120, 10))], axis=2)\n",
    "    embedding_v2 = LandmarkEmbeddingV2(max_seq_length=example.shape[1], embedings_dim=16)(example)\n",
    "    embedding_v2_global = tf.keras.layers.MaxPooling1D() (embedding_v1)"
   ]
  },
  {
   "cell_type": "code",
   "execution_count": 54,
   "metadata": {},
   "outputs": [
    {
     "data": {
      "text/plain": [
       "<tf.Tensor: shape=(1, 8, 16), dtype=float32, numpy=\n",
       "array([[[0.09464418, 0.        , 0.        , 0.00812051, 0.        ,\n",
       "         0.        , 0.10896625, 0.04925282, 0.25329977, 0.        ,\n",
       "         0.        , 0.        , 0.08235689, 0.09233984, 0.08808932,\n",
       "         0.        ],\n",
       "        [0.        , 0.        , 0.        , 0.        , 0.        ,\n",
       "         0.        , 0.1843084 , 0.03365577, 0.25340894, 0.        ,\n",
       "         0.        , 0.05378824, 0.1607976 , 0.1761772 , 0.10532144,\n",
       "         0.        ],\n",
       "        [0.04267894, 0.00639175, 0.05484967, 0.        , 0.1212037 ,\n",
       "         0.        , 0.30545348, 0.14641222, 0.13824981, 0.        ,\n",
       "         0.        , 0.2945755 , 0.10249932, 0.01398341, 0.15127106,\n",
       "         0.        ],\n",
       "        [0.10497778, 0.08764037, 0.01495724, 0.        , 0.05379348,\n",
       "         0.03941846, 0.37582898, 0.02180339, 0.19262014, 0.        ,\n",
       "         0.        , 0.13429514, 0.11878841, 0.        , 0.14607774,\n",
       "         0.        ],\n",
       "        [0.        , 0.00937076, 0.02925382, 0.03820079, 0.01252871,\n",
       "         0.01201315, 0.4023433 , 0.        , 0.18818629, 0.        ,\n",
       "         0.0268778 , 0.26844317, 0.00078167, 0.        , 0.22306718,\n",
       "         0.        ],\n",
       "        [0.06544708, 0.00637556, 0.        , 0.        , 0.09736173,\n",
       "         0.03080693, 0.33566424, 0.        , 0.11258187, 0.        ,\n",
       "         0.04415207, 0.29448247, 0.04864986, 0.01191497, 0.15559736,\n",
       "         0.        ],\n",
       "        [0.10845992, 0.08025443, 0.09963945, 0.        , 0.17318654,\n",
       "         0.04095723, 0.23197691, 0.        , 0.07836192, 0.        ,\n",
       "         0.        , 0.3080571 , 0.00999261, 0.        , 0.10292636,\n",
       "         0.        ],\n",
       "        [0.05732902, 0.15995575, 0.07371743, 0.        , 0.15607616,\n",
       "         0.22478998, 0.2171753 , 0.        , 0.02188759, 0.02311497,\n",
       "         0.04257308, 0.21256456, 0.        , 0.        , 0.01975368,\n",
       "         0.        ]]], dtype=float32)>"
      ]
     },
     "execution_count": 54,
     "metadata": {},
     "output_type": "execute_result"
    }
   ],
   "source": [
    "embedding_v2"
   ]
  },
  {
   "cell_type": "code",
   "execution_count": 51,
   "metadata": {},
   "outputs": [
    {
     "data": {
      "text/plain": [
       "array([[0.10497778, 0.08764037, 0.01495724, 0.        , 0.05379348,\n",
       "        0.03941846, 0.37582898, 0.02180339]], dtype=float32)"
      ]
     },
     "execution_count": 51,
     "metadata": {},
     "output_type": "execute_result"
    }
   ],
   "source": [
    "embedding_v2.numpy()[:, 3, :8]"
   ]
  },
  {
   "cell_type": "code",
   "execution_count": 52,
   "metadata": {},
   "outputs": [
    {
     "data": {
      "text/plain": [
       "array([[0.        , 0.        , 0.        , 0.2830974 , 0.        ,\n",
       "        0.06640601, 0.16579297, 0.07952956]], dtype=float32)"
      ]
     },
     "execution_count": 52,
     "metadata": {},
     "output_type": "execute_result"
    }
   ],
   "source": [
    "embedding_v1.numpy()[:, 3, 8:]"
   ]
  },
  {
   "cell_type": "code",
   "execution_count": 53,
   "metadata": {},
   "outputs": [
    {
     "data": {
      "text/plain": [
       "<tf.Tensor: shape=(1, 4, 16), dtype=float32, numpy=\n",
       "array([[[0.        , 0.09814413, 0.05674899, 0.16920596, 0.10009627,\n",
       "         0.        , 0.        , 0.        , 0.        , 0.        ,\n",
       "         0.        , 0.23619582, 0.        , 0.30828908, 0.08720254,\n",
       "         0.24923205],\n",
       "        [0.        , 0.1103146 , 0.09330197, 0.31628802, 0.08891925,\n",
       "         0.        , 0.        , 0.        , 0.        , 0.        ,\n",
       "         0.        , 0.2830974 , 0.        , 0.06640601, 0.25431204,\n",
       "         0.07952956],\n",
       "        [0.        , 0.04474241, 0.02492156, 0.3198914 , 0.16038942,\n",
       "         0.        , 0.        , 0.        , 0.11757287, 0.        ,\n",
       "         0.        , 0.3291516 , 0.        , 0.20944715, 0.1500537 ,\n",
       "         0.2528688 ],\n",
       "        [0.        , 0.        , 0.08513737, 0.12256526, 0.05610771,\n",
       "         0.        , 0.        , 0.        , 0.17094883, 0.        ,\n",
       "         0.        , 0.22840646, 0.00790988, 0.19344397, 0.15497917,\n",
       "         0.        ]]], dtype=float32)>"
      ]
     },
     "execution_count": 53,
     "metadata": {},
     "output_type": "execute_result"
    }
   ],
   "source": [
    "embedding_v2_global"
   ]
  },
  {
   "cell_type": "code",
   "execution_count": 55,
   "metadata": {},
   "outputs": [
    {
     "data": {
      "text/plain": [
       "<tf.Tensor: shape=(), dtype=int32, numpy=-1>"
      ]
     },
     "execution_count": 55,
     "metadata": {},
     "output_type": "execute_result"
    }
   ],
   "source": [
    "tf.constant(-1)"
   ]
  },
  {
   "cell_type": "code",
   "execution_count": null,
   "metadata": {},
   "outputs": [],
   "source": []
  }
 ],
 "metadata": {
  "kernelspec": {
   "display_name": "fingerspelling",
   "language": "python",
   "name": "python3"
  },
  "language_info": {
   "codemirror_mode": {
    "name": "ipython",
    "version": 3
   },
   "file_extension": ".py",
   "mimetype": "text/x-python",
   "name": "python",
   "nbconvert_exporter": "python",
   "pygments_lexer": "ipython3",
   "version": "3.10.12"
  },
  "orig_nbformat": 4
 },
 "nbformat": 4,
 "nbformat_minor": 2
}
