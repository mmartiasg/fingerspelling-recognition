{
 "cells": [
  {
   "cell_type": "code",
   "execution_count": 1,
   "metadata": {},
   "outputs": [
    {
     "name": "stderr",
     "output_type": "stream",
     "text": [
      "2023-08-24 22:57:57.040020: I tensorflow/core/platform/cpu_feature_guard.cc:182] This TensorFlow binary is optimized to use available CPU instructions in performance-critical operations.\n",
      "To enable the following instructions: AVX2 FMA, in other operations, rebuild TensorFlow with the appropriate compiler flags.\n",
      "2023-08-24 22:57:57.676470: W tensorflow/compiler/tf2tensorrt/utils/py_utils.cc:38] TF-TRT Warning: Could not find TensorRT\n",
      "2023-08-24 22:57:58.390419: I tensorflow/compiler/xla/stream_executor/cuda/cuda_gpu_executor.cc:995] successful NUMA node read from SysFS had negative value (-1), but there must be at least one NUMA node, so returning NUMA node zero. See more at https://github.com/torvalds/linux/blob/v6.0/Documentation/ABI/testing/sysfs-bus-pci#L344-L355\n",
      "2023-08-24 22:57:58.409044: I tensorflow/compiler/xla/stream_executor/cuda/cuda_gpu_executor.cc:995] successful NUMA node read from SysFS had negative value (-1), but there must be at least one NUMA node, so returning NUMA node zero. See more at https://github.com/torvalds/linux/blob/v6.0/Documentation/ABI/testing/sysfs-bus-pci#L344-L355\n",
      "2023-08-24 22:57:58.409188: I tensorflow/compiler/xla/stream_executor/cuda/cuda_gpu_executor.cc:995] successful NUMA node read from SysFS had negative value (-1), but there must be at least one NUMA node, so returning NUMA node zero. See more at https://github.com/torvalds/linux/blob/v6.0/Documentation/ABI/testing/sysfs-bus-pci#L344-L355\n",
      "2023-08-24 22:57:58.410125: I tensorflow/compiler/xla/stream_executor/cuda/cuda_gpu_executor.cc:995] successful NUMA node read from SysFS had negative value (-1), but there must be at least one NUMA node, so returning NUMA node zero. See more at https://github.com/torvalds/linux/blob/v6.0/Documentation/ABI/testing/sysfs-bus-pci#L344-L355\n",
      "2023-08-24 22:57:58.410245: I tensorflow/compiler/xla/stream_executor/cuda/cuda_gpu_executor.cc:995] successful NUMA node read from SysFS had negative value (-1), but there must be at least one NUMA node, so returning NUMA node zero. See more at https://github.com/torvalds/linux/blob/v6.0/Documentation/ABI/testing/sysfs-bus-pci#L344-L355\n",
      "2023-08-24 22:57:58.410353: I tensorflow/compiler/xla/stream_executor/cuda/cuda_gpu_executor.cc:995] successful NUMA node read from SysFS had negative value (-1), but there must be at least one NUMA node, so returning NUMA node zero. See more at https://github.com/torvalds/linux/blob/v6.0/Documentation/ABI/testing/sysfs-bus-pci#L344-L355\n",
      "2023-08-24 22:57:58.834043: I tensorflow/compiler/xla/stream_executor/cuda/cuda_gpu_executor.cc:995] successful NUMA node read from SysFS had negative value (-1), but there must be at least one NUMA node, so returning NUMA node zero. See more at https://github.com/torvalds/linux/blob/v6.0/Documentation/ABI/testing/sysfs-bus-pci#L344-L355\n",
      "2023-08-24 22:57:58.834186: I tensorflow/compiler/xla/stream_executor/cuda/cuda_gpu_executor.cc:995] successful NUMA node read from SysFS had negative value (-1), but there must be at least one NUMA node, so returning NUMA node zero. See more at https://github.com/torvalds/linux/blob/v6.0/Documentation/ABI/testing/sysfs-bus-pci#L344-L355\n",
      "2023-08-24 22:57:58.834299: I tensorflow/compiler/xla/stream_executor/cuda/cuda_gpu_executor.cc:995] successful NUMA node read from SysFS had negative value (-1), but there must be at least one NUMA node, so returning NUMA node zero. See more at https://github.com/torvalds/linux/blob/v6.0/Documentation/ABI/testing/sysfs-bus-pci#L344-L355\n",
      "2023-08-24 22:57:58.834391: I tensorflow/core/common_runtime/gpu/gpu_device.cc:1639] Created device /job:localhost/replica:0/task:0/device:GPU:0 with 5245 MB memory:  -> device: 0, name: NVIDIA GeForce RTX 2080 SUPER, pci bus id: 0000:01:00.0, compute capability: 7.5\n"
     ]
    }
   ],
   "source": [
    "from src.data_utils.dataset import build_datset_train_val\n",
    "from src.Transformers.transformers_prototype import build_transformer_model_v2\n",
    "from src.callbacks import get_predefine_callbacks\n",
    "import optuna\n",
    "import tensorflow as tf\n",
    "from src.constants import TARGET_MAX_LENGHT, MAX_LENGHT_SOURCE\n",
    "\n",
    "TRIALS=15\n",
    "EPOCHS=5000\n",
    "EPOCHS_PER_TRIAL=10\n",
    "BATCH_SIZE = 256"
   ]
  },
  {
   "cell_type": "code",
   "execution_count": 2,
   "metadata": {},
   "outputs": [
    {
     "name": "stdout",
     "output_type": "stream",
     "text": [
      "train split: 28160 | val split: 6656\n"
     ]
    }
   ],
   "source": [
    "train_dataset, val_dataset = build_datset_train_val(split=0.8, batch_size=BATCH_SIZE)"
   ]
  },
  {
   "cell_type": "code",
   "execution_count": 3,
   "metadata": {},
   "outputs": [],
   "source": [
    "def objective(trial):\n",
    "    tf.keras.backend.clear_session()\n",
    "\n",
    "    model = build_transformer_model_v2(trial=trial)\n",
    "    model.fit(train_dataset, validation_data=val_dataset, epochs=EPOCHS_PER_TRIAL, callbacks=get_predefine_callbacks(model_name=\"v2\"), verbose=0)\n",
    "\n",
    "    levenshtein = model.evaluate(val_dataset)[-1]\n",
    "    # val_loss = model.evaluate(val_dataset)[0]\n",
    "    # return  val_loss\n",
    "    return  levenshtein "
   ]
  },
  {
   "cell_type": "code",
   "execution_count": 4,
   "metadata": {},
   "outputs": [
    {
     "name": "stderr",
     "output_type": "stream",
     "text": [
      "[I 2023-08-24 22:57:59,792] A new study created in memory with name: no-name-61c999bc-e0b9-4c23-ba91-7a3e076f0176\n"
     ]
    },
    {
     "data": {
      "application/vnd.jupyter.widget-view+json": {
       "model_id": "4d6ac10c932d4b69b97345afcbdd1019",
       "version_major": 2,
       "version_minor": 0
      },
      "text/plain": [
       "  0%|          | 0/15 [00:00<?, ?it/s]"
      ]
     },
     "metadata": {},
     "output_type": "display_data"
    },
    {
     "name": "stderr",
     "output_type": "stream",
     "text": [
      "2023-08-24 22:58:04.032933: I tensorflow/compiler/xla/stream_executor/cuda/cuda_dnn.cc:432] Loaded cuDNN version 8700\n",
      "2023-08-24 22:58:04.508458: I tensorflow/tsl/platform/default/subprocess.cc:304] Start cannot spawn child process: No such file or directory\n",
      "2023-08-24 22:58:04.625373: I tensorflow/compiler/xla/service/service.cc:168] XLA service 0x7f8e73ac7fa0 initialized for platform CUDA (this does not guarantee that XLA will be used). Devices:\n",
      "2023-08-24 22:58:04.625388: I tensorflow/compiler/xla/service/service.cc:176]   StreamExecutor device (0): NVIDIA GeForce RTX 2080 SUPER, Compute Capability 7.5\n",
      "2023-08-24 22:58:04.628604: I tensorflow/compiler/mlir/tensorflow/utils/dump_mlir_util.cc:255] disabling MLIR crash reproducer, set env var `MLIR_CRASH_REPRODUCER_DIRECTORY` to enable.\n",
      "2023-08-24 22:58:04.674351: I tensorflow/tsl/platform/default/subprocess.cc:304] Start cannot spawn child process: No such file or directory\n",
      "2023-08-24 22:58:04.711520: I ./tensorflow/compiler/jit/device_compiler.h:186] Compiled cluster using XLA!  This line is logged at most once for the lifetime of the process.\n",
      "2023-08-24 22:58:15.251570: I tensorflow/core/framework/local_rendezvous.cc:409] Local rendezvous send item cancelled. Key hash: 12789179397444711400\n",
      "2023-08-24 22:58:15.251601: I tensorflow/core/framework/local_rendezvous.cc:405] Local rendezvous recv item cancelled. Key hash: 12757268079264787330\n",
      "2023-08-24 22:58:15.251611: I tensorflow/core/framework/local_rendezvous.cc:409] Local rendezvous send item cancelled. Key hash: 10990211106464804588\n",
      "2023-08-24 22:58:15.251617: I tensorflow/core/framework/local_rendezvous.cc:405] Local rendezvous recv item cancelled. Key hash: 14860512762015049777\n",
      "2023-08-24 22:58:15.251627: I tensorflow/core/framework/local_rendezvous.cc:409] Local rendezvous send item cancelled. Key hash: 10990071020402229689\n",
      "2023-08-24 22:58:15.251632: I tensorflow/core/framework/local_rendezvous.cc:405] Local rendezvous recv item cancelled. Key hash: 11370754030368127273\n",
      "2023-08-24 22:58:15.251635: I tensorflow/core/framework/local_rendezvous.cc:405] Local rendezvous recv item cancelled. Key hash: 8542904430646633255\n",
      "2023-08-24 22:58:15.251639: I tensorflow/core/framework/local_rendezvous.cc:405] Local rendezvous recv item cancelled. Key hash: 8289598459778923579\n",
      "2023-08-24 22:58:15.251648: I tensorflow/core/framework/local_rendezvous.cc:405] Local rendezvous recv item cancelled. Key hash: 13682256198359690865\n",
      "2023-08-24 22:58:16.965275: I tensorflow/core/framework/local_rendezvous.cc:405] Local rendezvous recv item cancelled. Key hash: 16095602415123077184\n",
      "2023-08-24 22:58:16.965297: I tensorflow/core/framework/local_rendezvous.cc:409] Local rendezvous send item cancelled. Key hash: 17535754892709585906\n",
      "2023-08-24 22:58:16.965354: I tensorflow/core/framework/local_rendezvous.cc:405] Local rendezvous recv item cancelled. Key hash: 5849242914279490595\n",
      "2023-08-24 22:58:16.965368: I tensorflow/core/framework/local_rendezvous.cc:405] Local rendezvous recv item cancelled. Key hash: 8066278439353247687\n",
      "2023-08-24 22:58:16.965373: I tensorflow/core/framework/local_rendezvous.cc:405] Local rendezvous recv item cancelled. Key hash: 14516621110824212481\n",
      "2023-08-24 22:58:16.965377: I tensorflow/core/framework/local_rendezvous.cc:405] Local rendezvous recv item cancelled. Key hash: 14008166818337827301\n",
      "2023-08-24 22:58:16.965384: I tensorflow/core/framework/local_rendezvous.cc:405] Local rendezvous recv item cancelled. Key hash: 67879104660294989\n",
      "2023-08-24 22:58:16.965387: I tensorflow/core/framework/local_rendezvous.cc:409] Local rendezvous send item cancelled. Key hash: 12703570333243321843\n",
      "2023-08-24 22:58:16.965390: I tensorflow/core/framework/local_rendezvous.cc:409] Local rendezvous send item cancelled. Key hash: 5441464833045790559\n"
     ]
    },
    {
     "name": "stdout",
     "output_type": "stream",
     "text": [
      "37/37 [==============================] - 1s 20ms/step - loss: 0.8133 - accuracy: 0.7608 - sparse_levenshtein_v1: 0.2352\n"
     ]
    },
    {
     "name": "stderr",
     "output_type": "stream",
     "text": [
      "2023-08-24 22:59:20.557069: I tensorflow/core/framework/local_rendezvous.cc:405] Local rendezvous recv item cancelled. Key hash: 16095602415123077184\n",
      "2023-08-24 22:59:20.557088: I tensorflow/core/framework/local_rendezvous.cc:405] Local rendezvous recv item cancelled. Key hash: 15244035701778716944\n",
      "2023-08-24 22:59:20.557093: I tensorflow/core/framework/local_rendezvous.cc:405] Local rendezvous recv item cancelled. Key hash: 18085847011854409526\n",
      "2023-08-24 22:59:20.557117: I tensorflow/core/framework/local_rendezvous.cc:405] Local rendezvous recv item cancelled. Key hash: 5810624647490306441\n",
      "2023-08-24 22:59:20.557131: I tensorflow/core/framework/local_rendezvous.cc:405] Local rendezvous recv item cancelled. Key hash: 3539989889298465903\n",
      "2023-08-24 22:59:20.557137: I tensorflow/core/framework/local_rendezvous.cc:405] Local rendezvous recv item cancelled. Key hash: 5849242914279490595\n",
      "2023-08-24 22:59:20.557141: I tensorflow/core/framework/local_rendezvous.cc:405] Local rendezvous recv item cancelled. Key hash: 15243846311387649449\n",
      "2023-08-24 22:59:20.557144: I tensorflow/core/framework/local_rendezvous.cc:405] Local rendezvous recv item cancelled. Key hash: 8066278439353247687\n",
      "2023-08-24 22:59:20.557148: I tensorflow/core/framework/local_rendezvous.cc:405] Local rendezvous recv item cancelled. Key hash: 14516621110824212481\n",
      "2023-08-24 22:59:20.557152: I tensorflow/core/framework/local_rendezvous.cc:405] Local rendezvous recv item cancelled. Key hash: 14008166818337827301\n",
      "2023-08-24 22:59:20.557156: I tensorflow/core/framework/local_rendezvous.cc:405] Local rendezvous recv item cancelled. Key hash: 15740653826331077115\n",
      "2023-08-24 22:59:20.557164: I tensorflow/core/framework/local_rendezvous.cc:405] Local rendezvous recv item cancelled. Key hash: 67879104660294989\n"
     ]
    },
    {
     "name": "stdout",
     "output_type": "stream",
     "text": [
      "[I 2023-08-24 22:59:20,572] Trial 0 finished with value: 0.2352176010608673 and parameters: {'attention_heads': 4, 'learning_rate': 0.01815828776381651, 'drop_out_out_decoder': 0.15000000000000002, 'dense_layers': 5, 'drop_out': 0.30000000000000004, 'encoder_kernel_size': 12}. Best is trial 0 with value: 0.2352176010608673.\n"
     ]
    },
    {
     "name": "stderr",
     "output_type": "stream",
     "text": [
      "2023-08-24 22:59:35.359563: I tensorflow/core/framework/local_rendezvous.cc:405] Local rendezvous recv item cancelled. Key hash: 5574638648725174466\n",
      "2023-08-24 22:59:35.359593: I tensorflow/core/framework/local_rendezvous.cc:405] Local rendezvous recv item cancelled. Key hash: 15612692012796965249\n",
      "2023-08-24 22:59:35.359606: I tensorflow/core/framework/local_rendezvous.cc:405] Local rendezvous recv item cancelled. Key hash: 17462433325912740162\n",
      "2023-08-24 22:59:35.359619: I tensorflow/core/framework/local_rendezvous.cc:405] Local rendezvous recv item cancelled. Key hash: 10961925421118499671\n",
      "2023-08-24 22:59:35.359631: I tensorflow/core/framework/local_rendezvous.cc:405] Local rendezvous recv item cancelled. Key hash: 3468849753047011910\n",
      "2023-08-24 22:59:35.359641: I tensorflow/core/framework/local_rendezvous.cc:409] Local rendezvous send item cancelled. Key hash: 13469003212748147843\n",
      "2023-08-24 22:59:35.359651: I tensorflow/core/framework/local_rendezvous.cc:409] Local rendezvous send item cancelled. Key hash: 10679808696709597294\n",
      "2023-08-24 22:59:35.359662: I tensorflow/core/framework/local_rendezvous.cc:409] Local rendezvous send item cancelled. Key hash: 16256859165763845697\n",
      "2023-08-24 22:59:35.359674: I tensorflow/core/framework/local_rendezvous.cc:405] Local rendezvous recv item cancelled. Key hash: 8462537538282070508\n",
      "2023-08-24 22:59:35.359685: I tensorflow/core/framework/local_rendezvous.cc:405] Local rendezvous recv item cancelled. Key hash: 7958570759600547695\n",
      "2023-08-24 22:59:35.359695: I tensorflow/core/framework/local_rendezvous.cc:405] Local rendezvous recv item cancelled. Key hash: 8860509065651084580\n",
      "2023-08-24 22:59:36.685137: I tensorflow/core/framework/local_rendezvous.cc:405] Local rendezvous recv item cancelled. Key hash: 8398933894236897067\n",
      "2023-08-24 22:59:36.685158: I tensorflow/core/framework/local_rendezvous.cc:405] Local rendezvous recv item cancelled. Key hash: 4043393014581547139\n",
      "2023-08-24 22:59:36.685164: I tensorflow/core/framework/local_rendezvous.cc:405] Local rendezvous recv item cancelled. Key hash: 18427867309701289783\n",
      "2023-08-24 22:59:36.685169: I tensorflow/core/framework/local_rendezvous.cc:405] Local rendezvous recv item cancelled. Key hash: 15945288258604837507\n",
      "2023-08-24 22:59:36.685173: I tensorflow/core/framework/local_rendezvous.cc:405] Local rendezvous recv item cancelled. Key hash: 13574546747563273057\n",
      "2023-08-24 22:59:36.685177: I tensorflow/core/framework/local_rendezvous.cc:405] Local rendezvous recv item cancelled. Key hash: 4660884946457930735\n",
      "2023-08-24 22:59:36.685181: I tensorflow/core/framework/local_rendezvous.cc:405] Local rendezvous recv item cancelled. Key hash: 4490212254955814351\n",
      "2023-08-24 22:59:36.685185: I tensorflow/core/framework/local_rendezvous.cc:405] Local rendezvous recv item cancelled. Key hash: 1206717236877532353\n",
      "2023-08-24 22:59:36.685190: I tensorflow/core/framework/local_rendezvous.cc:405] Local rendezvous recv item cancelled. Key hash: 14260007580078920616\n",
      "2023-08-24 22:59:36.685194: I tensorflow/core/framework/local_rendezvous.cc:405] Local rendezvous recv item cancelled. Key hash: 3421951043307411106\n",
      "2023-08-24 22:59:36.685197: I tensorflow/core/framework/local_rendezvous.cc:405] Local rendezvous recv item cancelled. Key hash: 16862907556147870040\n",
      "2023-08-24 22:59:36.685201: I tensorflow/core/framework/local_rendezvous.cc:405] Local rendezvous recv item cancelled. Key hash: 10554714152902162960\n",
      "2023-08-24 22:59:36.685205: I tensorflow/core/framework/local_rendezvous.cc:405] Local rendezvous recv item cancelled. Key hash: 1613186535586265752\n",
      "2023-08-24 22:59:36.685214: I tensorflow/core/framework/local_rendezvous.cc:405] Local rendezvous recv item cancelled. Key hash: 6041740088792853602\n",
      "2023-08-24 22:59:36.685219: I tensorflow/core/framework/local_rendezvous.cc:405] Local rendezvous recv item cancelled. Key hash: 16533776562988928842\n"
     ]
    },
    {
     "name": "stdout",
     "output_type": "stream",
     "text": [
      "37/37 [==============================] - 1s 24ms/step - loss: 0.7340 - accuracy: 0.7798 - sparse_levenshtein_v1: 0.2187\n"
     ]
    },
    {
     "name": "stderr",
     "output_type": "stream",
     "text": [
      "2023-08-24 23:00:57.709502: I tensorflow/core/framework/local_rendezvous.cc:405] Local rendezvous recv item cancelled. Key hash: 16533776562988928842\n",
      "2023-08-24 23:00:57.709523: I tensorflow/core/framework/local_rendezvous.cc:409] Local rendezvous send item cancelled. Key hash: 1450848041232891035\n",
      "2023-08-24 23:00:57.709540: I tensorflow/core/framework/local_rendezvous.cc:405] Local rendezvous recv item cancelled. Key hash: 16862907556147870040\n",
      "2023-08-24 23:00:57.709550: I tensorflow/core/framework/local_rendezvous.cc:405] Local rendezvous recv item cancelled. Key hash: 15945288258604837507\n",
      "2023-08-24 23:00:57.709561: I tensorflow/core/framework/local_rendezvous.cc:405] Local rendezvous recv item cancelled. Key hash: 10554714152902162960\n",
      "2023-08-24 23:00:57.709570: I tensorflow/core/framework/local_rendezvous.cc:409] Local rendezvous send item cancelled. Key hash: 5506292236489254894\n",
      "2023-08-24 23:00:57.709610: I tensorflow/core/framework/local_rendezvous.cc:405] Local rendezvous recv item cancelled. Key hash: 4660884946457930735\n",
      "2023-08-24 23:00:57.709628: I tensorflow/core/framework/local_rendezvous.cc:405] Local rendezvous recv item cancelled. Key hash: 13574546747563273057\n",
      "2023-08-24 23:00:57.709638: I tensorflow/core/framework/local_rendezvous.cc:405] Local rendezvous recv item cancelled. Key hash: 4490212254955814351\n",
      "2023-08-24 23:00:57.709651: I tensorflow/core/framework/local_rendezvous.cc:405] Local rendezvous recv item cancelled. Key hash: 8398933894236897067\n"
     ]
    },
    {
     "name": "stdout",
     "output_type": "stream",
     "text": [
      "[I 2023-08-24 23:00:57,724] Trial 1 finished with value: 0.21865010261535645 and parameters: {'attention_heads': 7, 'learning_rate': 0.013272814244122019, 'drop_out_out_decoder': 0.4, 'dense_layers': 2, 'drop_out': 0.45, 'encoder_kernel_size': 8}. Best is trial 1 with value: 0.21865010261535645.\n"
     ]
    },
    {
     "name": "stderr",
     "output_type": "stream",
     "text": [
      "2023-08-24 23:01:11.910045: I tensorflow/core/framework/local_rendezvous.cc:409] Local rendezvous send item cancelled. Key hash: 15059679852492218936\n",
      "2023-08-24 23:01:11.910069: I tensorflow/core/framework/local_rendezvous.cc:405] Local rendezvous recv item cancelled. Key hash: 12710692038826496988\n",
      "2023-08-24 23:01:11.910075: I tensorflow/core/framework/local_rendezvous.cc:405] Local rendezvous recv item cancelled. Key hash: 13367379566888469534\n",
      "2023-08-24 23:01:11.910079: I tensorflow/core/framework/local_rendezvous.cc:405] Local rendezvous recv item cancelled. Key hash: 12708782383221076500\n",
      "2023-08-24 23:01:11.910082: I tensorflow/core/framework/local_rendezvous.cc:409] Local rendezvous send item cancelled. Key hash: 16958717478969542986\n",
      "2023-08-24 23:01:11.910086: I tensorflow/core/framework/local_rendezvous.cc:405] Local rendezvous recv item cancelled. Key hash: 7774969190542945526\n",
      "2023-08-24 23:01:11.910089: I tensorflow/core/framework/local_rendezvous.cc:405] Local rendezvous recv item cancelled. Key hash: 5897603912008035898\n",
      "2023-08-24 23:01:11.910099: I tensorflow/core/framework/local_rendezvous.cc:405] Local rendezvous recv item cancelled. Key hash: 6499584654599578023\n",
      "2023-08-24 23:01:11.910113: I tensorflow/core/framework/local_rendezvous.cc:405] Local rendezvous recv item cancelled. Key hash: 17706780351775251247\n",
      "2023-08-24 23:01:11.910118: I tensorflow/core/framework/local_rendezvous.cc:405] Local rendezvous recv item cancelled. Key hash: 7230814881849072767\n",
      "2023-08-24 23:01:11.910122: I tensorflow/core/framework/local_rendezvous.cc:405] Local rendezvous recv item cancelled. Key hash: 8875029237396096341\n",
      "2023-08-24 23:01:11.910125: I tensorflow/core/framework/local_rendezvous.cc:409] Local rendezvous send item cancelled. Key hash: 12652203628719914559\n",
      "2023-08-24 23:01:11.910132: I tensorflow/core/framework/local_rendezvous.cc:405] Local rendezvous recv item cancelled. Key hash: 12525832743491223493\n",
      "2023-08-24 23:01:13.126587: I tensorflow/core/framework/local_rendezvous.cc:405] Local rendezvous recv item cancelled. Key hash: 8691633288976978108\n",
      "2023-08-24 23:01:13.126616: I tensorflow/core/framework/local_rendezvous.cc:405] Local rendezvous recv item cancelled. Key hash: 10529973821193559269\n",
      "2023-08-24 23:01:13.126628: I tensorflow/core/framework/local_rendezvous.cc:405] Local rendezvous recv item cancelled. Key hash: 10580962602621022590\n",
      "2023-08-24 23:01:13.126639: I tensorflow/core/framework/local_rendezvous.cc:409] Local rendezvous send item cancelled. Key hash: 9396577140295686126\n",
      "2023-08-24 23:01:13.126647: I tensorflow/core/framework/local_rendezvous.cc:405] Local rendezvous recv item cancelled. Key hash: 11841182398092979523\n",
      "2023-08-24 23:01:13.126658: I tensorflow/core/framework/local_rendezvous.cc:405] Local rendezvous recv item cancelled. Key hash: 1613186535586265752\n",
      "2023-08-24 23:01:13.126668: I tensorflow/core/framework/local_rendezvous.cc:405] Local rendezvous recv item cancelled. Key hash: 2237096573546425971\n",
      "2023-08-24 23:01:13.126679: I tensorflow/core/framework/local_rendezvous.cc:405] Local rendezvous recv item cancelled. Key hash: 1476156307811404690\n",
      "2023-08-24 23:01:13.126687: I tensorflow/core/framework/local_rendezvous.cc:405] Local rendezvous recv item cancelled. Key hash: 16367670323955477432\n"
     ]
    },
    {
     "name": "stdout",
     "output_type": "stream",
     "text": [
      "37/37 [==============================] - 1s 22ms/step - loss: 0.7466 - accuracy: 0.7785 - sparse_levenshtein_v1: 0.2196\n"
     ]
    },
    {
     "name": "stderr",
     "output_type": "stream",
     "text": [
      "2023-08-24 23:02:27.418414: I tensorflow/core/framework/local_rendezvous.cc:405] Local rendezvous recv item cancelled. Key hash: 8691633288976978108\n",
      "2023-08-24 23:02:27.418433: I tensorflow/core/framework/local_rendezvous.cc:405] Local rendezvous recv item cancelled. Key hash: 17521532888376905191\n",
      "2023-08-24 23:02:27.418442: I tensorflow/core/framework/local_rendezvous.cc:405] Local rendezvous recv item cancelled. Key hash: 10529973821193559269\n",
      "2023-08-24 23:02:27.418447: I tensorflow/core/framework/local_rendezvous.cc:405] Local rendezvous recv item cancelled. Key hash: 11841182398092979523\n",
      "2023-08-24 23:02:27.418451: I tensorflow/core/framework/local_rendezvous.cc:405] Local rendezvous recv item cancelled. Key hash: 2237096573546425971\n",
      "2023-08-24 23:02:27.418456: I tensorflow/core/framework/local_rendezvous.cc:405] Local rendezvous recv item cancelled. Key hash: 10580962602621022590\n",
      "2023-08-24 23:02:27.418460: I tensorflow/core/framework/local_rendezvous.cc:405] Local rendezvous recv item cancelled. Key hash: 1613186535586265752\n",
      "2023-08-24 23:02:27.418464: I tensorflow/core/framework/local_rendezvous.cc:405] Local rendezvous recv item cancelled. Key hash: 16367670323955477432\n",
      "2023-08-24 23:02:27.418468: I tensorflow/core/framework/local_rendezvous.cc:405] Local rendezvous recv item cancelled. Key hash: 1476156307811404690\n",
      "2023-08-24 23:02:27.418471: I tensorflow/core/framework/local_rendezvous.cc:405] Local rendezvous recv item cancelled. Key hash: 10554714152902162960\n",
      "2023-08-24 23:02:27.418475: I tensorflow/core/framework/local_rendezvous.cc:405] Local rendezvous recv item cancelled. Key hash: 478258307780595638\n"
     ]
    },
    {
     "name": "stdout",
     "output_type": "stream",
     "text": [
      "[I 2023-08-24 23:02:27,432] Trial 2 finished with value: 0.21960298717021942 and parameters: {'attention_heads': 6, 'learning_rate': 0.0001974911524483616, 'drop_out_out_decoder': 0.35000000000000003, 'dense_layers': 1, 'drop_out': 0.0, 'encoder_kernel_size': 11}. Best is trial 1 with value: 0.21865010261535645.\n"
     ]
    },
    {
     "name": "stderr",
     "output_type": "stream",
     "text": [
      "2023-08-24 23:02:38.676875: I tensorflow/core/framework/local_rendezvous.cc:405] Local rendezvous recv item cancelled. Key hash: 13445542410630521064\n",
      "2023-08-24 23:02:38.676899: I tensorflow/core/framework/local_rendezvous.cc:409] Local rendezvous send item cancelled. Key hash: 10247941212432167244\n",
      "2023-08-24 23:02:38.676903: I tensorflow/core/framework/local_rendezvous.cc:409] Local rendezvous send item cancelled. Key hash: 9916389497381561336\n",
      "2023-08-24 23:02:38.676907: I tensorflow/core/framework/local_rendezvous.cc:405] Local rendezvous recv item cancelled. Key hash: 2789744038908243114\n",
      "2023-08-24 23:02:38.676910: I tensorflow/core/framework/local_rendezvous.cc:409] Local rendezvous send item cancelled. Key hash: 15988949064703908411\n",
      "2023-08-24 23:02:38.676914: I tensorflow/core/framework/local_rendezvous.cc:405] Local rendezvous recv item cancelled. Key hash: 13118771046655234731\n",
      "2023-08-24 23:02:38.676918: I tensorflow/core/framework/local_rendezvous.cc:405] Local rendezvous recv item cancelled. Key hash: 12091121985696269295\n",
      "2023-08-24 23:02:38.676922: I tensorflow/core/framework/local_rendezvous.cc:405] Local rendezvous recv item cancelled. Key hash: 15403248269655072169\n",
      "2023-08-24 23:02:38.676925: I tensorflow/core/framework/local_rendezvous.cc:405] Local rendezvous recv item cancelled. Key hash: 7841386110275915453\n",
      "2023-08-24 23:02:39.646658: I tensorflow/core/framework/local_rendezvous.cc:405] Local rendezvous recv item cancelled. Key hash: 14863077190236066019\n",
      "2023-08-24 23:02:39.646682: I tensorflow/core/framework/local_rendezvous.cc:405] Local rendezvous recv item cancelled. Key hash: 2101281830551688379\n",
      "2023-08-24 23:02:39.646687: I tensorflow/core/framework/local_rendezvous.cc:409] Local rendezvous send item cancelled. Key hash: 17141389695282070877\n",
      "2023-08-24 23:02:39.646691: I tensorflow/core/framework/local_rendezvous.cc:405] Local rendezvous recv item cancelled. Key hash: 4174294139408397945\n",
      "2023-08-24 23:02:39.646695: I tensorflow/core/framework/local_rendezvous.cc:405] Local rendezvous recv item cancelled. Key hash: 15979660114172778267\n",
      "2023-08-24 23:02:39.646698: I tensorflow/core/framework/local_rendezvous.cc:409] Local rendezvous send item cancelled. Key hash: 11837647118841866767\n",
      "2023-08-24 23:02:39.646702: I tensorflow/core/framework/local_rendezvous.cc:405] Local rendezvous recv item cancelled. Key hash: 1375291701822840005\n",
      "2023-08-24 23:02:39.646705: I tensorflow/core/framework/local_rendezvous.cc:409] Local rendezvous send item cancelled. Key hash: 12885123163164974717\n",
      "2023-08-24 23:02:39.646709: I tensorflow/core/framework/local_rendezvous.cc:405] Local rendezvous recv item cancelled. Key hash: 14604696043147775599\n"
     ]
    },
    {
     "name": "stdout",
     "output_type": "stream",
     "text": [
      "37/37 [==============================] - 1s 15ms/step - loss: 0.7423 - accuracy: 0.7791 - sparse_levenshtein_v1: 0.2195\n"
     ]
    },
    {
     "name": "stderr",
     "output_type": "stream",
     "text": [
      "2023-08-24 23:03:23.798823: I tensorflow/core/framework/local_rendezvous.cc:405] Local rendezvous recv item cancelled. Key hash: 14863077190236066019\n",
      "2023-08-24 23:03:23.798847: I tensorflow/core/framework/local_rendezvous.cc:405] Local rendezvous recv item cancelled. Key hash: 2101281830551688379\n",
      "2023-08-24 23:03:23.798853: I tensorflow/core/framework/local_rendezvous.cc:405] Local rendezvous recv item cancelled. Key hash: 15243846311387649449\n",
      "2023-08-24 23:03:23.798862: I tensorflow/core/framework/local_rendezvous.cc:405] Local rendezvous recv item cancelled. Key hash: 4174294139408397945\n",
      "2023-08-24 23:03:23.798866: I tensorflow/core/framework/local_rendezvous.cc:405] Local rendezvous recv item cancelled. Key hash: 15979660114172778267\n",
      "2023-08-24 23:03:23.798870: I tensorflow/core/framework/local_rendezvous.cc:405] Local rendezvous recv item cancelled. Key hash: 1375291701822840005\n",
      "2023-08-24 23:03:23.798874: I tensorflow/core/framework/local_rendezvous.cc:405] Local rendezvous recv item cancelled. Key hash: 14604696043147775599\n",
      "2023-08-24 23:03:23.798879: I tensorflow/core/framework/local_rendezvous.cc:405] Local rendezvous recv item cancelled. Key hash: 13369595713802515272\n",
      "2023-08-24 23:03:23.798883: I tensorflow/core/framework/local_rendezvous.cc:405] Local rendezvous recv item cancelled. Key hash: 12037518597680751782\n",
      "2023-08-24 23:03:23.798887: I tensorflow/core/framework/local_rendezvous.cc:405] Local rendezvous recv item cancelled. Key hash: 15207273666519340396\n",
      "2023-08-24 23:03:23.798891: I tensorflow/core/framework/local_rendezvous.cc:405] Local rendezvous recv item cancelled. Key hash: 8035555897910799376\n"
     ]
    },
    {
     "name": "stdout",
     "output_type": "stream",
     "text": [
      "[I 2023-08-24 23:03:23,813] Trial 3 finished with value: 0.2195049226284027 and parameters: {'attention_heads': 1, 'learning_rate': 0.0026504630910711706, 'drop_out_out_decoder': 0.25, 'dense_layers': 4, 'drop_out': 0.4, 'encoder_kernel_size': 8}. Best is trial 1 with value: 0.21865010261535645.\n"
     ]
    },
    {
     "name": "stderr",
     "output_type": "stream",
     "text": [
      "2023-08-24 23:03:35.732561: I tensorflow/core/framework/local_rendezvous.cc:405] Local rendezvous recv item cancelled. Key hash: 11792944971993156018\n",
      "2023-08-24 23:03:35.732588: I tensorflow/core/framework/local_rendezvous.cc:405] Local rendezvous recv item cancelled. Key hash: 10916284807751889165\n",
      "2023-08-24 23:03:35.732601: I tensorflow/core/framework/local_rendezvous.cc:405] Local rendezvous recv item cancelled. Key hash: 7276884332813488729\n",
      "2023-08-24 23:03:35.732607: I tensorflow/core/framework/local_rendezvous.cc:405] Local rendezvous recv item cancelled. Key hash: 6767536833890546843\n",
      "2023-08-24 23:03:35.732610: I tensorflow/core/framework/local_rendezvous.cc:409] Local rendezvous send item cancelled. Key hash: 15392542855819044139\n",
      "2023-08-24 23:03:35.732613: I tensorflow/core/framework/local_rendezvous.cc:409] Local rendezvous send item cancelled. Key hash: 2963269039563220889\n",
      "2023-08-24 23:03:35.732616: I tensorflow/core/framework/local_rendezvous.cc:405] Local rendezvous recv item cancelled. Key hash: 6499584654599578023\n",
      "2023-08-24 23:03:35.732620: I tensorflow/core/framework/local_rendezvous.cc:405] Local rendezvous recv item cancelled. Key hash: 383851057881771033\n",
      "2023-08-24 23:03:35.732649: I tensorflow/core/framework/local_rendezvous.cc:405] Local rendezvous recv item cancelled. Key hash: 7807076819443587984\n",
      "2023-08-24 23:03:35.732662: I tensorflow/core/framework/local_rendezvous.cc:409] Local rendezvous send item cancelled. Key hash: 11913430264390020188\n",
      "2023-08-24 23:03:36.765946: I tensorflow/core/framework/local_rendezvous.cc:405] Local rendezvous recv item cancelled. Key hash: 8691633288976978108\n",
      "2023-08-24 23:03:36.765977: I tensorflow/core/framework/local_rendezvous.cc:405] Local rendezvous recv item cancelled. Key hash: 15353853180446806753\n",
      "2023-08-24 23:03:36.765988: I tensorflow/core/framework/local_rendezvous.cc:405] Local rendezvous recv item cancelled. Key hash: 10529973821193559269\n",
      "2023-08-24 23:03:36.765995: I tensorflow/core/framework/local_rendezvous.cc:405] Local rendezvous recv item cancelled. Key hash: 11841182398092979523\n",
      "2023-08-24 23:03:36.766002: I tensorflow/core/framework/local_rendezvous.cc:405] Local rendezvous recv item cancelled. Key hash: 2237096573546425971\n",
      "2023-08-24 23:03:36.766010: I tensorflow/core/framework/local_rendezvous.cc:405] Local rendezvous recv item cancelled. Key hash: 2743667978795037652\n",
      "2023-08-24 23:03:36.766015: I tensorflow/core/framework/local_rendezvous.cc:409] Local rendezvous send item cancelled. Key hash: 5220213433240516020\n",
      "2023-08-24 23:03:36.766020: I tensorflow/core/framework/local_rendezvous.cc:409] Local rendezvous send item cancelled. Key hash: 9396577140295686126\n",
      "2023-08-24 23:03:36.766027: I tensorflow/core/framework/local_rendezvous.cc:405] Local rendezvous recv item cancelled. Key hash: 1613186535586265752\n",
      "2023-08-24 23:03:36.766033: I tensorflow/core/framework/local_rendezvous.cc:405] Local rendezvous recv item cancelled. Key hash: 1476156307811404690\n",
      "2023-08-24 23:03:36.766039: I tensorflow/core/framework/local_rendezvous.cc:405] Local rendezvous recv item cancelled. Key hash: 16367670323955477432\n",
      "2023-08-24 23:03:36.766044: I tensorflow/core/framework/local_rendezvous.cc:409] Local rendezvous send item cancelled. Key hash: 6917883784121192156\n"
     ]
    },
    {
     "name": "stdout",
     "output_type": "stream",
     "text": [
      "37/37 [==============================] - 1s 17ms/step - loss: 0.7013 - accuracy: 0.7882 - sparse_levenshtein_v1: 0.2107\n"
     ]
    },
    {
     "name": "stderr",
     "output_type": "stream",
     "text": [
      "2023-08-24 23:04:32.017343: I tensorflow/core/framework/local_rendezvous.cc:405] Local rendezvous recv item cancelled. Key hash: 10529973821193559269\n",
      "2023-08-24 23:04:32.017368: I tensorflow/core/framework/local_rendezvous.cc:405] Local rendezvous recv item cancelled. Key hash: 11841182398092979523\n",
      "2023-08-24 23:04:32.017377: I tensorflow/core/framework/local_rendezvous.cc:405] Local rendezvous recv item cancelled. Key hash: 2237096573546425971\n",
      "2023-08-24 23:04:32.017405: I tensorflow/core/framework/local_rendezvous.cc:405] Local rendezvous recv item cancelled. Key hash: 8691633288976978108\n",
      "2023-08-24 23:04:32.017421: I tensorflow/core/framework/local_rendezvous.cc:405] Local rendezvous recv item cancelled. Key hash: 2743667978795037652\n",
      "2023-08-24 23:04:32.017425: I tensorflow/core/framework/local_rendezvous.cc:409] Local rendezvous send item cancelled. Key hash: 5220213433240516020\n",
      "2023-08-24 23:04:32.017429: I tensorflow/core/framework/local_rendezvous.cc:409] Local rendezvous send item cancelled. Key hash: 9396577140295686126\n",
      "2023-08-24 23:04:32.017433: I tensorflow/core/framework/local_rendezvous.cc:405] Local rendezvous recv item cancelled. Key hash: 1476156307811404690\n",
      "2023-08-24 23:04:32.017438: I tensorflow/core/framework/local_rendezvous.cc:405] Local rendezvous recv item cancelled. Key hash: 16367670323955477432\n",
      "2023-08-24 23:04:32.017441: I tensorflow/core/framework/local_rendezvous.cc:409] Local rendezvous send item cancelled. Key hash: 6917883784121192156\n"
     ]
    },
    {
     "name": "stdout",
     "output_type": "stream",
     "text": [
      "[I 2023-08-24 23:04:32,032] Trial 4 finished with value: 0.21067659556865692 and parameters: {'attention_heads': 3, 'learning_rate': 0.004473666185488294, 'drop_out_out_decoder': 0.25, 'dense_layers': 1, 'drop_out': 0.30000000000000004, 'encoder_kernel_size': 11}. Best is trial 4 with value: 0.21067659556865692.\n"
     ]
    },
    {
     "name": "stderr",
     "output_type": "stream",
     "text": [
      "2023-08-24 23:04:47.313596: I tensorflow/core/framework/local_rendezvous.cc:405] Local rendezvous recv item cancelled. Key hash: 17462433325912740162\n",
      "2023-08-24 23:04:47.313621: I tensorflow/core/framework/local_rendezvous.cc:405] Local rendezvous recv item cancelled. Key hash: 3468849753047011910\n",
      "2023-08-24 23:04:47.313628: I tensorflow/core/framework/local_rendezvous.cc:405] Local rendezvous recv item cancelled. Key hash: 17836699330977052889\n",
      "2023-08-24 23:04:47.313645: I tensorflow/core/framework/local_rendezvous.cc:405] Local rendezvous recv item cancelled. Key hash: 15612692012796965249\n",
      "2023-08-24 23:04:47.313653: I tensorflow/core/framework/local_rendezvous.cc:405] Local rendezvous recv item cancelled. Key hash: 10961925421118499671\n",
      "2023-08-24 23:04:47.313658: I tensorflow/core/framework/local_rendezvous.cc:409] Local rendezvous send item cancelled. Key hash: 13469003212748147843\n",
      "2023-08-24 23:04:47.313662: I tensorflow/core/framework/local_rendezvous.cc:409] Local rendezvous send item cancelled. Key hash: 16256859165763845697\n",
      "2023-08-24 23:04:47.313678: I tensorflow/core/framework/local_rendezvous.cc:405] Local rendezvous recv item cancelled. Key hash: 8462537538282070508\n",
      "2023-08-24 23:04:47.313693: I tensorflow/core/framework/local_rendezvous.cc:405] Local rendezvous recv item cancelled. Key hash: 9594478098412209676\n",
      "2023-08-24 23:04:47.313699: I tensorflow/core/framework/local_rendezvous.cc:405] Local rendezvous recv item cancelled. Key hash: 5574638648725174466\n",
      "2023-08-24 23:04:47.313702: I tensorflow/core/framework/local_rendezvous.cc:409] Local rendezvous send item cancelled. Key hash: 10679808696709597294\n",
      "2023-08-24 23:04:47.313706: I tensorflow/core/framework/local_rendezvous.cc:405] Local rendezvous recv item cancelled. Key hash: 17065943141471922788\n",
      "2023-08-24 23:04:48.663090: I tensorflow/core/framework/local_rendezvous.cc:409] Local rendezvous send item cancelled. Key hash: 5506292236489254894\n",
      "2023-08-24 23:04:48.663116: I tensorflow/core/framework/local_rendezvous.cc:405] Local rendezvous recv item cancelled. Key hash: 10554714152902162960\n",
      "2023-08-24 23:04:48.663121: I tensorflow/core/framework/local_rendezvous.cc:405] Local rendezvous recv item cancelled. Key hash: 14260007580078920616\n",
      "2023-08-24 23:04:48.663125: I tensorflow/core/framework/local_rendezvous.cc:405] Local rendezvous recv item cancelled. Key hash: 1613186535586265752\n",
      "2023-08-24 23:04:48.663130: I tensorflow/core/framework/local_rendezvous.cc:405] Local rendezvous recv item cancelled. Key hash: 16533776562988928842\n",
      "2023-08-24 23:04:48.663160: I tensorflow/core/framework/local_rendezvous.cc:405] Local rendezvous recv item cancelled. Key hash: 4043393014581547139\n",
      "2023-08-24 23:04:48.663171: I tensorflow/core/framework/local_rendezvous.cc:409] Local rendezvous send item cancelled. Key hash: 16840752353315535839\n",
      "2023-08-24 23:04:48.663178: I tensorflow/core/framework/local_rendezvous.cc:405] Local rendezvous recv item cancelled. Key hash: 13834694056834019043\n",
      "2023-08-24 23:04:48.663182: I tensorflow/core/framework/local_rendezvous.cc:405] Local rendezvous recv item cancelled. Key hash: 18427867309701289783\n",
      "2023-08-24 23:04:48.663186: I tensorflow/core/framework/local_rendezvous.cc:405] Local rendezvous recv item cancelled. Key hash: 15945288258604837507\n",
      "2023-08-24 23:04:48.663190: I tensorflow/core/framework/local_rendezvous.cc:405] Local rendezvous recv item cancelled. Key hash: 13574546747563273057\n",
      "2023-08-24 23:04:48.663193: I tensorflow/core/framework/local_rendezvous.cc:409] Local rendezvous send item cancelled. Key hash: 1450848041232891035\n",
      "2023-08-24 23:04:48.663197: I tensorflow/core/framework/local_rendezvous.cc:405] Local rendezvous recv item cancelled. Key hash: 4490212254955814351\n",
      "2023-08-24 23:04:48.663200: I tensorflow/core/framework/local_rendezvous.cc:405] Local rendezvous recv item cancelled. Key hash: 4660884946457930735\n",
      "2023-08-24 23:04:48.663207: I tensorflow/core/framework/local_rendezvous.cc:405] Local rendezvous recv item cancelled. Key hash: 8398933894236897067\n"
     ]
    },
    {
     "name": "stdout",
     "output_type": "stream",
     "text": [
      "37/37 [==============================] - 1s 26ms/step - loss: 0.6855 - accuracy: 0.7920 - sparse_levenshtein_v1: 0.2072\n"
     ]
    },
    {
     "name": "stderr",
     "output_type": "stream",
     "text": [
      "2023-08-24 23:06:14.933077: I tensorflow/core/framework/local_rendezvous.cc:405] Local rendezvous recv item cancelled. Key hash: 4043393014581547139\n",
      "2023-08-24 23:06:14.933100: I tensorflow/core/framework/local_rendezvous.cc:405] Local rendezvous recv item cancelled. Key hash: 4660884946457930735\n",
      "2023-08-24 23:06:14.933105: I tensorflow/core/framework/local_rendezvous.cc:409] Local rendezvous send item cancelled. Key hash: 4612250463880877487\n",
      "2023-08-24 23:06:14.933109: I tensorflow/core/framework/local_rendezvous.cc:405] Local rendezvous recv item cancelled. Key hash: 18427867309701289783\n",
      "2023-08-24 23:06:14.933113: I tensorflow/core/framework/local_rendezvous.cc:405] Local rendezvous recv item cancelled. Key hash: 15945288258604837507\n",
      "2023-08-24 23:06:14.933116: I tensorflow/core/framework/local_rendezvous.cc:405] Local rendezvous recv item cancelled. Key hash: 1206717236877532353\n",
      "2023-08-24 23:06:14.933120: I tensorflow/core/framework/local_rendezvous.cc:405] Local rendezvous recv item cancelled. Key hash: 4490212254955814351\n",
      "2023-08-24 23:06:14.933130: I tensorflow/core/framework/local_rendezvous.cc:405] Local rendezvous recv item cancelled. Key hash: 13834694056834019043\n",
      "2023-08-24 23:06:14.933141: I tensorflow/core/framework/local_rendezvous.cc:405] Local rendezvous recv item cancelled. Key hash: 14260007580078920616\n",
      "2023-08-24 23:06:14.933145: I tensorflow/core/framework/local_rendezvous.cc:405] Local rendezvous recv item cancelled. Key hash: 3421951043307411106\n",
      "2023-08-24 23:06:14.933149: I tensorflow/core/framework/local_rendezvous.cc:405] Local rendezvous recv item cancelled. Key hash: 16862907556147870040\n",
      "2023-08-24 23:06:14.933152: I tensorflow/core/framework/local_rendezvous.cc:405] Local rendezvous recv item cancelled. Key hash: 10554714152902162960\n",
      "2023-08-24 23:06:14.933156: I tensorflow/core/framework/local_rendezvous.cc:405] Local rendezvous recv item cancelled. Key hash: 10929942701425622006\n",
      "2023-08-24 23:06:14.933159: I tensorflow/core/framework/local_rendezvous.cc:405] Local rendezvous recv item cancelled. Key hash: 6041740088792853602\n",
      "2023-08-24 23:06:14.933167: I tensorflow/core/framework/local_rendezvous.cc:405] Local rendezvous recv item cancelled. Key hash: 1613186535586265752\n",
      "2023-08-24 23:06:14.933172: I tensorflow/core/framework/local_rendezvous.cc:405] Local rendezvous recv item cancelled. Key hash: 16533776562988928842\n"
     ]
    },
    {
     "name": "stdout",
     "output_type": "stream",
     "text": [
      "[I 2023-08-24 23:06:14,946] Trial 5 finished with value: 0.20723961293697357 and parameters: {'attention_heads': 8, 'learning_rate': 0.001317075938260822, 'drop_out_out_decoder': 0.30000000000000004, 'dense_layers': 2, 'drop_out': 0.1, 'encoder_kernel_size': 3}. Best is trial 5 with value: 0.20723961293697357.\n"
     ]
    },
    {
     "name": "stderr",
     "output_type": "stream",
     "text": [
      "2023-08-24 23:06:30.494694: I tensorflow/core/framework/local_rendezvous.cc:405] Local rendezvous recv item cancelled. Key hash: 3424204772537528400\n",
      "2023-08-24 23:06:30.494722: I tensorflow/core/framework/local_rendezvous.cc:405] Local rendezvous recv item cancelled. Key hash: 529467994909151458\n",
      "2023-08-24 23:06:30.494729: I tensorflow/core/framework/local_rendezvous.cc:409] Local rendezvous send item cancelled. Key hash: 2588962778262804380\n",
      "2023-08-24 23:06:30.494734: I tensorflow/core/framework/local_rendezvous.cc:409] Local rendezvous send item cancelled. Key hash: 7323489342179768586\n",
      "2023-08-24 23:06:30.494741: I tensorflow/core/framework/local_rendezvous.cc:405] Local rendezvous recv item cancelled. Key hash: 7120609577363729420\n",
      "2023-08-24 23:06:30.494747: I tensorflow/core/framework/local_rendezvous.cc:405] Local rendezvous recv item cancelled. Key hash: 785281616794443382\n",
      "2023-08-24 23:06:30.494752: I tensorflow/core/framework/local_rendezvous.cc:409] Local rendezvous send item cancelled. Key hash: 1706358683264548688\n",
      "2023-08-24 23:06:30.494766: I tensorflow/core/framework/local_rendezvous.cc:405] Local rendezvous recv item cancelled. Key hash: 7497149590813477413\n",
      "2023-08-24 23:06:30.494784: I tensorflow/core/framework/local_rendezvous.cc:405] Local rendezvous recv item cancelled. Key hash: 942442071819476621\n",
      "2023-08-24 23:06:31.868146: I tensorflow/core/framework/local_rendezvous.cc:405] Local rendezvous recv item cancelled. Key hash: 5905604276555639156\n",
      "2023-08-24 23:06:31.868179: I tensorflow/core/framework/local_rendezvous.cc:409] Local rendezvous send item cancelled. Key hash: 12014679664685144331\n",
      "2023-08-24 23:06:31.868197: I tensorflow/core/framework/local_rendezvous.cc:405] Local rendezvous recv item cancelled. Key hash: 14201303978439850340\n",
      "2023-08-24 23:06:31.868209: I tensorflow/core/framework/local_rendezvous.cc:409] Local rendezvous send item cancelled. Key hash: 12016048244375122716\n",
      "2023-08-24 23:06:31.868217: I tensorflow/core/framework/local_rendezvous.cc:405] Local rendezvous recv item cancelled. Key hash: 15779130230596504287\n",
      "2023-08-24 23:06:31.868230: I tensorflow/core/framework/local_rendezvous.cc:405] Local rendezvous recv item cancelled. Key hash: 14260007580078920616\n",
      "2023-08-24 23:06:31.868239: I tensorflow/core/framework/local_rendezvous.cc:409] Local rendezvous send item cancelled. Key hash: 5507448560920190228\n",
      "2023-08-24 23:06:31.868246: I tensorflow/core/framework/local_rendezvous.cc:405] Local rendezvous recv item cancelled. Key hash: 13593176319434480301\n",
      "2023-08-24 23:06:31.868256: I tensorflow/core/framework/local_rendezvous.cc:405] Local rendezvous recv item cancelled. Key hash: 12146478000807595435\n",
      "2023-08-24 23:06:31.868266: I tensorflow/core/framework/local_rendezvous.cc:405] Local rendezvous recv item cancelled. Key hash: 6293719858651920263\n"
     ]
    },
    {
     "name": "stdout",
     "output_type": "stream",
     "text": [
      "37/37 [==============================] - 1s 26ms/step - loss: 0.7361 - accuracy: 0.7797 - sparse_levenshtein_v1: 0.2184\n"
     ]
    },
    {
     "name": "stderr",
     "output_type": "stream",
     "text": [
      "2023-08-24 23:07:59.726600: I tensorflow/core/framework/local_rendezvous.cc:405] Local rendezvous recv item cancelled. Key hash: 4043393014581547139\n",
      "2023-08-24 23:07:59.726623: I tensorflow/core/framework/local_rendezvous.cc:405] Local rendezvous recv item cancelled. Key hash: 12968300747839008069\n",
      "2023-08-24 23:07:59.726628: I tensorflow/core/framework/local_rendezvous.cc:405] Local rendezvous recv item cancelled. Key hash: 6293719858651920263\n",
      "2023-08-24 23:07:59.726632: I tensorflow/core/framework/local_rendezvous.cc:405] Local rendezvous recv item cancelled. Key hash: 1326805167302453531\n",
      "2023-08-24 23:07:59.726636: I tensorflow/core/framework/local_rendezvous.cc:405] Local rendezvous recv item cancelled. Key hash: 15779130230596504287\n",
      "2023-08-24 23:07:59.726640: I tensorflow/core/framework/local_rendezvous.cc:405] Local rendezvous recv item cancelled. Key hash: 13593176319434480301\n",
      "2023-08-24 23:07:59.726644: I tensorflow/core/framework/local_rendezvous.cc:405] Local rendezvous recv item cancelled. Key hash: 1560052857356721353\n",
      "2023-08-24 23:07:59.726647: I tensorflow/core/framework/local_rendezvous.cc:405] Local rendezvous recv item cancelled. Key hash: 12146478000807595435\n",
      "2023-08-24 23:07:59.726651: I tensorflow/core/framework/local_rendezvous.cc:405] Local rendezvous recv item cancelled. Key hash: 9497912378982960817\n",
      "2023-08-24 23:07:59.726657: I tensorflow/core/framework/local_rendezvous.cc:405] Local rendezvous recv item cancelled. Key hash: 14260007580078920616\n",
      "2023-08-24 23:07:59.726660: I tensorflow/core/framework/local_rendezvous.cc:405] Local rendezvous recv item cancelled. Key hash: 17972924829135377764\n",
      "2023-08-24 23:07:59.726664: I tensorflow/core/framework/local_rendezvous.cc:405] Local rendezvous recv item cancelled. Key hash: 11070233786440013554\n",
      "2023-08-24 23:07:59.726667: I tensorflow/core/framework/local_rendezvous.cc:405] Local rendezvous recv item cancelled. Key hash: 12014566959115691890\n",
      "2023-08-24 23:07:59.726671: I tensorflow/core/framework/local_rendezvous.cc:405] Local rendezvous recv item cancelled. Key hash: 16250310650722739560\n",
      "2023-08-24 23:07:59.726674: I tensorflow/core/framework/local_rendezvous.cc:405] Local rendezvous recv item cancelled. Key hash: 5905604276555639156\n",
      "2023-08-24 23:07:59.726678: I tensorflow/core/framework/local_rendezvous.cc:405] Local rendezvous recv item cancelled. Key hash: 14201303978439850340\n",
      "2023-08-24 23:07:59.726686: I tensorflow/core/framework/local_rendezvous.cc:405] Local rendezvous recv item cancelled. Key hash: 17394515146146938136\n"
     ]
    },
    {
     "name": "stdout",
     "output_type": "stream",
     "text": [
      "[I 2023-08-24 23:07:59,741] Trial 6 finished with value: 0.21835248172283173 and parameters: {'attention_heads': 8, 'learning_rate': 0.0005710762476554082, 'drop_out_out_decoder': 0.5, 'dense_layers': 3, 'drop_out': 0.30000000000000004, 'encoder_kernel_size': 3}. Best is trial 5 with value: 0.20723961293697357.\n"
     ]
    },
    {
     "name": "stderr",
     "output_type": "stream",
     "text": [
      "2023-08-24 23:08:11.108442: I tensorflow/core/framework/local_rendezvous.cc:409] Local rendezvous send item cancelled. Key hash: 15988949064703908411\n",
      "2023-08-24 23:08:11.108467: I tensorflow/core/framework/local_rendezvous.cc:405] Local rendezvous recv item cancelled. Key hash: 13118771046655234731\n",
      "2023-08-24 23:08:11.108472: I tensorflow/core/framework/local_rendezvous.cc:405] Local rendezvous recv item cancelled. Key hash: 12091121985696269295\n",
      "2023-08-24 23:08:11.108476: I tensorflow/core/framework/local_rendezvous.cc:405] Local rendezvous recv item cancelled. Key hash: 15403248269655072169\n",
      "2023-08-24 23:08:11.108481: I tensorflow/core/framework/local_rendezvous.cc:405] Local rendezvous recv item cancelled. Key hash: 7841386110275915453\n",
      "2023-08-24 23:08:11.108487: I tensorflow/core/framework/local_rendezvous.cc:405] Local rendezvous recv item cancelled. Key hash: 9166788008203681796\n",
      "2023-08-24 23:08:11.108490: I tensorflow/core/framework/local_rendezvous.cc:409] Local rendezvous send item cancelled. Key hash: 10247941212432167244\n",
      "2023-08-24 23:08:11.108494: I tensorflow/core/framework/local_rendezvous.cc:405] Local rendezvous recv item cancelled. Key hash: 13445542410630521064\n",
      "2023-08-24 23:08:11.108497: I tensorflow/core/framework/local_rendezvous.cc:409] Local rendezvous send item cancelled. Key hash: 9916389497381561336\n",
      "2023-08-24 23:08:11.108501: I tensorflow/core/framework/local_rendezvous.cc:405] Local rendezvous recv item cancelled. Key hash: 304170753582717782\n",
      "2023-08-24 23:08:11.108505: I tensorflow/core/framework/local_rendezvous.cc:405] Local rendezvous recv item cancelled. Key hash: 2789744038908243114\n",
      "2023-08-24 23:08:11.108509: I tensorflow/core/framework/local_rendezvous.cc:405] Local rendezvous recv item cancelled. Key hash: 1040026339689414290\n",
      "2023-08-24 23:08:12.071805: I tensorflow/core/framework/local_rendezvous.cc:405] Local rendezvous recv item cancelled. Key hash: 14863077190236066019\n",
      "2023-08-24 23:08:12.071825: I tensorflow/core/framework/local_rendezvous.cc:405] Local rendezvous recv item cancelled. Key hash: 5768986292959367451\n",
      "2023-08-24 23:08:12.071830: I tensorflow/core/framework/local_rendezvous.cc:405] Local rendezvous recv item cancelled. Key hash: 2101281830551688379\n",
      "2023-08-24 23:08:12.071834: I tensorflow/core/framework/local_rendezvous.cc:405] Local rendezvous recv item cancelled. Key hash: 4174294139408397945\n",
      "2023-08-24 23:08:12.071837: I tensorflow/core/framework/local_rendezvous.cc:405] Local rendezvous recv item cancelled. Key hash: 15979660114172778267\n",
      "2023-08-24 23:08:12.071841: I tensorflow/core/framework/local_rendezvous.cc:405] Local rendezvous recv item cancelled. Key hash: 8834828144555223019\n",
      "2023-08-24 23:08:12.071845: I tensorflow/core/framework/local_rendezvous.cc:405] Local rendezvous recv item cancelled. Key hash: 1375291701822840005\n",
      "2023-08-24 23:08:12.071848: I tensorflow/core/framework/local_rendezvous.cc:405] Local rendezvous recv item cancelled. Key hash: 14604696043147775599\n",
      "2023-08-24 23:08:12.071853: I tensorflow/core/framework/local_rendezvous.cc:405] Local rendezvous recv item cancelled. Key hash: 16250310650722739560\n",
      "2023-08-24 23:08:12.071857: I tensorflow/core/framework/local_rendezvous.cc:405] Local rendezvous recv item cancelled. Key hash: 15618497591130528120\n",
      "2023-08-24 23:08:12.071860: I tensorflow/core/framework/local_rendezvous.cc:405] Local rendezvous recv item cancelled. Key hash: 13369595713802515272\n",
      "2023-08-24 23:08:12.071864: I tensorflow/core/framework/local_rendezvous.cc:405] Local rendezvous recv item cancelled. Key hash: 8035555897910799376\n",
      "2023-08-24 23:08:12.071867: I tensorflow/core/framework/local_rendezvous.cc:405] Local rendezvous recv item cancelled. Key hash: 15207273666519340396\n",
      "2023-08-24 23:08:12.071876: I tensorflow/core/framework/local_rendezvous.cc:405] Local rendezvous recv item cancelled. Key hash: 2013085834121152200\n"
     ]
    },
    {
     "name": "stdout",
     "output_type": "stream",
     "text": [
      "37/37 [==============================] - 1s 15ms/step - loss: 0.7443 - accuracy: 0.7775 - sparse_levenshtein_v1: 0.2211\n"
     ]
    },
    {
     "name": "stderr",
     "output_type": "stream",
     "text": [
      "2023-08-24 23:08:56.281293: I tensorflow/core/framework/local_rendezvous.cc:405] Local rendezvous recv item cancelled. Key hash: 2013085834121152200\n",
      "2023-08-24 23:08:56.281312: I tensorflow/core/framework/local_rendezvous.cc:405] Local rendezvous recv item cancelled. Key hash: 14863077190236066019\n",
      "2023-08-24 23:08:56.281324: I tensorflow/core/framework/local_rendezvous.cc:405] Local rendezvous recv item cancelled. Key hash: 2101281830551688379\n",
      "2023-08-24 23:08:56.281328: I tensorflow/core/framework/local_rendezvous.cc:409] Local rendezvous send item cancelled. Key hash: 17141389695282070877\n",
      "2023-08-24 23:08:56.281332: I tensorflow/core/framework/local_rendezvous.cc:405] Local rendezvous recv item cancelled. Key hash: 4174294139408397945\n",
      "2023-08-24 23:08:56.281336: I tensorflow/core/framework/local_rendezvous.cc:405] Local rendezvous recv item cancelled. Key hash: 8834828144555223019\n",
      "2023-08-24 23:08:56.281340: I tensorflow/core/framework/local_rendezvous.cc:405] Local rendezvous recv item cancelled. Key hash: 15979660114172778267\n",
      "2023-08-24 23:08:56.281343: I tensorflow/core/framework/local_rendezvous.cc:409] Local rendezvous send item cancelled. Key hash: 11837647118841866767\n",
      "2023-08-24 23:08:56.281347: I tensorflow/core/framework/local_rendezvous.cc:405] Local rendezvous recv item cancelled. Key hash: 1375291701822840005\n",
      "2023-08-24 23:08:56.281351: I tensorflow/core/framework/local_rendezvous.cc:405] Local rendezvous recv item cancelled. Key hash: 14604696043147775599\n",
      "2023-08-24 23:08:56.281355: I tensorflow/core/framework/local_rendezvous.cc:409] Local rendezvous send item cancelled. Key hash: 12885123163164974717\n"
     ]
    },
    {
     "name": "stdout",
     "output_type": "stream",
     "text": [
      "[I 2023-08-24 23:08:56,296] Trial 7 finished with value: 0.22110986709594727 and parameters: {'attention_heads': 1, 'learning_rate': 0.000508695401166128, 'drop_out_out_decoder': 0.30000000000000004, 'dense_layers': 4, 'drop_out': 0.15000000000000002, 'encoder_kernel_size': 3}. Best is trial 5 with value: 0.20723961293697357.\n"
     ]
    },
    {
     "name": "stderr",
     "output_type": "stream",
     "text": [
      "2023-08-24 23:09:07.266344: I tensorflow/core/framework/local_rendezvous.cc:405] Local rendezvous recv item cancelled. Key hash: 5574638648725174466\n",
      "2023-08-24 23:09:07.266371: I tensorflow/core/framework/local_rendezvous.cc:405] Local rendezvous recv item cancelled. Key hash: 15612692012796965249\n",
      "2023-08-24 23:09:07.266385: I tensorflow/core/framework/local_rendezvous.cc:405] Local rendezvous recv item cancelled. Key hash: 10961925421118499671\n",
      "2023-08-24 23:09:07.266389: I tensorflow/core/framework/local_rendezvous.cc:409] Local rendezvous send item cancelled. Key hash: 13469003212748147843\n",
      "2023-08-24 23:09:07.266392: I tensorflow/core/framework/local_rendezvous.cc:409] Local rendezvous send item cancelled. Key hash: 16256859165763845697\n",
      "2023-08-24 23:09:07.266424: I tensorflow/core/framework/local_rendezvous.cc:405] Local rendezvous recv item cancelled. Key hash: 8462537538282070508\n",
      "2023-08-24 23:09:07.266440: I tensorflow/core/framework/local_rendezvous.cc:405] Local rendezvous recv item cancelled. Key hash: 3468849753047011910\n",
      "2023-08-24 23:09:07.266444: I tensorflow/core/framework/local_rendezvous.cc:409] Local rendezvous send item cancelled. Key hash: 10679808696709597294\n",
      "2023-08-24 23:09:07.266448: I tensorflow/core/framework/local_rendezvous.cc:405] Local rendezvous recv item cancelled. Key hash: 17462433325912740162\n",
      "2023-08-24 23:09:08.184369: I tensorflow/core/framework/local_rendezvous.cc:409] Local rendezvous send item cancelled. Key hash: 5506292236489254894\n",
      "2023-08-24 23:09:08.184395: I tensorflow/core/framework/local_rendezvous.cc:405] Local rendezvous recv item cancelled. Key hash: 8398933894236897067\n",
      "2023-08-24 23:09:08.184410: I tensorflow/core/framework/local_rendezvous.cc:405] Local rendezvous recv item cancelled. Key hash: 16533776562988928842\n",
      "2023-08-24 23:09:08.184419: I tensorflow/core/framework/local_rendezvous.cc:405] Local rendezvous recv item cancelled. Key hash: 4043393014581547139\n",
      "2023-08-24 23:09:08.184428: I tensorflow/core/framework/local_rendezvous.cc:405] Local rendezvous recv item cancelled. Key hash: 1206717236877532353\n",
      "2023-08-24 23:09:08.184434: I tensorflow/core/framework/local_rendezvous.cc:405] Local rendezvous recv item cancelled. Key hash: 15945288258604837507\n",
      "2023-08-24 23:09:08.184440: I tensorflow/core/framework/local_rendezvous.cc:405] Local rendezvous recv item cancelled. Key hash: 4660884946457930735\n",
      "2023-08-24 23:09:08.184446: I tensorflow/core/framework/local_rendezvous.cc:405] Local rendezvous recv item cancelled. Key hash: 13574546747563273057\n",
      "2023-08-24 23:09:08.184455: I tensorflow/core/framework/local_rendezvous.cc:405] Local rendezvous recv item cancelled. Key hash: 4490212254955814351\n",
      "2023-08-24 23:09:08.184460: I tensorflow/core/framework/local_rendezvous.cc:409] Local rendezvous send item cancelled. Key hash: 16840752353315535839\n",
      "2023-08-24 23:09:08.184465: I tensorflow/core/framework/local_rendezvous.cc:409] Local rendezvous send item cancelled. Key hash: 1450848041232891035\n"
     ]
    },
    {
     "name": "stdout",
     "output_type": "stream",
     "text": [
      "37/37 [==============================] - 1s 15ms/step - loss: 0.7076 - accuracy: 0.7857 - sparse_levenshtein_v1: 0.2136\n"
     ]
    },
    {
     "name": "stderr",
     "output_type": "stream",
     "text": [
      "2023-08-24 23:09:51.373027: I tensorflow/core/framework/local_rendezvous.cc:405] Local rendezvous recv item cancelled. Key hash: 4043393014581547139\n",
      "2023-08-24 23:09:51.373047: I tensorflow/core/framework/local_rendezvous.cc:409] Local rendezvous send item cancelled. Key hash: 1450848041232891035\n",
      "2023-08-24 23:09:51.373053: I tensorflow/core/framework/local_rendezvous.cc:405] Local rendezvous recv item cancelled. Key hash: 1206717236877532353\n",
      "2023-08-24 23:09:51.373058: I tensorflow/core/framework/local_rendezvous.cc:405] Local rendezvous recv item cancelled. Key hash: 18427867309701289783\n",
      "2023-08-24 23:09:51.373063: I tensorflow/core/framework/local_rendezvous.cc:405] Local rendezvous recv item cancelled. Key hash: 16533776562988928842\n",
      "2023-08-24 23:09:51.373076: I tensorflow/core/framework/local_rendezvous.cc:409] Local rendezvous send item cancelled. Key hash: 5506292236489254894\n",
      "2023-08-24 23:09:51.373084: I tensorflow/core/framework/local_rendezvous.cc:405] Local rendezvous recv item cancelled. Key hash: 15945288258604837507\n",
      "2023-08-24 23:09:51.373094: I tensorflow/core/framework/local_rendezvous.cc:405] Local rendezvous recv item cancelled. Key hash: 13574546747563273057\n",
      "2023-08-24 23:09:51.373101: I tensorflow/core/framework/local_rendezvous.cc:409] Local rendezvous send item cancelled. Key hash: 16840752353315535839\n",
      "2023-08-24 23:09:51.373109: I tensorflow/core/framework/local_rendezvous.cc:405] Local rendezvous recv item cancelled. Key hash: 4490212254955814351\n",
      "2023-08-24 23:09:51.373117: I tensorflow/core/framework/local_rendezvous.cc:405] Local rendezvous recv item cancelled. Key hash: 4660884946457930735\n",
      "2023-08-24 23:09:51.373131: I tensorflow/core/framework/local_rendezvous.cc:405] Local rendezvous recv item cancelled. Key hash: 8398933894236897067\n"
     ]
    },
    {
     "name": "stdout",
     "output_type": "stream",
     "text": [
      "[I 2023-08-24 23:09:51,387] Trial 8 finished with value: 0.21363799273967743 and parameters: {'attention_heads': 1, 'learning_rate': 0.002907031584797759, 'drop_out_out_decoder': 0.15000000000000002, 'dense_layers': 2, 'drop_out': 0.1, 'encoder_kernel_size': 12}. Best is trial 5 with value: 0.20723961293697357.\n"
     ]
    },
    {
     "name": "stderr",
     "output_type": "stream",
     "text": [
      "2023-08-24 23:10:04.981023: I tensorflow/core/framework/local_rendezvous.cc:405] Local rendezvous recv item cancelled. Key hash: 12757268079264787330\n",
      "2023-08-24 23:10:04.981045: I tensorflow/core/framework/local_rendezvous.cc:409] Local rendezvous send item cancelled. Key hash: 12789179397444711400\n",
      "2023-08-24 23:10:04.981049: I tensorflow/core/framework/local_rendezvous.cc:409] Local rendezvous send item cancelled. Key hash: 10990211106464804588\n",
      "2023-08-24 23:10:04.981054: I tensorflow/core/framework/local_rendezvous.cc:405] Local rendezvous recv item cancelled. Key hash: 8542904430646633255\n",
      "2023-08-24 23:10:04.981060: I tensorflow/core/framework/local_rendezvous.cc:405] Local rendezvous recv item cancelled. Key hash: 8444774630780150825\n",
      "2023-08-24 23:10:04.981064: I tensorflow/core/framework/local_rendezvous.cc:405] Local rendezvous recv item cancelled. Key hash: 14860512762015049777\n",
      "2023-08-24 23:10:04.981067: I tensorflow/core/framework/local_rendezvous.cc:405] Local rendezvous recv item cancelled. Key hash: 11370754030368127273\n",
      "2023-08-24 23:10:04.981071: I tensorflow/core/framework/local_rendezvous.cc:405] Local rendezvous recv item cancelled. Key hash: 4384705184646604941\n",
      "2023-08-24 23:10:04.981075: I tensorflow/core/framework/local_rendezvous.cc:405] Local rendezvous recv item cancelled. Key hash: 8289598459778923579\n",
      "2023-08-24 23:10:04.981079: I tensorflow/core/framework/local_rendezvous.cc:405] Local rendezvous recv item cancelled. Key hash: 15514720972204580255\n",
      "2023-08-24 23:10:04.981082: I tensorflow/core/framework/local_rendezvous.cc:405] Local rendezvous recv item cancelled. Key hash: 13682256198359690865\n",
      "2023-08-24 23:10:04.981086: I tensorflow/core/framework/local_rendezvous.cc:405] Local rendezvous recv item cancelled. Key hash: 5443982056787726331\n",
      "2023-08-24 23:10:06.115013: I tensorflow/core/framework/local_rendezvous.cc:405] Local rendezvous recv item cancelled. Key hash: 16095602415123077184\n",
      "2023-08-24 23:10:06.115036: I tensorflow/core/framework/local_rendezvous.cc:405] Local rendezvous recv item cancelled. Key hash: 5849242914279490595\n",
      "2023-08-24 23:10:06.115048: I tensorflow/core/framework/local_rendezvous.cc:405] Local rendezvous recv item cancelled. Key hash: 15243846311387649449\n",
      "2023-08-24 23:10:06.115053: I tensorflow/core/framework/local_rendezvous.cc:405] Local rendezvous recv item cancelled. Key hash: 8066278439353247687\n",
      "2023-08-24 23:10:06.115056: I tensorflow/core/framework/local_rendezvous.cc:405] Local rendezvous recv item cancelled. Key hash: 14516621110824212481\n",
      "2023-08-24 23:10:06.115060: I tensorflow/core/framework/local_rendezvous.cc:405] Local rendezvous recv item cancelled. Key hash: 14008166818337827301\n",
      "2023-08-24 23:10:06.115064: I tensorflow/core/framework/local_rendezvous.cc:405] Local rendezvous recv item cancelled. Key hash: 8834828144555223019\n",
      "2023-08-24 23:10:06.115067: I tensorflow/core/framework/local_rendezvous.cc:405] Local rendezvous recv item cancelled. Key hash: 67879104660294989\n",
      "2023-08-24 23:10:06.115070: I tensorflow/core/framework/local_rendezvous.cc:409] Local rendezvous send item cancelled. Key hash: 12703570333243321843\n",
      "2023-08-24 23:10:06.115073: I tensorflow/core/framework/local_rendezvous.cc:409] Local rendezvous send item cancelled. Key hash: 5441464833045790559\n",
      "2023-08-24 23:10:06.115092: I tensorflow/core/framework/local_rendezvous.cc:405] Local rendezvous recv item cancelled. Key hash: 15244035701778716944\n",
      "2023-08-24 23:10:06.115104: I tensorflow/core/framework/local_rendezvous.cc:409] Local rendezvous send item cancelled. Key hash: 17535754892709585906\n"
     ]
    },
    {
     "name": "stdout",
     "output_type": "stream",
     "text": [
      "37/37 [==============================] - 1s 17ms/step - loss: 0.8321 - accuracy: 0.7649 - sparse_levenshtein_v1: 0.2306\n"
     ]
    },
    {
     "name": "stderr",
     "output_type": "stream",
     "text": [
      "2023-08-24 23:11:05.935889: I tensorflow/core/framework/local_rendezvous.cc:405] Local rendezvous recv item cancelled. Key hash: 5849242914279490595\n",
      "2023-08-24 23:11:05.935911: I tensorflow/core/framework/local_rendezvous.cc:405] Local rendezvous recv item cancelled. Key hash: 16095602415123077184\n",
      "2023-08-24 23:11:05.935925: I tensorflow/core/framework/local_rendezvous.cc:409] Local rendezvous send item cancelled. Key hash: 17535754892709585906\n",
      "2023-08-24 23:11:05.935934: I tensorflow/core/framework/local_rendezvous.cc:405] Local rendezvous recv item cancelled. Key hash: 15243846311387649449\n",
      "2023-08-24 23:11:05.935944: I tensorflow/core/framework/local_rendezvous.cc:405] Local rendezvous recv item cancelled. Key hash: 8066278439353247687\n",
      "2023-08-24 23:11:05.935949: I tensorflow/core/framework/local_rendezvous.cc:405] Local rendezvous recv item cancelled. Key hash: 14516621110824212481\n",
      "2023-08-24 23:11:05.935953: I tensorflow/core/framework/local_rendezvous.cc:405] Local rendezvous recv item cancelled. Key hash: 14008166818337827301\n",
      "2023-08-24 23:11:05.935955: I tensorflow/core/framework/local_rendezvous.cc:409] Local rendezvous send item cancelled. Key hash: 12703570333243321843\n",
      "2023-08-24 23:11:05.935964: I tensorflow/core/framework/local_rendezvous.cc:405] Local rendezvous recv item cancelled. Key hash: 67879104660294989\n",
      "2023-08-24 23:11:05.935970: I tensorflow/core/framework/local_rendezvous.cc:409] Local rendezvous send item cancelled. Key hash: 5441464833045790559\n"
     ]
    },
    {
     "name": "stdout",
     "output_type": "stream",
     "text": [
      "[I 2023-08-24 23:11:05,949] Trial 9 finished with value: 0.23060771822929382 and parameters: {'attention_heads': 4, 'learning_rate': 5.408814214352039e-05, 'drop_out_out_decoder': 0.15000000000000002, 'dense_layers': 5, 'drop_out': 0.30000000000000004, 'encoder_kernel_size': 4}. Best is trial 5 with value: 0.20723961293697357.\n"
     ]
    },
    {
     "name": "stderr",
     "output_type": "stream",
     "text": [
      "2023-08-24 23:11:18.815101: I tensorflow/core/framework/local_rendezvous.cc:409] Local rendezvous send item cancelled. Key hash: 13090555930005803152\n",
      "2023-08-24 23:11:18.815144: I tensorflow/core/framework/local_rendezvous.cc:405] Local rendezvous recv item cancelled. Key hash: 5986518923943276655\n",
      "2023-08-24 23:11:18.815160: I tensorflow/core/framework/local_rendezvous.cc:405] Local rendezvous recv item cancelled. Key hash: 2396722861808863261\n",
      "2023-08-24 23:11:18.815166: I tensorflow/core/framework/local_rendezvous.cc:409] Local rendezvous send item cancelled. Key hash: 6770998178645182539\n",
      "2023-08-24 23:11:18.815171: I tensorflow/core/framework/local_rendezvous.cc:409] Local rendezvous send item cancelled. Key hash: 8749993718932278897\n",
      "2023-08-24 23:11:18.815177: I tensorflow/core/framework/local_rendezvous.cc:405] Local rendezvous recv item cancelled. Key hash: 7064043040894125693\n",
      "2023-08-24 23:11:18.815184: I tensorflow/core/framework/local_rendezvous.cc:405] Local rendezvous recv item cancelled. Key hash: 9080406337543841637\n",
      "2023-08-24 23:11:18.815204: I tensorflow/core/framework/local_rendezvous.cc:405] Local rendezvous recv item cancelled. Key hash: 36172756028263370\n",
      "2023-08-24 23:11:18.815219: I tensorflow/core/framework/local_rendezvous.cc:405] Local rendezvous recv item cancelled. Key hash: 14955070064641402090\n",
      "2023-08-24 23:11:19.948412: I tensorflow/core/framework/local_rendezvous.cc:405] Local rendezvous recv item cancelled. Key hash: 16533776562988928842\n",
      "2023-08-24 23:11:19.948442: I tensorflow/core/framework/local_rendezvous.cc:409] Local rendezvous send item cancelled. Key hash: 5506292236489254894\n",
      "2023-08-24 23:11:19.948470: I tensorflow/core/framework/local_rendezvous.cc:405] Local rendezvous recv item cancelled. Key hash: 4490212254955814351\n",
      "2023-08-24 23:11:19.948485: I tensorflow/core/framework/local_rendezvous.cc:405] Local rendezvous recv item cancelled. Key hash: 4043393014581547139\n",
      "2023-08-24 23:11:19.948491: I tensorflow/core/framework/local_rendezvous.cc:405] Local rendezvous recv item cancelled. Key hash: 15945288258604837507\n",
      "2023-08-24 23:11:19.948495: I tensorflow/core/framework/local_rendezvous.cc:405] Local rendezvous recv item cancelled. Key hash: 4660884946457930735\n",
      "2023-08-24 23:11:19.948498: I tensorflow/core/framework/local_rendezvous.cc:409] Local rendezvous send item cancelled. Key hash: 16840752353315535839\n",
      "2023-08-24 23:11:19.948501: I tensorflow/core/framework/local_rendezvous.cc:409] Local rendezvous send item cancelled. Key hash: 1450848041232891035\n",
      "2023-08-24 23:11:19.948507: I tensorflow/core/framework/local_rendezvous.cc:405] Local rendezvous recv item cancelled. Key hash: 13574546747563273057\n",
      "2023-08-24 23:11:19.948518: I tensorflow/core/framework/local_rendezvous.cc:405] Local rendezvous recv item cancelled. Key hash: 8398933894236897067\n"
     ]
    },
    {
     "name": "stdout",
     "output_type": "stream",
     "text": [
      "37/37 [==============================] - 1s 20ms/step - loss: 0.9140 - accuracy: 0.7396 - sparse_levenshtein_v1: 0.2524\n"
     ]
    },
    {
     "name": "stderr",
     "output_type": "stream",
     "text": [
      "2023-08-24 23:12:25.740202: I tensorflow/core/framework/local_rendezvous.cc:409] Local rendezvous send item cancelled. Key hash: 5506292236489254894\n",
      "2023-08-24 23:12:25.740223: I tensorflow/core/framework/local_rendezvous.cc:405] Local rendezvous recv item cancelled. Key hash: 4043393014581547139\n",
      "2023-08-24 23:12:25.740235: I tensorflow/core/framework/local_rendezvous.cc:405] Local rendezvous recv item cancelled. Key hash: 16840752353315535839\n",
      "2023-08-24 23:12:25.740239: I tensorflow/core/framework/local_rendezvous.cc:409] Local rendezvous send item cancelled. Key hash: 1450848041232891035\n",
      "2023-08-24 23:12:25.740243: I tensorflow/core/framework/local_rendezvous.cc:405] Local rendezvous recv item cancelled. Key hash: 15945288258604837507\n",
      "2023-08-24 23:12:25.740247: I tensorflow/core/framework/local_rendezvous.cc:405] Local rendezvous recv item cancelled. Key hash: 4660884946457930735\n",
      "2023-08-24 23:12:25.740251: I tensorflow/core/framework/local_rendezvous.cc:405] Local rendezvous recv item cancelled. Key hash: 13574546747563273057\n",
      "2023-08-24 23:12:25.740254: I tensorflow/core/framework/local_rendezvous.cc:405] Local rendezvous recv item cancelled. Key hash: 4490212254955814351\n",
      "2023-08-24 23:12:25.740258: I tensorflow/core/framework/local_rendezvous.cc:405] Local rendezvous recv item cancelled. Key hash: 13834694056834019043\n",
      "2023-08-24 23:12:25.740261: I tensorflow/core/framework/local_rendezvous.cc:405] Local rendezvous recv item cancelled. Key hash: 8398933894236897067\n",
      "2023-08-24 23:12:25.740288: I tensorflow/core/framework/local_rendezvous.cc:405] Local rendezvous recv item cancelled. Key hash: 10554714152902162960\n",
      "2023-08-24 23:12:25.740302: I tensorflow/core/framework/local_rendezvous.cc:405] Local rendezvous recv item cancelled. Key hash: 14260007580078920616\n",
      "2023-08-24 23:12:25.740308: I tensorflow/core/framework/local_rendezvous.cc:405] Local rendezvous recv item cancelled. Key hash: 10929942701425622006\n",
      "2023-08-24 23:12:25.740313: I tensorflow/core/framework/local_rendezvous.cc:405] Local rendezvous recv item cancelled. Key hash: 16533776562988928842\n",
      "2023-08-24 23:12:25.740316: I tensorflow/core/framework/local_rendezvous.cc:409] Local rendezvous send item cancelled. Key hash: 16840752353315535839\n"
     ]
    },
    {
     "name": "stdout",
     "output_type": "stream",
     "text": [
      "[I 2023-08-24 23:12:25,754] Trial 10 finished with value: 0.25239840149879456 and parameters: {'attention_heads': 6, 'learning_rate': 0.07862241862530331, 'drop_out_out_decoder': 0.0, 'dense_layers': 2, 'drop_out': 0.0, 'encoder_kernel_size': 6}. Best is trial 5 with value: 0.20723961293697357.\n"
     ]
    },
    {
     "name": "stderr",
     "output_type": "stream",
     "text": [
      "2023-08-24 23:12:36.906932: I tensorflow/core/framework/local_rendezvous.cc:405] Local rendezvous recv item cancelled. Key hash: 10916284807751889165\n",
      "2023-08-24 23:12:36.906953: I tensorflow/core/framework/local_rendezvous.cc:405] Local rendezvous recv item cancelled. Key hash: 7276884332813488729\n",
      "2023-08-24 23:12:36.906958: I tensorflow/core/framework/local_rendezvous.cc:405] Local rendezvous recv item cancelled. Key hash: 6767536833890546843\n",
      "2023-08-24 23:12:36.906961: I tensorflow/core/framework/local_rendezvous.cc:409] Local rendezvous send item cancelled. Key hash: 15392542855819044139\n",
      "2023-08-24 23:12:36.906965: I tensorflow/core/framework/local_rendezvous.cc:405] Local rendezvous recv item cancelled. Key hash: 383851057881771033\n",
      "2023-08-24 23:12:36.906970: I tensorflow/core/framework/local_rendezvous.cc:405] Local rendezvous recv item cancelled. Key hash: 14919602603579351210\n",
      "2023-08-24 23:12:36.906975: I tensorflow/core/framework/local_rendezvous.cc:405] Local rendezvous recv item cancelled. Key hash: 11792944971993156018\n",
      "2023-08-24 23:12:36.906979: I tensorflow/core/framework/local_rendezvous.cc:405] Local rendezvous recv item cancelled. Key hash: 7807076819443587984\n",
      "2023-08-24 23:12:36.906982: I tensorflow/core/framework/local_rendezvous.cc:409] Local rendezvous send item cancelled. Key hash: 11913430264390020188\n",
      "2023-08-24 23:12:36.906985: I tensorflow/core/framework/local_rendezvous.cc:405] Local rendezvous recv item cancelled. Key hash: 11676086978295238596\n",
      "2023-08-24 23:12:37.861637: I tensorflow/core/framework/local_rendezvous.cc:405] Local rendezvous recv item cancelled. Key hash: 8691633288976978108\n",
      "2023-08-24 23:12:37.861664: I tensorflow/core/framework/local_rendezvous.cc:405] Local rendezvous recv item cancelled. Key hash: 2743667978795037652\n",
      "2023-08-24 23:12:37.861669: I tensorflow/core/framework/local_rendezvous.cc:405] Local rendezvous recv item cancelled. Key hash: 10554714152902162960\n",
      "2023-08-24 23:12:37.861673: I tensorflow/core/framework/local_rendezvous.cc:405] Local rendezvous recv item cancelled. Key hash: 16367670323955477432\n",
      "2023-08-24 23:12:37.861677: I tensorflow/core/framework/local_rendezvous.cc:405] Local rendezvous recv item cancelled. Key hash: 1476156307811404690\n",
      "2023-08-24 23:12:37.861680: I tensorflow/core/framework/local_rendezvous.cc:405] Local rendezvous recv item cancelled. Key hash: 1613186535586265752\n",
      "2023-08-24 23:12:37.861684: I tensorflow/core/framework/local_rendezvous.cc:405] Local rendezvous recv item cancelled. Key hash: 18021805859281497606\n",
      "2023-08-24 23:12:37.861688: I tensorflow/core/framework/local_rendezvous.cc:405] Local rendezvous recv item cancelled. Key hash: 478258307780595638\n",
      "2023-08-24 23:12:37.861708: I tensorflow/core/framework/local_rendezvous.cc:405] Local rendezvous recv item cancelled. Key hash: 17521532888376905191\n",
      "2023-08-24 23:12:37.861722: I tensorflow/core/framework/local_rendezvous.cc:405] Local rendezvous recv item cancelled. Key hash: 15353853180446806753\n",
      "2023-08-24 23:12:37.861727: I tensorflow/core/framework/local_rendezvous.cc:405] Local rendezvous recv item cancelled. Key hash: 10529973821193559269\n",
      "2023-08-24 23:12:37.861731: I tensorflow/core/framework/local_rendezvous.cc:405] Local rendezvous recv item cancelled. Key hash: 11841182398092979523\n",
      "2023-08-24 23:12:37.861737: I tensorflow/core/framework/local_rendezvous.cc:405] Local rendezvous recv item cancelled. Key hash: 2237096573546425971\n",
      "2023-08-24 23:12:37.861742: I tensorflow/core/framework/local_rendezvous.cc:405] Local rendezvous recv item cancelled. Key hash: 8444774630780150825\n"
     ]
    },
    {
     "name": "stdout",
     "output_type": "stream",
     "text": [
      "37/37 [==============================] - 1s 16ms/step - loss: 0.6955 - accuracy: 0.7907 - sparse_levenshtein_v1: 0.2086\n"
     ]
    },
    {
     "name": "stderr",
     "output_type": "stream",
     "text": [
      "2023-08-24 23:13:26.568879: I tensorflow/core/framework/local_rendezvous.cc:405] Local rendezvous recv item cancelled. Key hash: 8691633288976978108\n",
      "2023-08-24 23:13:26.568900: I tensorflow/core/framework/local_rendezvous.cc:405] Local rendezvous recv item cancelled. Key hash: 10529973821193559269\n",
      "2023-08-24 23:13:26.568912: I tensorflow/core/framework/local_rendezvous.cc:405] Local rendezvous recv item cancelled. Key hash: 16367670323955477432\n",
      "2023-08-24 23:13:26.568920: I tensorflow/core/framework/local_rendezvous.cc:405] Local rendezvous recv item cancelled. Key hash: 1476156307811404690\n",
      "2023-08-24 23:13:26.568924: I tensorflow/core/framework/local_rendezvous.cc:405] Local rendezvous recv item cancelled. Key hash: 11841182398092979523\n",
      "2023-08-24 23:13:26.568932: I tensorflow/core/framework/local_rendezvous.cc:409] Local rendezvous send item cancelled. Key hash: 5220213433240516020\n",
      "2023-08-24 23:13:26.568938: I tensorflow/core/framework/local_rendezvous.cc:409] Local rendezvous send item cancelled. Key hash: 6917883784121192156\n",
      "2023-08-24 23:13:26.568941: I tensorflow/core/framework/local_rendezvous.cc:409] Local rendezvous send item cancelled. Key hash: 9396577140295686126\n",
      "2023-08-24 23:13:26.568946: I tensorflow/core/framework/local_rendezvous.cc:405] Local rendezvous recv item cancelled. Key hash: 2237096573546425971\n"
     ]
    },
    {
     "name": "stdout",
     "output_type": "stream",
     "text": [
      "[I 2023-08-24 23:13:26,582] Trial 11 finished with value: 0.2086150199174881 and parameters: {'attention_heads': 3, 'learning_rate': 0.002327162121485248, 'drop_out_out_decoder': 0.25, 'dense_layers': 1, 'drop_out': 0.15000000000000002, 'encoder_kernel_size': 10}. Best is trial 5 with value: 0.20723961293697357.\n"
     ]
    },
    {
     "name": "stderr",
     "output_type": "stream",
     "text": [
      "2023-08-24 23:13:37.818313: I tensorflow/core/framework/local_rendezvous.cc:405] Local rendezvous recv item cancelled. Key hash: 10916284807751889165\n",
      "2023-08-24 23:13:37.818335: I tensorflow/core/framework/local_rendezvous.cc:405] Local rendezvous recv item cancelled. Key hash: 7276884332813488729\n",
      "2023-08-24 23:13:37.818340: I tensorflow/core/framework/local_rendezvous.cc:405] Local rendezvous recv item cancelled. Key hash: 6767536833890546843\n",
      "2023-08-24 23:13:37.818343: I tensorflow/core/framework/local_rendezvous.cc:409] Local rendezvous send item cancelled. Key hash: 15392542855819044139\n",
      "2023-08-24 23:13:37.818346: I tensorflow/core/framework/local_rendezvous.cc:409] Local rendezvous send item cancelled. Key hash: 2963269039563220889\n",
      "2023-08-24 23:13:37.818350: I tensorflow/core/framework/local_rendezvous.cc:405] Local rendezvous recv item cancelled. Key hash: 15903246134579218615\n",
      "2023-08-24 23:13:37.818353: I tensorflow/core/framework/local_rendezvous.cc:405] Local rendezvous recv item cancelled. Key hash: 383851057881771033\n",
      "2023-08-24 23:13:37.818357: I tensorflow/core/framework/local_rendezvous.cc:405] Local rendezvous recv item cancelled. Key hash: 8948913151972994091\n",
      "2023-08-24 23:13:37.818362: I tensorflow/core/framework/local_rendezvous.cc:405] Local rendezvous recv item cancelled. Key hash: 14328131127443744830\n",
      "2023-08-24 23:13:37.818366: I tensorflow/core/framework/local_rendezvous.cc:405] Local rendezvous recv item cancelled. Key hash: 5101488706734153936\n",
      "2023-08-24 23:13:37.818370: I tensorflow/core/framework/local_rendezvous.cc:405] Local rendezvous recv item cancelled. Key hash: 11792944971993156018\n",
      "2023-08-24 23:13:37.818374: I tensorflow/core/framework/local_rendezvous.cc:405] Local rendezvous recv item cancelled. Key hash: 7807076819443587984\n",
      "2023-08-24 23:13:37.818377: I tensorflow/core/framework/local_rendezvous.cc:409] Local rendezvous send item cancelled. Key hash: 11913430264390020188\n",
      "2023-08-24 23:13:37.818381: I tensorflow/core/framework/local_rendezvous.cc:405] Local rendezvous recv item cancelled. Key hash: 9749949426167817932\n",
      "2023-08-24 23:13:38.780375: I tensorflow/core/framework/local_rendezvous.cc:405] Local rendezvous recv item cancelled. Key hash: 8691633288976978108\n",
      "2023-08-24 23:13:38.780401: I tensorflow/core/framework/local_rendezvous.cc:405] Local rendezvous recv item cancelled. Key hash: 2743667978795037652\n",
      "2023-08-24 23:13:38.780406: I tensorflow/core/framework/local_rendezvous.cc:409] Local rendezvous send item cancelled. Key hash: 5220213433240516020\n",
      "2023-08-24 23:13:38.780409: I tensorflow/core/framework/local_rendezvous.cc:409] Local rendezvous send item cancelled. Key hash: 9396577140295686126\n",
      "2023-08-24 23:13:38.780412: I tensorflow/core/framework/local_rendezvous.cc:405] Local rendezvous recv item cancelled. Key hash: 1613186535586265752\n",
      "2023-08-24 23:13:38.780416: I tensorflow/core/framework/local_rendezvous.cc:405] Local rendezvous recv item cancelled. Key hash: 16367670323955477432\n",
      "2023-08-24 23:13:38.780419: I tensorflow/core/framework/local_rendezvous.cc:405] Local rendezvous recv item cancelled. Key hash: 1476156307811404690\n",
      "2023-08-24 23:13:38.780422: I tensorflow/core/framework/local_rendezvous.cc:409] Local rendezvous send item cancelled. Key hash: 6917883784121192156\n",
      "2023-08-24 23:13:38.780428: I tensorflow/core/framework/local_rendezvous.cc:405] Local rendezvous recv item cancelled. Key hash: 10529973821193559269\n",
      "2023-08-24 23:13:38.780443: I tensorflow/core/framework/local_rendezvous.cc:405] Local rendezvous recv item cancelled. Key hash: 11841182398092979523\n",
      "2023-08-24 23:13:38.780451: I tensorflow/core/framework/local_rendezvous.cc:405] Local rendezvous recv item cancelled. Key hash: 2237096573546425971\n"
     ]
    },
    {
     "name": "stdout",
     "output_type": "stream",
     "text": [
      "37/37 [==============================] - 1s 16ms/step - loss: 0.8783 - accuracy: 0.7553 - sparse_levenshtein_v1: 0.2378\n"
     ]
    },
    {
     "name": "stderr",
     "output_type": "stream",
     "text": [
      "2023-08-24 23:14:27.585323: I tensorflow/core/framework/local_rendezvous.cc:405] Local rendezvous recv item cancelled. Key hash: 8691633288976978108\n",
      "2023-08-24 23:14:27.585344: I tensorflow/core/framework/local_rendezvous.cc:405] Local rendezvous recv item cancelled. Key hash: 2743667978795037652\n",
      "2023-08-24 23:14:27.585349: I tensorflow/core/framework/local_rendezvous.cc:405] Local rendezvous recv item cancelled. Key hash: 1613186535586265752\n",
      "2023-08-24 23:14:27.585353: I tensorflow/core/framework/local_rendezvous.cc:405] Local rendezvous recv item cancelled. Key hash: 16367670323955477432\n",
      "2023-08-24 23:14:27.585357: I tensorflow/core/framework/local_rendezvous.cc:405] Local rendezvous recv item cancelled. Key hash: 1476156307811404690\n",
      "2023-08-24 23:14:27.585361: I tensorflow/core/framework/local_rendezvous.cc:405] Local rendezvous recv item cancelled. Key hash: 12993395827524361432\n",
      "2023-08-24 23:14:27.585387: I tensorflow/core/framework/local_rendezvous.cc:405] Local rendezvous recv item cancelled. Key hash: 17521532888376905191\n",
      "2023-08-24 23:14:27.585401: I tensorflow/core/framework/local_rendezvous.cc:405] Local rendezvous recv item cancelled. Key hash: 15353853180446806753\n",
      "2023-08-24 23:14:27.585407: I tensorflow/core/framework/local_rendezvous.cc:405] Local rendezvous recv item cancelled. Key hash: 10529973821193559269\n",
      "2023-08-24 23:14:27.585411: I tensorflow/core/framework/local_rendezvous.cc:405] Local rendezvous recv item cancelled. Key hash: 11841182398092979523\n",
      "2023-08-24 23:14:27.585418: I tensorflow/core/framework/local_rendezvous.cc:405] Local rendezvous recv item cancelled. Key hash: 2237096573546425971\n",
      "2023-08-24 23:14:27.585422: I tensorflow/core/framework/local_rendezvous.cc:405] Local rendezvous recv item cancelled. Key hash: 8444774630780150825\n"
     ]
    },
    {
     "name": "stdout",
     "output_type": "stream",
     "text": [
      "[I 2023-08-24 23:14:27,599] Trial 12 finished with value: 0.23779067397117615 and parameters: {'attention_heads': 3, 'learning_rate': 2.6914344308581432e-05, 'drop_out_out_decoder': 0.45, 'dense_layers': 1, 'drop_out': 0.15000000000000002, 'encoder_kernel_size': 9}. Best is trial 5 with value: 0.20723961293697357.\n"
     ]
    },
    {
     "name": "stderr",
     "output_type": "stream",
     "text": [
      "2023-08-24 23:14:40.119530: I tensorflow/core/framework/local_rendezvous.cc:409] Local rendezvous send item cancelled. Key hash: 10679808696709597294\n",
      "2023-08-24 23:14:40.119559: I tensorflow/core/framework/local_rendezvous.cc:405] Local rendezvous recv item cancelled. Key hash: 2300739734541965369\n",
      "2023-08-24 23:14:40.119575: I tensorflow/core/framework/local_rendezvous.cc:405] Local rendezvous recv item cancelled. Key hash: 17462433325912740162\n",
      "2023-08-24 23:14:40.119586: I tensorflow/core/framework/local_rendezvous.cc:405] Local rendezvous recv item cancelled. Key hash: 15612692012796965249\n",
      "2023-08-24 23:14:40.119597: I tensorflow/core/framework/local_rendezvous.cc:405] Local rendezvous recv item cancelled. Key hash: 3468849753047011910\n",
      "2023-08-24 23:14:40.119608: I tensorflow/core/framework/local_rendezvous.cc:405] Local rendezvous recv item cancelled. Key hash: 10961925421118499671\n",
      "2023-08-24 23:14:40.119619: I tensorflow/core/framework/local_rendezvous.cc:409] Local rendezvous send item cancelled. Key hash: 16256859165763845697\n",
      "2023-08-24 23:14:40.119628: I tensorflow/core/framework/local_rendezvous.cc:405] Local rendezvous recv item cancelled. Key hash: 5574638648725174466\n",
      "2023-08-24 23:14:40.119637: I tensorflow/core/framework/local_rendezvous.cc:405] Local rendezvous recv item cancelled. Key hash: 8462537538282070508\n",
      "2023-08-24 23:14:41.172917: I tensorflow/core/framework/local_rendezvous.cc:409] Local rendezvous send item cancelled. Key hash: 5506292236489254894\n",
      "2023-08-24 23:14:41.172947: I tensorflow/core/framework/local_rendezvous.cc:405] Local rendezvous recv item cancelled. Key hash: 10554714152902162960\n",
      "2023-08-24 23:14:41.172955: I tensorflow/core/framework/local_rendezvous.cc:405] Local rendezvous recv item cancelled. Key hash: 16533776562988928842\n",
      "2023-08-24 23:14:41.172977: I tensorflow/core/framework/local_rendezvous.cc:409] Local rendezvous send item cancelled. Key hash: 1450848041232891035\n",
      "2023-08-24 23:14:41.172992: I tensorflow/core/framework/local_rendezvous.cc:405] Local rendezvous recv item cancelled. Key hash: 15945288258604837507\n",
      "2023-08-24 23:14:41.172996: I tensorflow/core/framework/local_rendezvous.cc:405] Local rendezvous recv item cancelled. Key hash: 4660884946457930735\n",
      "2023-08-24 23:14:41.173000: I tensorflow/core/framework/local_rendezvous.cc:405] Local rendezvous recv item cancelled. Key hash: 13574546747563273057\n",
      "2023-08-24 23:14:41.173004: I tensorflow/core/framework/local_rendezvous.cc:405] Local rendezvous recv item cancelled. Key hash: 4490212254955814351\n",
      "2023-08-24 23:14:41.173007: I tensorflow/core/framework/local_rendezvous.cc:409] Local rendezvous send item cancelled. Key hash: 16840752353315535839\n",
      "2023-08-24 23:14:41.173014: I tensorflow/core/framework/local_rendezvous.cc:405] Local rendezvous recv item cancelled. Key hash: 8398933894236897067\n"
     ]
    },
    {
     "name": "stdout",
     "output_type": "stream",
     "text": [
      "37/37 [==============================] - 1s 19ms/step - loss: 0.6905 - accuracy: 0.7907 - sparse_levenshtein_v1: 0.2082\n"
     ]
    },
    {
     "name": "stderr",
     "output_type": "stream",
     "text": [
      "2023-08-24 23:15:41.747460: I tensorflow/core/framework/local_rendezvous.cc:405] Local rendezvous recv item cancelled. Key hash: 4043393014581547139\n",
      "2023-08-24 23:15:41.747485: I tensorflow/core/framework/local_rendezvous.cc:405] Local rendezvous recv item cancelled. Key hash: 13834694056834019043\n",
      "2023-08-24 23:15:41.747491: I tensorflow/core/framework/local_rendezvous.cc:405] Local rendezvous recv item cancelled. Key hash: 1206717236877532353\n",
      "2023-08-24 23:15:41.747495: I tensorflow/core/framework/local_rendezvous.cc:405] Local rendezvous recv item cancelled. Key hash: 18427867309701289783\n",
      "2023-08-24 23:15:41.747499: I tensorflow/core/framework/local_rendezvous.cc:405] Local rendezvous recv item cancelled. Key hash: 15945288258604837507\n",
      "2023-08-24 23:15:41.747503: I tensorflow/core/framework/local_rendezvous.cc:405] Local rendezvous recv item cancelled. Key hash: 4660884946457930735\n",
      "2023-08-24 23:15:41.747506: I tensorflow/core/framework/local_rendezvous.cc:405] Local rendezvous recv item cancelled. Key hash: 13574546747563273057\n",
      "2023-08-24 23:15:41.747510: I tensorflow/core/framework/local_rendezvous.cc:405] Local rendezvous recv item cancelled. Key hash: 1450848041232891035\n",
      "2023-08-24 23:15:41.747514: I tensorflow/core/framework/local_rendezvous.cc:405] Local rendezvous recv item cancelled. Key hash: 8398933894236897067\n",
      "2023-08-24 23:15:41.747522: I tensorflow/core/framework/local_rendezvous.cc:405] Local rendezvous recv item cancelled. Key hash: 14260007580078920616\n",
      "2023-08-24 23:15:41.747526: I tensorflow/core/framework/local_rendezvous.cc:405] Local rendezvous recv item cancelled. Key hash: 3421951043307411106\n",
      "2023-08-24 23:15:41.747530: I tensorflow/core/framework/local_rendezvous.cc:405] Local rendezvous recv item cancelled. Key hash: 16862907556147870040\n",
      "2023-08-24 23:15:41.747534: I tensorflow/core/framework/local_rendezvous.cc:405] Local rendezvous recv item cancelled. Key hash: 10554714152902162960\n",
      "2023-08-24 23:15:41.747537: I tensorflow/core/framework/local_rendezvous.cc:405] Local rendezvous recv item cancelled. Key hash: 10929942701425622006\n",
      "2023-08-24 23:15:41.747541: I tensorflow/core/framework/local_rendezvous.cc:405] Local rendezvous recv item cancelled. Key hash: 6041740088792853602\n",
      "2023-08-24 23:15:41.747549: I tensorflow/core/framework/local_rendezvous.cc:405] Local rendezvous recv item cancelled. Key hash: 1613186535586265752\n",
      "2023-08-24 23:15:41.747553: I tensorflow/core/framework/local_rendezvous.cc:405] Local rendezvous recv item cancelled. Key hash: 16533776562988928842\n",
      "2023-08-24 23:15:41.747556: I tensorflow/core/framework/local_rendezvous.cc:409] Local rendezvous send item cancelled. Key hash: 1450848041232891035\n"
     ]
    },
    {
     "name": "stdout",
     "output_type": "stream",
     "text": [
      "[I 2023-08-24 23:15:41,761] Trial 13 finished with value: 0.20822617411613464 and parameters: {'attention_heads': 5, 'learning_rate': 0.0010577025904831424, 'drop_out_out_decoder': 0.2, 'dense_layers': 2, 'drop_out': 0.1, 'encoder_kernel_size': 6}. Best is trial 5 with value: 0.20723961293697357.\n"
     ]
    },
    {
     "name": "stderr",
     "output_type": "stream",
     "text": [
      "2023-08-24 23:15:56.110437: I tensorflow/core/framework/local_rendezvous.cc:405] Local rendezvous recv item cancelled. Key hash: 3424204772537528400\n",
      "2023-08-24 23:15:56.110463: I tensorflow/core/framework/local_rendezvous.cc:405] Local rendezvous recv item cancelled. Key hash: 529467994909151458\n",
      "2023-08-24 23:15:56.110469: I tensorflow/core/framework/local_rendezvous.cc:405] Local rendezvous recv item cancelled. Key hash: 15034150807406559276\n",
      "2023-08-24 23:15:56.110472: I tensorflow/core/framework/local_rendezvous.cc:409] Local rendezvous send item cancelled. Key hash: 2588962778262804380\n",
      "2023-08-24 23:15:56.110475: I tensorflow/core/framework/local_rendezvous.cc:405] Local rendezvous recv item cancelled. Key hash: 7120609577363729420\n",
      "2023-08-24 23:15:56.110479: I tensorflow/core/framework/local_rendezvous.cc:405] Local rendezvous recv item cancelled. Key hash: 785281616794443382\n",
      "2023-08-24 23:15:56.110495: I tensorflow/core/framework/local_rendezvous.cc:405] Local rendezvous recv item cancelled. Key hash: 7497149590813477413\n",
      "2023-08-24 23:15:56.110506: I tensorflow/core/framework/local_rendezvous.cc:405] Local rendezvous recv item cancelled. Key hash: 15769087405874361247\n",
      "2023-08-24 23:15:56.110516: I tensorflow/core/framework/local_rendezvous.cc:405] Local rendezvous recv item cancelled. Key hash: 942442071819476621\n",
      "2023-08-24 23:15:57.352210: I tensorflow/core/framework/local_rendezvous.cc:409] Local rendezvous send item cancelled. Key hash: 12016048244375122716\n",
      "2023-08-24 23:15:57.352234: I tensorflow/core/framework/local_rendezvous.cc:405] Local rendezvous recv item cancelled. Key hash: 6293719858651920263\n",
      "2023-08-24 23:15:57.352246: I tensorflow/core/framework/local_rendezvous.cc:409] Local rendezvous send item cancelled. Key hash: 12014679664685144331\n",
      "2023-08-24 23:15:57.352251: I tensorflow/core/framework/local_rendezvous.cc:405] Local rendezvous recv item cancelled. Key hash: 14260007580078920616\n",
      "2023-08-24 23:15:57.352258: I tensorflow/core/framework/local_rendezvous.cc:405] Local rendezvous recv item cancelled. Key hash: 13593176319434480301\n",
      "2023-08-24 23:15:57.352265: I tensorflow/core/framework/local_rendezvous.cc:405] Local rendezvous recv item cancelled. Key hash: 16250310650722739560\n",
      "2023-08-24 23:15:57.352270: I tensorflow/core/framework/local_rendezvous.cc:405] Local rendezvous recv item cancelled. Key hash: 15779130230596504287\n",
      "2023-08-24 23:15:57.352276: I tensorflow/core/framework/local_rendezvous.cc:405] Local rendezvous recv item cancelled. Key hash: 11070233786440013554\n",
      "2023-08-24 23:15:57.352282: I tensorflow/core/framework/local_rendezvous.cc:405] Local rendezvous recv item cancelled. Key hash: 1326805167302453531\n",
      "2023-08-24 23:15:57.352287: I tensorflow/core/framework/local_rendezvous.cc:405] Local rendezvous recv item cancelled. Key hash: 5905604276555639156\n",
      "2023-08-24 23:15:57.352293: I tensorflow/core/framework/local_rendezvous.cc:405] Local rendezvous recv item cancelled. Key hash: 12146478000807595435\n",
      "2023-08-24 23:15:57.352299: I tensorflow/core/framework/local_rendezvous.cc:405] Local rendezvous recv item cancelled. Key hash: 14201303978439850340\n",
      "2023-08-24 23:15:57.352305: I tensorflow/core/framework/local_rendezvous.cc:405] Local rendezvous recv item cancelled. Key hash: 9497912378982960817\n",
      "2023-08-24 23:15:57.352310: I tensorflow/core/framework/local_rendezvous.cc:405] Local rendezvous recv item cancelled. Key hash: 17394515146146938136\n",
      "2023-08-24 23:15:57.352314: I tensorflow/core/framework/local_rendezvous.cc:409] Local rendezvous send item cancelled. Key hash: 5507448560920190228\n"
     ]
    },
    {
     "name": "stdout",
     "output_type": "stream",
     "text": [
      "37/37 [==============================] - 1s 23ms/step - loss: 0.7501 - accuracy: 0.7767 - sparse_levenshtein_v1: 0.2217\n"
     ]
    },
    {
     "name": "stderr",
     "output_type": "stream",
     "text": [
      "2023-08-24 23:17:16.138276: I tensorflow/core/framework/local_rendezvous.cc:405] Local rendezvous recv item cancelled. Key hash: 5905604276555639156\n",
      "2023-08-24 23:17:16.138295: I tensorflow/core/framework/local_rendezvous.cc:405] Local rendezvous recv item cancelled. Key hash: 14201303978439850340\n",
      "2023-08-24 23:17:16.138300: I tensorflow/core/framework/local_rendezvous.cc:409] Local rendezvous send item cancelled. Key hash: 12016048244375122716\n",
      "2023-08-24 23:17:16.138306: I tensorflow/core/framework/local_rendezvous.cc:409] Local rendezvous send item cancelled. Key hash: 5507448560920190228\n",
      "2023-08-24 23:17:16.138313: I tensorflow/core/framework/local_rendezvous.cc:409] Local rendezvous send item cancelled. Key hash: 12014679664685144331\n",
      "2023-08-24 23:17:16.138328: I tensorflow/core/framework/local_rendezvous.cc:405] Local rendezvous recv item cancelled. Key hash: 15779130230596504287\n",
      "2023-08-24 23:17:16.138338: I tensorflow/core/framework/local_rendezvous.cc:405] Local rendezvous recv item cancelled. Key hash: 13593176319434480301\n",
      "2023-08-24 23:17:16.138343: I tensorflow/core/framework/local_rendezvous.cc:405] Local rendezvous recv item cancelled. Key hash: 12146478000807595435\n",
      "2023-08-24 23:17:16.138349: I tensorflow/core/framework/local_rendezvous.cc:405] Local rendezvous recv item cancelled. Key hash: 6293719858651920263\n"
     ]
    },
    {
     "name": "stdout",
     "output_type": "stream",
     "text": [
      "[I 2023-08-24 23:17:16,152] Trial 14 finished with value: 0.22172032296657562 and parameters: {'attention_heads': 8, 'learning_rate': 0.00014370118661656016, 'drop_out_out_decoder': 0.05, 'dense_layers': 3, 'drop_out': 0.05, 'encoder_kernel_size': 6}. Best is trial 5 with value: 0.20723961293697357.\n"
     ]
    }
   ],
   "source": [
    "study = optuna.create_study(direction='minimize')\n",
    "study.optimize(objective, n_trials=TRIALS, gc_after_trial=True, show_progress_bar=True)"
   ]
  },
  {
   "cell_type": "code",
   "execution_count": 5,
   "metadata": {},
   "outputs": [
    {
     "name": "stdout",
     "output_type": "stream",
     "text": [
      "Best model: 1\n",
      "Epoch 1/5000\n",
      "    163/Unknown - 13s 50ms/step - loss: 1.1274 - accuracy: 0.7228 - sparse_levenshtein_v1: 0.2653"
     ]
    },
    {
     "name": "stderr",
     "output_type": "stream",
     "text": [
      "2023-08-24 23:17:30.359056: I tensorflow/core/framework/local_rendezvous.cc:409] Local rendezvous send item cancelled. Key hash: 10679808696709597294\n",
      "2023-08-24 23:17:30.359081: I tensorflow/core/framework/local_rendezvous.cc:405] Local rendezvous recv item cancelled. Key hash: 8462537538282070508\n",
      "2023-08-24 23:17:30.359088: I tensorflow/core/framework/local_rendezvous.cc:405] Local rendezvous recv item cancelled. Key hash: 17462433325912740162\n",
      "2023-08-24 23:17:30.359094: I tensorflow/core/framework/local_rendezvous.cc:405] Local rendezvous recv item cancelled. Key hash: 5574638648725174466\n",
      "2023-08-24 23:17:30.359098: I tensorflow/core/framework/local_rendezvous.cc:405] Local rendezvous recv item cancelled. Key hash: 3468849753047011910\n",
      "2023-08-24 23:17:30.359103: I tensorflow/core/framework/local_rendezvous.cc:405] Local rendezvous recv item cancelled. Key hash: 4007221271743077954\n",
      "2023-08-24 23:17:30.359108: I tensorflow/core/framework/local_rendezvous.cc:405] Local rendezvous recv item cancelled. Key hash: 15612692012796965249\n",
      "2023-08-24 23:17:30.359125: I tensorflow/core/framework/local_rendezvous.cc:405] Local rendezvous recv item cancelled. Key hash: 10961925421118499671\n",
      "2023-08-24 23:17:30.359131: I tensorflow/core/framework/local_rendezvous.cc:409] Local rendezvous send item cancelled. Key hash: 13469003212748147843\n",
      "2023-08-24 23:17:30.359143: I tensorflow/core/framework/local_rendezvous.cc:409] Local rendezvous send item cancelled. Key hash: 16256859165763845697\n"
     ]
    },
    {
     "name": "stdout",
     "output_type": "stream",
     "text": [
      "163/163 [==============================] - 15s 58ms/step - loss: 1.1274 - accuracy: 0.7228 - sparse_levenshtein_v1: 0.2653 - val_loss: 0.8311 - val_accuracy: 0.7597 - val_sparse_levenshtein_v1: 0.2343\n"
     ]
    },
    {
     "name": "stderr",
     "output_type": "stream",
     "text": [
      "2023-08-24 23:17:31.572902: I tensorflow/core/framework/local_rendezvous.cc:405] Local rendezvous recv item cancelled. Key hash: 16533776562988928842\n",
      "2023-08-24 23:17:31.572934: I tensorflow/core/framework/local_rendezvous.cc:405] Local rendezvous recv item cancelled. Key hash: 4043393014581547139\n",
      "2023-08-24 23:17:31.572943: I tensorflow/core/framework/local_rendezvous.cc:405] Local rendezvous recv item cancelled. Key hash: 15945288258604837507\n",
      "2023-08-24 23:17:31.572950: I tensorflow/core/framework/local_rendezvous.cc:405] Local rendezvous recv item cancelled. Key hash: 4490212254955814351\n",
      "2023-08-24 23:17:31.572957: I tensorflow/core/framework/local_rendezvous.cc:405] Local rendezvous recv item cancelled. Key hash: 13574546747563273057\n",
      "2023-08-24 23:17:31.572963: I tensorflow/core/framework/local_rendezvous.cc:405] Local rendezvous recv item cancelled. Key hash: 8398933894236897067\n",
      "2023-08-24 23:17:31.572977: I tensorflow/core/framework/local_rendezvous.cc:405] Local rendezvous recv item cancelled. Key hash: 1613186535586265752\n",
      "2023-08-24 23:17:31.572984: I tensorflow/core/framework/local_rendezvous.cc:405] Local rendezvous recv item cancelled. Key hash: 14260007580078920616\n",
      "2023-08-24 23:17:31.572989: I tensorflow/core/framework/local_rendezvous.cc:409] Local rendezvous send item cancelled. Key hash: 5506292236489254894\n"
     ]
    },
    {
     "name": "stdout",
     "output_type": "stream",
     "text": [
      "Epoch 2/5000\n",
      "163/163 [==============================] - 9s 52ms/step - loss: 0.8304 - accuracy: 0.7601 - sparse_levenshtein_v1: 0.2325 - val_loss: 0.7838 - val_accuracy: 0.7688 - val_sparse_levenshtein_v1: 0.2276\n",
      "Epoch 3/5000\n",
      "163/163 [==============================] - 9s 53ms/step - loss: 0.7911 - accuracy: 0.7683 - sparse_levenshtein_v1: 0.2269 - val_loss: 0.7612 - val_accuracy: 0.7744 - val_sparse_levenshtein_v1: 0.2224\n",
      "Epoch 4/5000\n",
      "163/163 [==============================] - 9s 53ms/step - loss: 0.7650 - accuracy: 0.7745 - sparse_levenshtein_v1: 0.2218 - val_loss: 0.7415 - val_accuracy: 0.7779 - val_sparse_levenshtein_v1: 0.2207\n",
      "Epoch 5/5000\n",
      "163/163 [==============================] - 9s 53ms/step - loss: 0.7461 - accuracy: 0.7784 - sparse_levenshtein_v1: 0.2185 - val_loss: 0.7229 - val_accuracy: 0.7830 - val_sparse_levenshtein_v1: 0.2159\n",
      "Epoch 6/5000\n",
      "163/163 [==============================] - 9s 52ms/step - loss: 0.7341 - accuracy: 0.7813 - sparse_levenshtein_v1: 0.2161 - val_loss: 0.7194 - val_accuracy: 0.7833 - val_sparse_levenshtein_v1: 0.2156\n",
      "Epoch 7/5000\n",
      "163/163 [==============================] - 9s 52ms/step - loss: 0.7243 - accuracy: 0.7838 - sparse_levenshtein_v1: 0.2140 - val_loss: 0.7041 - val_accuracy: 0.7871 - val_sparse_levenshtein_v1: 0.2121\n",
      "Epoch 8/5000\n",
      "163/163 [==============================] - 9s 52ms/step - loss: 0.7146 - accuracy: 0.7862 - sparse_levenshtein_v1: 0.2118 - val_loss: 0.6960 - val_accuracy: 0.7892 - val_sparse_levenshtein_v1: 0.2110\n",
      "Epoch 9/5000\n",
      "163/163 [==============================] - 9s 52ms/step - loss: 0.7062 - accuracy: 0.7887 - sparse_levenshtein_v1: 0.2096 - val_loss: 0.6887 - val_accuracy: 0.7914 - val_sparse_levenshtein_v1: 0.2085\n",
      "Epoch 10/5000\n",
      "163/163 [==============================] - 9s 52ms/step - loss: 0.6996 - accuracy: 0.7901 - sparse_levenshtein_v1: 0.2081 - val_loss: 0.6824 - val_accuracy: 0.7929 - val_sparse_levenshtein_v1: 0.2068\n",
      "Epoch 11/5000\n",
      "163/163 [==============================] - 9s 52ms/step - loss: 0.6931 - accuracy: 0.7916 - sparse_levenshtein_v1: 0.2066 - val_loss: 0.6752 - val_accuracy: 0.7946 - val_sparse_levenshtein_v1: 0.2048\n",
      "Epoch 12/5000\n",
      "163/163 [==============================] - 9s 52ms/step - loss: 0.6878 - accuracy: 0.7928 - sparse_levenshtein_v1: 0.2055 - val_loss: 0.6707 - val_accuracy: 0.7957 - val_sparse_levenshtein_v1: 0.2036\n",
      "Epoch 13/5000\n",
      "163/163 [==============================] - 9s 52ms/step - loss: 0.6820 - accuracy: 0.7944 - sparse_levenshtein_v1: 0.2039 - val_loss: 0.6664 - val_accuracy: 0.7976 - val_sparse_levenshtein_v1: 0.2022\n",
      "Epoch 14/5000\n",
      "163/163 [==============================] - 9s 52ms/step - loss: 0.6743 - accuracy: 0.7968 - sparse_levenshtein_v1: 0.2014 - val_loss: 0.6544 - val_accuracy: 0.8009 - val_sparse_levenshtein_v1: 0.1979\n",
      "Epoch 15/5000\n",
      "163/163 [==============================] - 9s 52ms/step - loss: 0.6659 - accuracy: 0.7993 - sparse_levenshtein_v1: 0.1988 - val_loss: 0.6516 - val_accuracy: 0.8021 - val_sparse_levenshtein_v1: 0.1971\n",
      "Epoch 16/5000\n",
      "163/163 [==============================] - 9s 52ms/step - loss: 0.6589 - accuracy: 0.8018 - sparse_levenshtein_v1: 0.1963 - val_loss: 0.6408 - val_accuracy: 0.8061 - val_sparse_levenshtein_v1: 0.1927\n",
      "Epoch 17/5000\n",
      "163/163 [==============================] - 9s 52ms/step - loss: 0.6521 - accuracy: 0.8042 - sparse_levenshtein_v1: 0.1938 - val_loss: 0.6356 - val_accuracy: 0.8085 - val_sparse_levenshtein_v1: 0.1908\n",
      "Epoch 18/5000\n",
      "163/163 [==============================] - 9s 52ms/step - loss: 0.6466 - accuracy: 0.8065 - sparse_levenshtein_v1: 0.1916 - val_loss: 0.6289 - val_accuracy: 0.8110 - val_sparse_levenshtein_v1: 0.1878\n",
      "Epoch 19/5000\n",
      "163/163 [==============================] - 9s 53ms/step - loss: 0.6414 - accuracy: 0.8087 - sparse_levenshtein_v1: 0.1894 - val_loss: 0.6248 - val_accuracy: 0.8124 - val_sparse_levenshtein_v1: 0.1870\n",
      "Epoch 20/5000\n",
      "163/163 [==============================] - 9s 52ms/step - loss: 0.6360 - accuracy: 0.8110 - sparse_levenshtein_v1: 0.1870 - val_loss: 0.6158 - val_accuracy: 0.8164 - val_sparse_levenshtein_v1: 0.1827\n",
      "Epoch 21/5000\n",
      "163/163 [==============================] - 9s 52ms/step - loss: 0.6293 - accuracy: 0.8134 - sparse_levenshtein_v1: 0.1844 - val_loss: 0.6115 - val_accuracy: 0.8179 - val_sparse_levenshtein_v1: 0.1809\n",
      "Epoch 22/5000\n",
      "163/163 [==============================] - 9s 53ms/step - loss: 0.6235 - accuracy: 0.8157 - sparse_levenshtein_v1: 0.1823 - val_loss: 0.6039 - val_accuracy: 0.8206 - val_sparse_levenshtein_v1: 0.1785\n",
      "Epoch 23/5000\n",
      "163/163 [==============================] - 9s 52ms/step - loss: 0.6166 - accuracy: 0.8182 - sparse_levenshtein_v1: 0.1797 - val_loss: 0.6013 - val_accuracy: 0.8217 - val_sparse_levenshtein_v1: 0.1770\n",
      "Epoch 24/5000\n",
      "163/163 [==============================] - 9s 52ms/step - loss: 0.6119 - accuracy: 0.8199 - sparse_levenshtein_v1: 0.1780 - val_loss: 0.5986 - val_accuracy: 0.8228 - val_sparse_levenshtein_v1: 0.1760\n",
      "Epoch 25/5000\n",
      "163/163 [==============================] - 9s 52ms/step - loss: 0.6078 - accuracy: 0.8215 - sparse_levenshtein_v1: 0.1765 - val_loss: 0.5904 - val_accuracy: 0.8251 - val_sparse_levenshtein_v1: 0.1737\n",
      "Epoch 26/5000\n",
      "163/163 [==============================] - 9s 53ms/step - loss: 0.6022 - accuracy: 0.8238 - sparse_levenshtein_v1: 0.1741 - val_loss: 0.5815 - val_accuracy: 0.8283 - val_sparse_levenshtein_v1: 0.1701\n",
      "Epoch 27/5000\n",
      "163/163 [==============================] - 8s 52ms/step - loss: 0.5978 - accuracy: 0.8252 - sparse_levenshtein_v1: 0.1726 - val_loss: 0.5818 - val_accuracy: 0.8282 - val_sparse_levenshtein_v1: 0.1707\n",
      "Epoch 28/5000\n",
      "163/163 [==============================] - 9s 53ms/step - loss: 0.5929 - accuracy: 0.8269 - sparse_levenshtein_v1: 0.1709 - val_loss: 0.5710 - val_accuracy: 0.8322 - val_sparse_levenshtein_v1: 0.1666\n",
      "Epoch 29/5000\n",
      "163/163 [==============================] - 9s 52ms/step - loss: 0.5886 - accuracy: 0.8284 - sparse_levenshtein_v1: 0.1695 - val_loss: 0.5673 - val_accuracy: 0.8336 - val_sparse_levenshtein_v1: 0.1650\n",
      "Epoch 30/5000\n",
      "163/163 [==============================] - 8s 52ms/step - loss: 0.5843 - accuracy: 0.8298 - sparse_levenshtein_v1: 0.1682 - val_loss: 0.5700 - val_accuracy: 0.8322 - val_sparse_levenshtein_v1: 0.1666\n",
      "Epoch 31/5000\n",
      "163/163 [==============================] - 9s 53ms/step - loss: 0.5792 - accuracy: 0.8316 - sparse_levenshtein_v1: 0.1662 - val_loss: 0.5607 - val_accuracy: 0.8353 - val_sparse_levenshtein_v1: 0.1635\n",
      "Epoch 32/5000\n",
      "163/163 [==============================] - 9s 52ms/step - loss: 0.5741 - accuracy: 0.8335 - sparse_levenshtein_v1: 0.1644 - val_loss: 0.5578 - val_accuracy: 0.8362 - val_sparse_levenshtein_v1: 0.1627\n",
      "Epoch 33/5000\n",
      "163/163 [==============================] - 9s 53ms/step - loss: 0.5698 - accuracy: 0.8348 - sparse_levenshtein_v1: 0.1630 - val_loss: 0.5480 - val_accuracy: 0.8395 - val_sparse_levenshtein_v1: 0.1591\n",
      "Epoch 34/5000\n",
      "163/163 [==============================] - 8s 52ms/step - loss: 0.5657 - accuracy: 0.8361 - sparse_levenshtein_v1: 0.1617 - val_loss: 0.5559 - val_accuracy: 0.8373 - val_sparse_levenshtein_v1: 0.1614\n",
      "Epoch 35/5000\n",
      "163/163 [==============================] - 9s 52ms/step - loss: 0.5611 - accuracy: 0.8375 - sparse_levenshtein_v1: 0.1602 - val_loss: 0.5403 - val_accuracy: 0.8421 - val_sparse_levenshtein_v1: 0.1566\n",
      "Epoch 36/5000\n",
      "163/163 [==============================] - 9s 52ms/step - loss: 0.5571 - accuracy: 0.8390 - sparse_levenshtein_v1: 0.1589 - val_loss: 0.5351 - val_accuracy: 0.8435 - val_sparse_levenshtein_v1: 0.1548\n",
      "Epoch 37/5000\n",
      "163/163 [==============================] - 8s 52ms/step - loss: 0.5536 - accuracy: 0.8401 - sparse_levenshtein_v1: 0.1578 - val_loss: 0.5358 - val_accuracy: 0.8438 - val_sparse_levenshtein_v1: 0.1552\n",
      "Epoch 38/5000\n",
      "163/163 [==============================] - 8s 52ms/step - loss: 0.5487 - accuracy: 0.8416 - sparse_levenshtein_v1: 0.1562 - val_loss: 0.5380 - val_accuracy: 0.8426 - val_sparse_levenshtein_v1: 0.1562\n",
      "Epoch 39/5000\n",
      "163/163 [==============================] - 9s 52ms/step - loss: 0.5457 - accuracy: 0.8426 - sparse_levenshtein_v1: 0.1553 - val_loss: 0.5255 - val_accuracy: 0.8470 - val_sparse_levenshtein_v1: 0.1518\n",
      "Epoch 40/5000\n",
      "163/163 [==============================] - 9s 52ms/step - loss: 0.5437 - accuracy: 0.8433 - sparse_levenshtein_v1: 0.1547 - val_loss: 0.5257 - val_accuracy: 0.8462 - val_sparse_levenshtein_v1: 0.1527\n",
      "Epoch 41/5000\n",
      "163/163 [==============================] - 9s 52ms/step - loss: 0.5390 - accuracy: 0.8445 - sparse_levenshtein_v1: 0.1534 - val_loss: 0.5220 - val_accuracy: 0.8482 - val_sparse_levenshtein_v1: 0.1504\n",
      "Epoch 42/5000\n",
      "163/163 [==============================] - 9s 52ms/step - loss: 0.5373 - accuracy: 0.8453 - sparse_levenshtein_v1: 0.1527 - val_loss: 0.5157 - val_accuracy: 0.8506 - val_sparse_levenshtein_v1: 0.1478\n",
      "Epoch 43/5000\n",
      "163/163 [==============================] - 9s 52ms/step - loss: 0.5338 - accuracy: 0.8463 - sparse_levenshtein_v1: 0.1516 - val_loss: 0.5170 - val_accuracy: 0.8486 - val_sparse_levenshtein_v1: 0.1501\n",
      "Epoch 44/5000\n",
      "163/163 [==============================] - 9s 52ms/step - loss: 0.5315 - accuracy: 0.8470 - sparse_levenshtein_v1: 0.1510 - val_loss: 0.5109 - val_accuracy: 0.8509 - val_sparse_levenshtein_v1: 0.1479\n",
      "Epoch 45/5000\n",
      "163/163 [==============================] - 8s 52ms/step - loss: 0.5285 - accuracy: 0.8478 - sparse_levenshtein_v1: 0.1502 - val_loss: 0.5156 - val_accuracy: 0.8492 - val_sparse_levenshtein_v1: 0.1493\n",
      "Epoch 46/5000\n",
      "163/163 [==============================] - 9s 52ms/step - loss: 0.5260 - accuracy: 0.8488 - sparse_levenshtein_v1: 0.1493 - val_loss: 0.5131 - val_accuracy: 0.8510 - val_sparse_levenshtein_v1: 0.1479\n",
      "Epoch 47/5000\n",
      "163/163 [==============================] - 9s 52ms/step - loss: 0.5244 - accuracy: 0.8493 - sparse_levenshtein_v1: 0.1488 - val_loss: 0.5055 - val_accuracy: 0.8532 - val_sparse_levenshtein_v1: 0.1455\n",
      "Epoch 48/5000\n",
      "163/163 [==============================] - 9s 52ms/step - loss: 0.5215 - accuracy: 0.8499 - sparse_levenshtein_v1: 0.1481 - val_loss: 0.5019 - val_accuracy: 0.8543 - val_sparse_levenshtein_v1: 0.1443\n",
      "Epoch 49/5000\n",
      "163/163 [==============================] - 9s 52ms/step - loss: 0.5209 - accuracy: 0.8503 - sparse_levenshtein_v1: 0.1478 - val_loss: 0.5043 - val_accuracy: 0.8534 - val_sparse_levenshtein_v1: 0.1454\n",
      "Epoch 50/5000\n",
      "163/163 [==============================] - 9s 52ms/step - loss: 0.5168 - accuracy: 0.8515 - sparse_levenshtein_v1: 0.1466 - val_loss: 0.5026 - val_accuracy: 0.8535 - val_sparse_levenshtein_v1: 0.1451\n",
      "Epoch 51/5000\n",
      "163/163 [==============================] - 9s 53ms/step - loss: 0.5156 - accuracy: 0.8520 - sparse_levenshtein_v1: 0.1463 - val_loss: 0.4963 - val_accuracy: 0.8561 - val_sparse_levenshtein_v1: 0.1424\n",
      "Epoch 52/5000\n",
      "163/163 [==============================] - 9s 52ms/step - loss: 0.5127 - accuracy: 0.8530 - sparse_levenshtein_v1: 0.1452 - val_loss: 0.4950 - val_accuracy: 0.8565 - val_sparse_levenshtein_v1: 0.1422\n",
      "Epoch 53/5000\n",
      "163/163 [==============================] - 9s 52ms/step - loss: 0.5113 - accuracy: 0.8534 - sparse_levenshtein_v1: 0.1449 - val_loss: 0.4934 - val_accuracy: 0.8567 - val_sparse_levenshtein_v1: 0.1418\n",
      "Epoch 54/5000\n",
      "163/163 [==============================] - 9s 53ms/step - loss: 0.5075 - accuracy: 0.8545 - sparse_levenshtein_v1: 0.1438 - val_loss: 0.4907 - val_accuracy: 0.8579 - val_sparse_levenshtein_v1: 0.1409\n",
      "Epoch 55/5000\n",
      "163/163 [==============================] - 8s 52ms/step - loss: 0.5049 - accuracy: 0.8553 - sparse_levenshtein_v1: 0.1430 - val_loss: 0.4917 - val_accuracy: 0.8576 - val_sparse_levenshtein_v1: 0.1415\n",
      "Epoch 56/5000\n",
      "163/163 [==============================] - 9s 52ms/step - loss: 0.5041 - accuracy: 0.8557 - sparse_levenshtein_v1: 0.1426 - val_loss: 0.4837 - val_accuracy: 0.8600 - val_sparse_levenshtein_v1: 0.1388\n",
      "Epoch 57/5000\n",
      "163/163 [==============================] - 8s 52ms/step - loss: 0.5015 - accuracy: 0.8565 - sparse_levenshtein_v1: 0.1419 - val_loss: 0.4854 - val_accuracy: 0.8598 - val_sparse_levenshtein_v1: 0.1392\n",
      "Epoch 58/5000\n",
      "163/163 [==============================] - 9s 52ms/step - loss: 0.4961 - accuracy: 0.8583 - sparse_levenshtein_v1: 0.1401 - val_loss: 0.4741 - val_accuracy: 0.8629 - val_sparse_levenshtein_v1: 0.1361\n",
      "Epoch 59/5000\n",
      "163/163 [==============================] - 8s 52ms/step - loss: 0.4920 - accuracy: 0.8594 - sparse_levenshtein_v1: 0.1391 - val_loss: 0.4799 - val_accuracy: 0.8614 - val_sparse_levenshtein_v1: 0.1376\n",
      "Epoch 60/5000\n",
      "163/163 [==============================] - 8s 52ms/step - loss: 0.4900 - accuracy: 0.8602 - sparse_levenshtein_v1: 0.1383 - val_loss: 0.4848 - val_accuracy: 0.8600 - val_sparse_levenshtein_v1: 0.1393\n",
      "Epoch 61/5000\n",
      "163/163 [==============================] - 9s 52ms/step - loss: 0.4857 - accuracy: 0.8616 - sparse_levenshtein_v1: 0.1370 - val_loss: 0.4698 - val_accuracy: 0.8646 - val_sparse_levenshtein_v1: 0.1343\n",
      "Epoch 62/5000\n",
      "163/163 [==============================] - 8s 52ms/step - loss: 0.4838 - accuracy: 0.8622 - sparse_levenshtein_v1: 0.1365 - val_loss: 0.4852 - val_accuracy: 0.8611 - val_sparse_levenshtein_v1: 0.1379\n",
      "Epoch 63/5000\n",
      "163/163 [==============================] - 9s 52ms/step - loss: 0.4802 - accuracy: 0.8632 - sparse_levenshtein_v1: 0.1355 - val_loss: 0.4648 - val_accuracy: 0.8661 - val_sparse_levenshtein_v1: 0.1331\n",
      "Epoch 64/5000\n",
      "163/163 [==============================] - 8s 52ms/step - loss: 0.4783 - accuracy: 0.8639 - sparse_levenshtein_v1: 0.1348 - val_loss: 0.4696 - val_accuracy: 0.8649 - val_sparse_levenshtein_v1: 0.1342\n",
      "Epoch 65/5000\n",
      "163/163 [==============================] - 9s 52ms/step - loss: 0.4748 - accuracy: 0.8649 - sparse_levenshtein_v1: 0.1338 - val_loss: 0.4639 - val_accuracy: 0.8662 - val_sparse_levenshtein_v1: 0.1330\n",
      "Epoch 66/5000\n",
      "163/163 [==============================] - 9s 53ms/step - loss: 0.4699 - accuracy: 0.8665 - sparse_levenshtein_v1: 0.1323 - val_loss: 0.4574 - val_accuracy: 0.8680 - val_sparse_levenshtein_v1: 0.1312\n",
      "Epoch 67/5000\n",
      "163/163 [==============================] - 9s 52ms/step - loss: 0.4665 - accuracy: 0.8677 - sparse_levenshtein_v1: 0.1312 - val_loss: 0.4567 - val_accuracy: 0.8682 - val_sparse_levenshtein_v1: 0.1311\n",
      "Epoch 68/5000\n",
      "163/163 [==============================] - 9s 52ms/step - loss: 0.4653 - accuracy: 0.8681 - sparse_levenshtein_v1: 0.1308 - val_loss: 0.4492 - val_accuracy: 0.8710 - val_sparse_levenshtein_v1: 0.1281\n",
      "Epoch 69/5000\n",
      "163/163 [==============================] - 9s 52ms/step - loss: 0.4608 - accuracy: 0.8695 - sparse_levenshtein_v1: 0.1295 - val_loss: 0.4460 - val_accuracy: 0.8722 - val_sparse_levenshtein_v1: 0.1271\n",
      "Epoch 70/5000\n",
      "163/163 [==============================] - 9s 53ms/step - loss: 0.4570 - accuracy: 0.8705 - sparse_levenshtein_v1: 0.1284 - val_loss: 0.4435 - val_accuracy: 0.8729 - val_sparse_levenshtein_v1: 0.1265\n",
      "Epoch 71/5000\n",
      "163/163 [==============================] - 9s 52ms/step - loss: 0.4569 - accuracy: 0.8708 - sparse_levenshtein_v1: 0.1281 - val_loss: 0.4372 - val_accuracy: 0.8744 - val_sparse_levenshtein_v1: 0.1249\n",
      "Epoch 72/5000\n",
      "163/163 [==============================] - 8s 52ms/step - loss: 0.4519 - accuracy: 0.8721 - sparse_levenshtein_v1: 0.1269 - val_loss: 0.4375 - val_accuracy: 0.8742 - val_sparse_levenshtein_v1: 0.1251\n",
      "Epoch 73/5000\n",
      "163/163 [==============================] - 9s 52ms/step - loss: 0.4502 - accuracy: 0.8725 - sparse_levenshtein_v1: 0.1265 - val_loss: 0.4318 - val_accuracy: 0.8764 - val_sparse_levenshtein_v1: 0.1227\n",
      "Epoch 74/5000\n",
      "163/163 [==============================] - 8s 52ms/step - loss: 0.4468 - accuracy: 0.8737 - sparse_levenshtein_v1: 0.1254 - val_loss: 0.4338 - val_accuracy: 0.8755 - val_sparse_levenshtein_v1: 0.1239\n",
      "Epoch 75/5000\n",
      "163/163 [==============================] - 9s 53ms/step - loss: 0.4445 - accuracy: 0.8746 - sparse_levenshtein_v1: 0.1245 - val_loss: 0.4301 - val_accuracy: 0.8761 - val_sparse_levenshtein_v1: 0.1232\n",
      "Epoch 76/5000\n",
      "163/163 [==============================] - 9s 52ms/step - loss: 0.4424 - accuracy: 0.8751 - sparse_levenshtein_v1: 0.1240 - val_loss: 0.4287 - val_accuracy: 0.8768 - val_sparse_levenshtein_v1: 0.1226\n",
      "Epoch 77/5000\n",
      "163/163 [==============================] - 9s 53ms/step - loss: 0.4408 - accuracy: 0.8756 - sparse_levenshtein_v1: 0.1235 - val_loss: 0.4249 - val_accuracy: 0.8785 - val_sparse_levenshtein_v1: 0.1208\n",
      "Epoch 78/5000\n",
      "163/163 [==============================] - 9s 54ms/step - loss: 0.4391 - accuracy: 0.8762 - sparse_levenshtein_v1: 0.1229 - val_loss: 0.4248 - val_accuracy: 0.8782 - val_sparse_levenshtein_v1: 0.1210\n",
      "Epoch 79/5000\n",
      "163/163 [==============================] - 10s 59ms/step - loss: 0.4377 - accuracy: 0.8767 - sparse_levenshtein_v1: 0.1226 - val_loss: 0.4280 - val_accuracy: 0.8779 - val_sparse_levenshtein_v1: 0.1216\n",
      "Epoch 80/5000\n",
      "163/163 [==============================] - 10s 60ms/step - loss: 0.4352 - accuracy: 0.8773 - sparse_levenshtein_v1: 0.1219 - val_loss: 0.4212 - val_accuracy: 0.8797 - val_sparse_levenshtein_v1: 0.1197\n",
      "Epoch 81/5000\n",
      "163/163 [==============================] - 10s 60ms/step - loss: 0.4331 - accuracy: 0.8779 - sparse_levenshtein_v1: 0.1214 - val_loss: 0.4186 - val_accuracy: 0.8803 - val_sparse_levenshtein_v1: 0.1192\n",
      "Epoch 82/5000\n",
      "163/163 [==============================] - 10s 60ms/step - loss: 0.4314 - accuracy: 0.8785 - sparse_levenshtein_v1: 0.1208 - val_loss: 0.4161 - val_accuracy: 0.8810 - val_sparse_levenshtein_v1: 0.1183\n",
      "Epoch 83/5000\n",
      "163/163 [==============================] - 10s 60ms/step - loss: 0.4293 - accuracy: 0.8791 - sparse_levenshtein_v1: 0.1202 - val_loss: 0.4179 - val_accuracy: 0.8804 - val_sparse_levenshtein_v1: 0.1191\n",
      "Epoch 84/5000\n",
      "163/163 [==============================] - 10s 60ms/step - loss: 0.4295 - accuracy: 0.8792 - sparse_levenshtein_v1: 0.1201 - val_loss: 0.4146 - val_accuracy: 0.8812 - val_sparse_levenshtein_v1: 0.1181\n",
      "Epoch 85/5000\n",
      "163/163 [==============================] - 10s 60ms/step - loss: 0.4287 - accuracy: 0.8793 - sparse_levenshtein_v1: 0.1200 - val_loss: 0.4137 - val_accuracy: 0.8820 - val_sparse_levenshtein_v1: 0.1174\n",
      "Epoch 86/5000\n",
      "163/163 [==============================] - 10s 60ms/step - loss: 0.4267 - accuracy: 0.8799 - sparse_levenshtein_v1: 0.1193 - val_loss: 0.4155 - val_accuracy: 0.8810 - val_sparse_levenshtein_v1: 0.1184\n",
      "Epoch 87/5000\n",
      "163/163 [==============================] - 10s 60ms/step - loss: 0.4251 - accuracy: 0.8804 - sparse_levenshtein_v1: 0.1189 - val_loss: 0.4102 - val_accuracy: 0.8834 - val_sparse_levenshtein_v1: 0.1160\n",
      "Epoch 88/5000\n",
      "163/163 [==============================] - 10s 59ms/step - loss: 0.4244 - accuracy: 0.8805 - sparse_levenshtein_v1: 0.1188 - val_loss: 0.4131 - val_accuracy: 0.8819 - val_sparse_levenshtein_v1: 0.1176\n",
      "Epoch 89/5000\n",
      "163/163 [==============================] - 10s 60ms/step - loss: 0.4227 - accuracy: 0.8812 - sparse_levenshtein_v1: 0.1182 - val_loss: 0.4114 - val_accuracy: 0.8826 - val_sparse_levenshtein_v1: 0.1169\n",
      "Epoch 90/5000\n",
      "163/163 [==============================] - 10s 60ms/step - loss: 0.4227 - accuracy: 0.8811 - sparse_levenshtein_v1: 0.1182 - val_loss: 0.4155 - val_accuracy: 0.8816 - val_sparse_levenshtein_v1: 0.1180\n",
      "Epoch 91/5000\n",
      "163/163 [==============================] - 10s 59ms/step - loss: 0.4228 - accuracy: 0.8811 - sparse_levenshtein_v1: 0.1183 - val_loss: 0.4081 - val_accuracy: 0.8835 - val_sparse_levenshtein_v1: 0.1160\n",
      "Epoch 92/5000\n",
      "163/163 [==============================] - 10s 59ms/step - loss: 0.4213 - accuracy: 0.8815 - sparse_levenshtein_v1: 0.1178 - val_loss: 0.4105 - val_accuracy: 0.8830 - val_sparse_levenshtein_v1: 0.1166\n",
      "Epoch 93/5000\n",
      "163/163 [==============================] - 10s 59ms/step - loss: 0.4212 - accuracy: 0.8814 - sparse_levenshtein_v1: 0.1179 - val_loss: 0.4095 - val_accuracy: 0.8832 - val_sparse_levenshtein_v1: 0.1162\n",
      "Epoch 94/5000\n",
      "163/163 [==============================] - 10s 60ms/step - loss: 0.4192 - accuracy: 0.8823 - sparse_levenshtein_v1: 0.1171 - val_loss: 0.4059 - val_accuracy: 0.8842 - val_sparse_levenshtein_v1: 0.1153\n",
      "Epoch 95/5000\n",
      "163/163 [==============================] - 10s 59ms/step - loss: 0.4188 - accuracy: 0.8822 - sparse_levenshtein_v1: 0.1172 - val_loss: 0.4077 - val_accuracy: 0.8835 - val_sparse_levenshtein_v1: 0.1160\n",
      "Epoch 96/5000\n",
      "163/163 [==============================] - 10s 59ms/step - loss: 0.4177 - accuracy: 0.8825 - sparse_levenshtein_v1: 0.1169 - val_loss: 0.4040 - val_accuracy: 0.8849 - val_sparse_levenshtein_v1: 0.1145\n",
      "Epoch 97/5000\n",
      "163/163 [==============================] - 10s 59ms/step - loss: 0.4181 - accuracy: 0.8826 - sparse_levenshtein_v1: 0.1168 - val_loss: 0.4132 - val_accuracy: 0.8822 - val_sparse_levenshtein_v1: 0.1172\n",
      "Epoch 98/5000\n",
      "163/163 [==============================] - 10s 59ms/step - loss: 0.4164 - accuracy: 0.8830 - sparse_levenshtein_v1: 0.1164 - val_loss: 0.4042 - val_accuracy: 0.8848 - val_sparse_levenshtein_v1: 0.1146\n",
      "Epoch 99/5000\n",
      "163/163 [==============================] - 10s 60ms/step - loss: 0.4166 - accuracy: 0.8828 - sparse_levenshtein_v1: 0.1165 - val_loss: 0.4080 - val_accuracy: 0.8833 - val_sparse_levenshtein_v1: 0.1161\n",
      "Epoch 100/5000\n",
      "163/163 [==============================] - 10s 59ms/step - loss: 0.4163 - accuracy: 0.8830 - sparse_levenshtein_v1: 0.1164 - val_loss: 0.4059 - val_accuracy: 0.8839 - val_sparse_levenshtein_v1: 0.1155\n",
      "Epoch 101/5000\n",
      "163/163 [==============================] - 10s 60ms/step - loss: 0.4142 - accuracy: 0.8835 - sparse_levenshtein_v1: 0.1159 - val_loss: 0.4027 - val_accuracy: 0.8851 - val_sparse_levenshtein_v1: 0.1144\n",
      "Epoch 102/5000\n",
      "163/163 [==============================] - 10s 60ms/step - loss: 0.4142 - accuracy: 0.8836 - sparse_levenshtein_v1: 0.1158 - val_loss: 0.4068 - val_accuracy: 0.8840 - val_sparse_levenshtein_v1: 0.1155\n",
      "Epoch 103/5000\n",
      "163/163 [==============================] - 10s 59ms/step - loss: 0.4147 - accuracy: 0.8834 - sparse_levenshtein_v1: 0.1160 - val_loss: 0.4048 - val_accuracy: 0.8845 - val_sparse_levenshtein_v1: 0.1149\n",
      "Epoch 104/5000\n",
      "163/163 [==============================] - 10s 59ms/step - loss: 0.4133 - accuracy: 0.8838 - sparse_levenshtein_v1: 0.1156 - val_loss: 0.4023 - val_accuracy: 0.8856 - val_sparse_levenshtein_v1: 0.1139\n",
      "Epoch 105/5000\n",
      "163/163 [==============================] - 10s 59ms/step - loss: 0.4133 - accuracy: 0.8837 - sparse_levenshtein_v1: 0.1157 - val_loss: 0.4069 - val_accuracy: 0.8840 - val_sparse_levenshtein_v1: 0.1155\n",
      "Epoch 106/5000\n",
      "163/163 [==============================] - 10s 58ms/step - loss: 0.4145 - accuracy: 0.8834 - sparse_levenshtein_v1: 0.1160 - val_loss: 0.4034 - val_accuracy: 0.8852 - val_sparse_levenshtein_v1: 0.1142\n",
      "Epoch 107/5000\n",
      "163/163 [==============================] - 10s 60ms/step - loss: 0.4125 - accuracy: 0.8841 - sparse_levenshtein_v1: 0.1154 - val_loss: 0.4019 - val_accuracy: 0.8856 - val_sparse_levenshtein_v1: 0.1140\n",
      "Epoch 108/5000\n",
      "163/163 [==============================] - 10s 60ms/step - loss: 0.4091 - accuracy: 0.8851 - sparse_levenshtein_v1: 0.1144 - val_loss: 0.4032 - val_accuracy: 0.8849 - val_sparse_levenshtein_v1: 0.1146\n",
      "Epoch 109/5000\n",
      "163/163 [==============================] - 10s 59ms/step - loss: 0.4101 - accuracy: 0.8847 - sparse_levenshtein_v1: 0.1147 - val_loss: 0.4054 - val_accuracy: 0.8839 - val_sparse_levenshtein_v1: 0.1156\n",
      "Epoch 110/5000\n",
      "163/163 [==============================] - 10s 60ms/step - loss: 0.4087 - accuracy: 0.8851 - sparse_levenshtein_v1: 0.1143 - val_loss: 0.4015 - val_accuracy: 0.8853 - val_sparse_levenshtein_v1: 0.1142\n",
      "Epoch 111/5000\n",
      "163/163 [==============================] - 10s 60ms/step - loss: 0.4089 - accuracy: 0.8852 - sparse_levenshtein_v1: 0.1143 - val_loss: 0.4032 - val_accuracy: 0.8846 - val_sparse_levenshtein_v1: 0.1149\n",
      "Epoch 112/5000\n",
      "163/163 [==============================] - 9s 54ms/step - loss: 0.4100 - accuracy: 0.8848 - sparse_levenshtein_v1: 0.1146 - val_loss: 0.4007 - val_accuracy: 0.8858 - val_sparse_levenshtein_v1: 0.1138\n",
      "Epoch 113/5000\n",
      "163/163 [==============================] - 9s 53ms/step - loss: 0.4073 - accuracy: 0.8856 - sparse_levenshtein_v1: 0.1139 - val_loss: 0.3995 - val_accuracy: 0.8863 - val_sparse_levenshtein_v1: 0.1133\n",
      "Epoch 114/5000\n",
      "163/163 [==============================] - 9s 52ms/step - loss: 0.4073 - accuracy: 0.8855 - sparse_levenshtein_v1: 0.1139 - val_loss: 0.4035 - val_accuracy: 0.8847 - val_sparse_levenshtein_v1: 0.1148\n",
      "Epoch 115/5000\n",
      "163/163 [==============================] - 9s 53ms/step - loss: 0.4071 - accuracy: 0.8857 - sparse_levenshtein_v1: 0.1138 - val_loss: 0.3985 - val_accuracy: 0.8862 - val_sparse_levenshtein_v1: 0.1133\n",
      "Epoch 116/5000\n",
      "163/163 [==============================] - 9s 52ms/step - loss: 0.4075 - accuracy: 0.8856 - sparse_levenshtein_v1: 0.1139 - val_loss: 0.4010 - val_accuracy: 0.8856 - val_sparse_levenshtein_v1: 0.1140\n",
      "Epoch 117/5000\n",
      "163/163 [==============================] - 9s 52ms/step - loss: 0.4062 - accuracy: 0.8859 - sparse_levenshtein_v1: 0.1135 - val_loss: 0.4001 - val_accuracy: 0.8860 - val_sparse_levenshtein_v1: 0.1136\n",
      "Epoch 118/5000\n",
      "163/163 [==============================] - 9s 53ms/step - loss: 0.4057 - accuracy: 0.8858 - sparse_levenshtein_v1: 0.1136 - val_loss: 0.3956 - val_accuracy: 0.8872 - val_sparse_levenshtein_v1: 0.1123\n",
      "Epoch 119/5000\n",
      "163/163 [==============================] - 9s 52ms/step - loss: 0.4049 - accuracy: 0.8863 - sparse_levenshtein_v1: 0.1132 - val_loss: 0.3993 - val_accuracy: 0.8860 - val_sparse_levenshtein_v1: 0.1135\n",
      "Epoch 120/5000\n",
      "163/163 [==============================] - 9s 53ms/step - loss: 0.4052 - accuracy: 0.8861 - sparse_levenshtein_v1: 0.1134 - val_loss: 0.3943 - val_accuracy: 0.8879 - val_sparse_levenshtein_v1: 0.1116\n",
      "Epoch 121/5000\n",
      "163/163 [==============================] - 8s 52ms/step - loss: 0.4035 - accuracy: 0.8866 - sparse_levenshtein_v1: 0.1129 - val_loss: 0.3963 - val_accuracy: 0.8869 - val_sparse_levenshtein_v1: 0.1126\n",
      "Epoch 122/5000\n",
      "163/163 [==============================] - 9s 54ms/step - loss: 0.4045 - accuracy: 0.8862 - sparse_levenshtein_v1: 0.1132 - val_loss: 0.3948 - val_accuracy: 0.8876 - val_sparse_levenshtein_v1: 0.1119\n",
      "Epoch 123/5000\n",
      "163/163 [==============================] - 10s 59ms/step - loss: 0.4035 - accuracy: 0.8866 - sparse_levenshtein_v1: 0.1129 - val_loss: 0.3971 - val_accuracy: 0.8871 - val_sparse_levenshtein_v1: 0.1124\n",
      "Epoch 124/5000\n",
      "163/163 [==============================] - 10s 59ms/step - loss: 0.4024 - accuracy: 0.8868 - sparse_levenshtein_v1: 0.1127 - val_loss: 0.3944 - val_accuracy: 0.8876 - val_sparse_levenshtein_v1: 0.1120\n",
      "Epoch 125/5000\n",
      "163/163 [==============================] - 10s 59ms/step - loss: 0.4031 - accuracy: 0.8867 - sparse_levenshtein_v1: 0.1128 - val_loss: 0.3963 - val_accuracy: 0.8873 - val_sparse_levenshtein_v1: 0.1124\n",
      "Model: \"model\"\n",
      "__________________________________________________________________________________________________\n",
      " Layer (type)                Output Shape                 Param #   Connected to                  \n",
      "==================================================================================================\n",
      " source (InputLayer)         [(None, 128, 52)]            0         []                            \n",
      "                                                                                                  \n",
      " landmark_embedding_v2 (Lan  (None, 128, 64)              30592     ['source[0][0]']              \n",
      " dmarkEmbeddingV2)                                                                                \n",
      "                                                                                                  \n",
      " target (InputLayer)         [(None, 64)]                 0         []                            \n",
      "                                                                                                  \n",
      " transformer_encoder (Trans  (None, 128, 64)              76232     ['landmark_embedding_v2[0][0]'\n",
      " formerEncoder)                                                     ]                             \n",
      "                                                                                                  \n",
      " basic_positional_embedding  (None, 64, 64)               8128      ['target[0][0]']              \n",
      " s (BasicPositionalEmbeddin                                                                       \n",
      " gs)                                                                                              \n",
      "                                                                                                  \n",
      " transformer_decoder (Trans  (None, 64, 64)               151240    ['transformer_encoder[0][0]', \n",
      " formerDecoder)                                                      'basic_positional_embeddings[\n",
      "                                                                    0][0]']                       \n",
      "                                                                                                  \n",
      " dropout (Dropout)           (None, 64, 64)               0         ['transformer_decoder[0][0]'] \n",
      "                                                                                                  \n",
      " dense_layers_0 (Dense)      (None, 64, 52)               3380      ['dropout[0][0]']             \n",
      "                                                                                                  \n",
      " dense_layers_1 (Dense)      (None, 64, 52)               2756      ['dense_layers_0[0][0]']      \n",
      "                                                                                                  \n",
      " dropout_1 (Dropout)         (None, 64, 52)               0         ['dense_layers_1[0][0]']      \n",
      "                                                                                                  \n",
      " dense_4 (Dense)             (None, 64, 62)               3286      ['dropout_1[0][0]']           \n",
      "                                                                                                  \n",
      "==================================================================================================\n",
      "Total params: 275614 (1.05 MB)\n",
      "Trainable params: 275614 (1.05 MB)\n",
      "Non-trainable params: 0 (0.00 Byte)\n",
      "__________________________________________________________________________________________________\n",
      "None\n",
      "validation levenshtein distance: 0.20723961293697357\n",
      "Best hyperparameters: {'attention_heads': 8, 'learning_rate': 0.001317075938260822, 'drop_out_out_decoder': 0.30000000000000004, 'dense_layers': 2, 'drop_out': 0.1, 'encoder_kernel_size': 3}\n",
      "37/37 [==============================] - 1s 25ms/step - loss: 0.3943 - accuracy: 0.8879 - sparse_levenshtein_v1: 0.1116\n",
      "Metrics in Validation: [0.3943431079387665, 0.8879286646842957, 0.11158733069896698]\n"
     ]
    },
    {
     "name": "stderr",
     "output_type": "stream",
     "text": [
      "2023-08-24 23:36:08.249184: I tensorflow/core/framework/local_rendezvous.cc:405] Local rendezvous recv item cancelled. Key hash: 16533776562988928842\n",
      "2023-08-24 23:36:08.249211: I tensorflow/core/framework/local_rendezvous.cc:405] Local rendezvous recv item cancelled. Key hash: 14260007580078920616\n",
      "2023-08-24 23:36:08.249220: I tensorflow/core/framework/local_rendezvous.cc:409] Local rendezvous send item cancelled. Key hash: 5506292236489254894\n",
      "2023-08-24 23:36:08.249234: I tensorflow/core/framework/local_rendezvous.cc:405] Local rendezvous recv item cancelled. Key hash: 15945288258604837507\n",
      "2023-08-24 23:36:08.249250: I tensorflow/core/framework/local_rendezvous.cc:405] Local rendezvous recv item cancelled. Key hash: 4660884946457930735\n",
      "2023-08-24 23:36:08.249254: I tensorflow/core/framework/local_rendezvous.cc:409] Local rendezvous send item cancelled. Key hash: 1450848041232891035\n",
      "2023-08-24 23:36:08.249258: I tensorflow/core/framework/local_rendezvous.cc:405] Local rendezvous recv item cancelled. Key hash: 4490212254955814351\n",
      "2023-08-24 23:36:08.249262: I tensorflow/core/framework/local_rendezvous.cc:405] Local rendezvous recv item cancelled. Key hash: 13574546747563273057\n",
      "2023-08-24 23:36:08.249270: I tensorflow/core/framework/local_rendezvous.cc:405] Local rendezvous recv item cancelled. Key hash: 8398933894236897067\n"
     ]
    }
   ],
   "source": [
    "tf.keras.backend.clear_session()\n",
    "trials = study.best_trials\n",
    "\n",
    "for index, trial in enumerate(trials):\n",
    "    print(f\"Best model: {index+1}\")\n",
    "    model_name = \"v3\"\n",
    "\n",
    "    model = build_transformer_model_v2(trial=trial)\n",
    "    model.fit(train_dataset, validation_data=val_dataset, epochs=EPOCHS, callbacks=get_predefine_callbacks(model_name=model_name))\n",
    "    print(model.summary())\n",
    "\n",
    "    print('validation levenshtein distance: {}'.format(trial.value))\n",
    "    print(\"Best hyperparameters: {}\".format(trial.params))\n",
    "\n",
    "    model.load_weights(f\"../best_model/prototype/{model_name}\")\n",
    "\n",
    "    print(f\"Metrics in Validation: {model.evaluate(val_dataset)}\")"
   ]
  },
  {
   "cell_type": "code",
   "execution_count": 6,
   "metadata": {},
   "outputs": [
    {
     "name": "stdout",
     "output_type": "stream",
     "text": [
      "INFO:tensorflow:Assets written to: ../models/v3/assets\n"
     ]
    },
    {
     "name": "stderr",
     "output_type": "stream",
     "text": [
      "INFO:tensorflow:Assets written to: ../models/v3/assets\n"
     ]
    }
   ],
   "source": [
    "# save model\n",
    "\n",
    "model.save(\"../models/v3/\", save_format=\"tf\")"
   ]
  },
  {
   "cell_type": "code",
   "execution_count": 7,
   "metadata": {},
   "outputs": [],
   "source": [
    "from src.data_utils.dataset import char_to_num, num_to_char"
   ]
  },
  {
   "cell_type": "code",
   "execution_count": 8,
   "metadata": {},
   "outputs": [
    {
     "ename": "TypeError",
     "evalue": "tuple indices must be integers or slices, not str",
     "output_type": "error",
     "traceback": [
      "\u001b[0;31m---------------------------------------------------------------------------\u001b[0m",
      "\u001b[0;31mTypeError\u001b[0m                                 Traceback (most recent call last)",
      "Cell \u001b[0;32mIn[8], line 6\u001b[0m\n\u001b[1;32m      3\u001b[0m \u001b[39mfor\u001b[39;00m batch_index, batch \u001b[39min\u001b[39;00m \u001b[39menumerate\u001b[39m(val_dataset):\n\u001b[1;32m      4\u001b[0m     batch \u001b[39m=\u001b[39m batch[\u001b[39m0\u001b[39m]\n\u001b[0;32m----> 6\u001b[0m     sources \u001b[39m=\u001b[39m batch[\u001b[39m\"\u001b[39;49m\u001b[39msource\u001b[39;49m\u001b[39m\"\u001b[39;49m]\n\u001b[1;32m      7\u001b[0m     targets \u001b[39m=\u001b[39m batch[\u001b[39m\"\u001b[39m\u001b[39mtarget\u001b[39m\u001b[39m\"\u001b[39m]\n\u001b[1;32m      9\u001b[0m     \u001b[39mprint\u001b[39m(sources\u001b[39m.\u001b[39mshape)\n",
      "\u001b[0;31mTypeError\u001b[0m: tuple indices must be integers or slices, not str"
     ]
    }
   ],
   "source": [
    "target_sequence = [char_to_num[w] for w in [\"<\"]]\n",
    "\n",
    "for batch_index, batch in enumerate(val_dataset):\n",
    "    batch = batch[0]\n",
    "\n",
    "    sources = batch[\"source\"]\n",
    "    targets = batch[\"target\"]\n",
    "    \n",
    "    print(sources.shape)\n",
    "    print(targets.shape)\n",
    "\n",
    "    for index_sample, (source, target) in enumerate(zip(sources, targets)):\n",
    "        source = tf.expand_dims(source, axis=0)\n",
    "        target_sequence = [char_to_num[w] for w in [\"<\"]]\n",
    "        y_true = \"\".join([num_to_char[w] for w in target.numpy()])\n",
    "    \n",
    "        for i in range(TARGET_MAX_LENGHT):\n",
    "            next_token = tf.expand_dims(tf.pad(tf.constant(target_sequence), [[0, TARGET_MAX_LENGHT-len(target_sequence)]], mode='CONSTANT', constant_values=0, name=None), axis=0)\n",
    "\n",
    "            print(\"next target sequence to predict: \", next_token)\n",
    "\n",
    "            y_pred = model({\"source\": source, \"target\": next_token})\n",
    "\n",
    "            y_pred = tf.cast(tf.argmax(y_pred, axis=2), dtype=tf.int32)\n",
    "\n",
    "            print(\"argmax:\", y_pred)\n",
    "\n",
    "            mask = tf.not_equal(y_pred, 0)\n",
    "            next_token = y_pred[mask][-1].numpy()\n",
    "\n",
    "            target_sequence.append(next_token)\n",
    "\n",
    "            print(\"sequence so far: \", \"\".join([num_to_char[w] for w in target_sequence]))\n",
    "            print(\"Label: \", y_true)\n",
    "\n",
    "            if num_to_char[next_token]==\">\":\n",
    "                break\n",
    "\n",
    "        print(f\"================================={index_sample}=========================================\")\n",
    "        if index_sample==1:\n",
    "            break\n",
    "\n",
    "    if batch_index==1:\n",
    "        break"
   ]
  },
  {
   "cell_type": "code",
   "execution_count": 12,
   "metadata": {},
   "outputs": [],
   "source": [
    "from src.custom.metrics import SparseLevenshtein\n",
    "\n",
    "model_loaded = tf.keras.models.load_model(\"../models/v3/\", custom_objects={\"SparseLevenshtein\": SparseLevenshtein})"
   ]
  },
  {
   "cell_type": "code",
   "execution_count": 13,
   "metadata": {},
   "outputs": [],
   "source": [
    "#after register class as serializable\n",
    "model_loaded = tf.keras.models.load_model(\"../models/v3/\")"
   ]
  },
  {
   "cell_type": "markdown",
   "metadata": {},
   "source": [
    "# convert to tflite"
   ]
  },
  {
   "cell_type": "code",
   "execution_count": 11,
   "metadata": {},
   "outputs": [
    {
     "ename": "ImportError",
     "evalue": "cannot import name 'FEATURE_COLUMNS' from 'src.constants' (/home/matias/workspace/fingerspelling-recognition/src/constants.py)",
     "output_type": "error",
     "traceback": [
      "\u001b[0;31m---------------------------------------------------------------------------\u001b[0m",
      "\u001b[0;31mImportError\u001b[0m                               Traceback (most recent call last)",
      "Cell \u001b[0;32mIn[11], line 1\u001b[0m\n\u001b[0;32m----> 1\u001b[0m \u001b[39mfrom\u001b[39;00m \u001b[39msrc\u001b[39;00m\u001b[39m.\u001b[39;00m\u001b[39mconstants\u001b[39;00m \u001b[39mimport\u001b[39;00m FEATURE_COLUMNS\n\u001b[1;32m      2\u001b[0m \u001b[39mfrom\u001b[39;00m \u001b[39msrc\u001b[39;00m\u001b[39m.\u001b[39;00m\u001b[39mdata_utils\u001b[39;00m\u001b[39m.\u001b[39;00m\u001b[39mdataset\u001b[39;00m \u001b[39mimport\u001b[39;00m start_token_idx, end_token_idx\n\u001b[1;32m      5\u001b[0m \u001b[39mclass\u001b[39;00m \u001b[39mTFLiteModel\u001b[39;00m(tf\u001b[39m.\u001b[39mModule):\n",
      "\u001b[0;31mImportError\u001b[0m: cannot import name 'FEATURE_COLUMNS' from 'src.constants' (/home/matias/workspace/fingerspelling-recognition/src/constants.py)"
     ]
    }
   ],
   "source": [
    "from src.constants import FEATURE_COLUMNS\n",
    "from src.data_utils.dataset import start_token_idx, end_token_idx\n",
    "\n",
    "\n",
    "class TFLiteModel(tf.Module):\n",
    "    def __init__(self, model):\n",
    "        super(TFLiteModel, self).__init__()\n",
    "        self.target_start_token_idx = start_token_idx\n",
    "        self.target_end_token_idx = end_token_idx\n",
    "        # Load the feature generation and main models\n",
    "        self.model = model\n",
    "\n",
    "    @tf.function(input_signature=[tf.TensorSpec(shape=[None, len(FEATURE_COLUMNS)], dtype=tf.float32, name='inputs')])\n",
    "    def __call__(self, inputs, training=False):\n",
    "        # Preprocess Data\n",
    "        x = tf.cast(inputs, tf.float32)\n",
    "        x = x[None]\n",
    "        x = tf.cond(tf.shape(x)[1] == 0, lambda: tf.zeros((1, 1, len(FEATURE_COLUMNS))), lambda: tf.identity(x))\n",
    "        x = x[0]\n",
    "        x = pre_process(x)\n",
    "        x = x[None]\n",
    "        x = self.model.generate(x, self.target_start_token_idx)\n",
    "        x = x[0]\n",
    "        idx = tf.argmax(tf.cast(tf.equal(x, self.target_end_token_idx), tf.int32))\n",
    "        idx = tf.where(tf.math.less(idx, 1), tf.constant(2, dtype=tf.int64), idx)\n",
    "        x = x[1:idx]\n",
    "        x = tf.one_hot(x, 59)\n",
    "        return {'outputs': x}\n",
    "    \n",
    "tflitemodel_base = TFLiteModel(model)"
   ]
  },
  {
   "cell_type": "code",
   "execution_count": null,
   "metadata": {},
   "outputs": [],
   "source": []
  },
  {
   "cell_type": "code",
   "execution_count": null,
   "metadata": {},
   "outputs": [],
   "source": []
  },
  {
   "cell_type": "code",
   "execution_count": null,
   "metadata": {},
   "outputs": [],
   "source": []
  }
 ],
 "metadata": {
  "kernelspec": {
   "display_name": "fingerspelling",
   "language": "python",
   "name": "python3"
  },
  "language_info": {
   "codemirror_mode": {
    "name": "ipython",
    "version": 3
   },
   "file_extension": ".py",
   "mimetype": "text/x-python",
   "name": "python",
   "nbconvert_exporter": "python",
   "pygments_lexer": "ipython3",
   "version": "3.10.12"
  },
  "orig_nbformat": 4
 },
 "nbformat": 4,
 "nbformat_minor": 2
}
