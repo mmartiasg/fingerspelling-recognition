{
 "cells": [
  {
   "cell_type": "code",
   "execution_count": null,
   "metadata": {},
   "outputs": [],
   "source": [
    "%load_ext autoreload\n",
    "%autoreload 2\n",
    "\n",
    "import tensorflow as tf\n",
    "from src.custom.metrics import SparseLevenshtein, SparseLevenshteinV2"
   ]
  },
  {
   "cell_type": "code",
   "execution_count": null,
   "metadata": {},
   "outputs": [],
   "source": [
    "a = tf.constant([[1, 2, 3, 4, 0, 0 ,0]])\n",
    "b = tf.constant([[1, 2, 3, 4, 0, 0 ,0]])\n",
    "d = tf.constant([[1, 2, 5, 4, 0, 0 ,0]])"
   ]
  },
  {
   "cell_type": "code",
   "execution_count": null,
   "metadata": {},
   "outputs": [],
   "source": [
    "a_lenght = a.shape[1]\n",
    "b_lenght = b.shape[1]\n",
    "\n",
    "tf.math.reduce_sum(tf.cast(tf.not_equal(a, b), dtype=\"int32\"))"
   ]
  },
  {
   "cell_type": "markdown",
   "metadata": {},
   "source": []
  },
  {
   "cell_type": "code",
   "execution_count": null,
   "metadata": {},
   "outputs": [],
   "source": [
    "a_sparse = tf.sparse.from_dense(a)\n",
    "b_sparse = tf.sparse.from_dense(b)\n",
    "d_sparse = tf.sparse.from_dense(d)\n",
    "\n",
    "tf.edit_distance(a_sparse, b_sparse)"
   ]
  },
  {
   "cell_type": "code",
   "execution_count": null,
   "metadata": {},
   "outputs": [],
   "source": [
    "tf.edit_distance(a_sparse, d_sparse)"
   ]
  },
  {
   "cell_type": "code",
   "execution_count": null,
   "metadata": {},
   "outputs": [],
   "source": [
    "tf.cast(tf.argmax([[0.1, 0.3, 0.6], [0.2, 0.2, 0.6]]), dtype=tf.int32)"
   ]
  },
  {
   "cell_type": "code",
   "execution_count": null,
   "metadata": {},
   "outputs": [],
   "source": [
    "import numpy as np \n",
    "\n",
    "\n",
    "np.array([[0.9, 0.1, 0.0, 0.0, 0.0],\n",
    "           [0.0, 0.9, 0.1, 0.0, 0.0],\n",
    "           [0.0, 0.0, 1.0, 0.0, 0.0],\n",
    "           [0.0, 0.0, 0.0, 1.0, 0.0],\n",
    "           [1.0, 0.0, 0.0, 0.0, 0.0],\n",
    "           [1.0, 0.0, 0.0, 0.0, 0.0],\n",
    "           [1.0, 0.0, 0.0, 0.0, 0.0]])"
   ]
  },
  {
   "cell_type": "code",
   "execution_count": null,
   "metadata": {},
   "outputs": [],
   "source": [
    "a_true = tf.constant([[1, 2, 3, 4, 0, 0 ,0]])\n",
    "b_true = tf.constant([[1, 2, 3, 4, 0, 0 ,0]])\n",
    "d_true = tf.constant([[1, 2, 5, 4, 0, 0 ,0]])\n",
    "\n",
    "a_pred = tf.constant([[[0.9, 0.1, 0.0, 0.0, 0.0],\n",
    "           [0.0, 0.9, 0.1, 0.0, 0.0],\n",
    "           [0.0, 0.0, 1.0, 0.0, 0.0],\n",
    "           [0.0, 0.0, 0.0, 1.0, 0.0],\n",
    "           [1.0, 0.0, 0.0, 0.0, 0.0],\n",
    "           [1.0, 0.0, 0.0, 0.0, 0.0],\n",
    "           [1.0, 0.0, 0.0, 0.0, 0.0]]])\n",
    "\n",
    "lev_distv1 = SparseLevenshtein()\n",
    "lev_distv2 = SparseLevenshteinV2()"
   ]
  },
  {
   "cell_type": "code",
   "execution_count": null,
   "metadata": {},
   "outputs": [],
   "source": [
    "tf.shape(a_true)[0]"
   ]
  },
  {
   "cell_type": "code",
   "execution_count": null,
   "metadata": {},
   "outputs": [],
   "source": [
    "a_true.shape"
   ]
  },
  {
   "cell_type": "code",
   "execution_count": null,
   "metadata": {},
   "outputs": [],
   "source": [
    "a_pred.shape"
   ]
  },
  {
   "cell_type": "code",
   "execution_count": null,
   "metadata": {},
   "outputs": [],
   "source": [
    "tf.argmax(a_pred, axis=1)"
   ]
  },
  {
   "cell_type": "code",
   "execution_count": null,
   "metadata": {},
   "outputs": [],
   "source": [
    "tf.argmax(a_pred, axis=2)"
   ]
  },
  {
   "cell_type": "code",
   "execution_count": null,
   "metadata": {},
   "outputs": [],
   "source": [
    "lev_distv1(a_true, a_pred)"
   ]
  },
  {
   "cell_type": "code",
   "execution_count": null,
   "metadata": {},
   "outputs": [],
   "source": [
    "lev_distv2(a_true, a_pred)"
   ]
  },
  {
   "cell_type": "code",
   "execution_count": null,
   "metadata": {},
   "outputs": [],
   "source": [
    "#test\n",
    "model = build_transformer_model(trial=None)\n",
    "prediction = model.predict(({\"source\": tf.random.uniform(shape=(1, 120, 84)), \"target\":tf.random.uniform(shape=(1, 32))}))\n",
    "model.evaluate({\"source\": tf.random.uniform(shape=(1, 120, 84)), \"target\":tf.random.uniform(shape=(1, 32))}, tf.cast(tf.argmax(prediction, axis=2), dtype=tf.int32))"
   ]
  }
 ],
 "metadata": {
  "kernelspec": {
   "display_name": "tfm1",
   "language": "python",
   "name": "python3"
  },
  "language_info": {
   "codemirror_mode": {
    "name": "ipython",
    "version": 3
   },
   "file_extension": ".py",
   "mimetype": "text/x-python",
   "name": "python",
   "nbconvert_exporter": "python",
   "pygments_lexer": "ipython3",
   "version": "3.10.12"
  },
  "orig_nbformat": 4
 },
 "nbformat": 4,
 "nbformat_minor": 2
}
